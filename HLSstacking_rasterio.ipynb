{
 "cells": [
  {
   "cell_type": "code",
   "execution_count": 1,
   "id": "140d6879",
   "metadata": {},
   "outputs": [],
   "source": [
    "from datetime import datetime as dt\n",
    "\n",
    "import geopandas as gpd\n",
    "import numpy as np\n",
    "\n",
    "from pathlib import Path\n",
    "\n",
    "import pandas as pd\n",
    "from pprint import pprint\n",
    "\n",
    "\n",
    "\n",
    "\n",
    "\n",
    "from src import hls_tools as hls\n",
    "from src import rio_tools as rt"
   ]
  },
  {
   "cell_type": "code",
   "execution_count": 2,
   "id": "5d2183f3",
   "metadata": {},
   "outputs": [],
   "source": [
    "PARENT_DIR = Path(r\"/home/iborlafm/Downloads/Mozambique/hls\")"
   ]
  },
  {
   "cell_type": "code",
   "execution_count": 3,
   "id": "55371e32",
   "metadata": {},
   "outputs": [],
   "source": [
    "aoi = gpd.read_file(PARENT_DIR / \"extent.geojson\")\n",
    "geom = aoi.loc[0, \"geometry\"]"
   ]
  },
  {
   "cell_type": "markdown",
   "id": "0ac8cd62",
   "metadata": {},
   "source": [
    "## List the available files"
   ]
  },
  {
   "cell_type": "code",
   "execution_count": 4,
   "id": "a2cbc45a",
   "metadata": {},
   "outputs": [],
   "source": [
    "uri_frame = hls.tabulate_hls_uris(PARENT_DIR.rglob(\"HLS.*tif\"))"
   ]
  },
  {
   "cell_type": "markdown",
   "id": "0a9afce2",
   "metadata": {},
   "source": [
    "## Reshape the frame, rename, dump non-shared bands"
   ]
  },
  {
   "cell_type": "code",
   "execution_count": 5,
   "id": "0b02a95b",
   "metadata": {},
   "outputs": [],
   "source": [
    "both_frame = hls.harmonize_hls_frame(uri_frame)"
   ]
  },
  {
   "cell_type": "markdown",
   "id": "26d7b05d",
   "metadata": {},
   "source": [
    "## Clip and stack the rasters"
   ]
  },
  {
   "cell_type": "code",
   "execution_count": 6,
   "id": "cea91586",
   "metadata": {},
   "outputs": [],
   "source": [
    "selected_columns = [\"Blue\", \"Green\", \"Red\", \"NIRnarrow\", \"SWIR1\", \"SWIR2\"]"
   ]
  },
  {
   "cell_type": "code",
   "execution_count": 7,
   "id": "138e50dd",
   "metadata": {},
   "outputs": [],
   "source": [
    "for observation_name, observation_files in both_frame.iterrows():\n",
    "\n",
    "    rt.write_raster(\n",
    "        *rt.clipped_read(observation_files[selected_columns], aoi),\n",
    "        (PARENT_DIR / f\"{observation_name}_bands.tif\")\n",
    "    )\n",
    "\n",
    "    rt.write_raster(\n",
    "        *rt.clipped_read(observation_files[[\"Fmask\"]], aoi),\n",
    "        (PARENT_DIR / f\"{observation_name}_Fmask.tif\")\n",
    "    )"
   ]
  }
 ],
 "metadata": {
  "kernelspec": {
   "display_name": "base",
   "language": "python",
   "name": "python3"
  },
  "language_info": {
   "codemirror_mode": {
    "name": "ipython",
    "version": 3
   },
   "file_extension": ".py",
   "mimetype": "text/x-python",
   "name": "python",
   "nbconvert_exporter": "python",
   "pygments_lexer": "ipython3",
   "version": "3.12.8"
  }
 },
 "nbformat": 4,
 "nbformat_minor": 5
}
