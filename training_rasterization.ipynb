{
 "cells": [
  {
   "cell_type": "code",
   "execution_count": 1,
   "id": "e0af5694",
   "metadata": {},
   "outputs": [],
   "source": [
    "import geopandas as gpd\n",
    "from matplotlib import pyplot as plt\n",
    "import numpy as np\n",
    "from rasterio import Affine\n",
    "from rasterio.features import rasterize\n",
    "import xarray as xr"
   ]
  },
  {
   "cell_type": "markdown",
   "id": "c20f2819",
   "metadata": {},
   "source": [
    "## Open the mosaics and the polygons"
   ]
  },
  {
   "cell_type": "code",
   "execution_count": 2,
   "id": "ec5b625e",
   "metadata": {},
   "outputs": [],
   "source": [
    "feature_cube = xr.open_dataset(\"/home/iborlafm/Downloads/Mozambique/hls/HLS_T36KXE_2018_b30_v2.0.nc\")"
   ]
  },
  {
   "cell_type": "code",
   "execution_count": 3,
   "id": "cb7a8b3a",
   "metadata": {},
   "outputs": [],
   "source": [
    "slivers = gpd.read_file(\"/home/iborlafm/Downloads/Mozambique/hls/examplePolygons.gpkg\")"
   ]
  },
  {
   "cell_type": "markdown",
   "id": "dd5e1d3e",
   "metadata": {},
   "source": [
    "## Prepare the crs and the affine from the mosaic"
   ]
  },
  {
   "cell_type": "code",
   "execution_count": 4,
   "id": "03d8d039",
   "metadata": {},
   "outputs": [],
   "source": [
    "spatial_ref = feature_cube[\"spatial_ref\"].attrs\n",
    "crs = spatial_ref[\"crs_wkt\"]\n",
    "affine = Affine.from_gdal(*[float(f) for f in spatial_ref['GeoTransform'].split(\" \")])"
   ]
  },
  {
   "cell_type": "markdown",
   "id": "1dea2278",
   "metadata": {},
   "source": [
    "## Rasterize to array, convert to data array"
   ]
  },
  {
   "cell_type": "code",
   "execution_count": 5,
   "id": "92794b28",
   "metadata": {},
   "outputs": [],
   "source": [
    "# https://rasterio.readthedocs.io/en/stable/api/rasterio.features.html#rasterio.features.rasterize\n",
    "rst = rasterize(\n",
    "    shapes = slivers.to_crs(crs)[[\"geometry\", \"class_id\"]].to_records(index=False).tolist(),\n",
    "    out_shape=feature_cube[\"Red\"].shape[1:],\n",
    "    transform=affine\n",
    ")"
   ]
  },
  {
   "cell_type": "code",
   "execution_count": 6,
   "id": "5bb5161c",
   "metadata": {},
   "outputs": [],
   "source": [
    "label_cube = xr.DataArray(rst, coords={\"y\": feature_cube.y, \"x\": feature_cube.x}, name=\"class_id\")"
   ]
  },
  {
   "cell_type": "markdown",
   "id": "f22293c6",
   "metadata": {},
   "source": [
    "## flatten the input features"
   ]
  },
  {
   "cell_type": "code",
   "execution_count": 7,
   "id": "b55c0187",
   "metadata": {},
   "outputs": [],
   "source": [
    "feature_frame = feature_cube.drop_vars(\"spatial_ref\").to_dataframe().dropna().unstack(level=\"quantile\")"
   ]
  },
  {
   "cell_type": "markdown",
   "id": "dd969750",
   "metadata": {},
   "source": [
    "### Rename the columns to a single level"
   ]
  },
  {
   "cell_type": "code",
   "execution_count": 8,
   "id": "2d605240",
   "metadata": {},
   "outputs": [],
   "source": [
    "feature_frame.columns = [f\"{c[0]}_P{np.round(100 * c[1], 0).astype(int):03}\" for c in feature_frame.columns]"
   ]
  },
  {
   "cell_type": "markdown",
   "id": "2fe00e84",
   "metadata": {},
   "source": [
    "## Flatten the labels"
   ]
  },
  {
   "cell_type": "code",
   "execution_count": 9,
   "id": "f5d28408",
   "metadata": {},
   "outputs": [],
   "source": [
    "label_frame = label_cube.to_dataframe()"
   ]
  },
  {
   "cell_type": "markdown",
   "id": "1b8f436c",
   "metadata": {},
   "source": [
    "## Drop rows with no label (class_id == 0), and join the features"
   ]
  },
  {
   "cell_type": "code",
   "execution_count": 10,
   "id": "7ee5a31c",
   "metadata": {},
   "outputs": [],
   "source": [
    "train_frame = label_frame[label_frame[\"class_id\"] != 0].join(feature_frame)"
   ]
  },
  {
   "cell_type": "markdown",
   "id": "bdc7e8ab",
   "metadata": {},
   "source": [
    "## Re-fold to xarray object"
   ]
  },
  {
   "cell_type": "code",
   "execution_count": 11,
   "id": "99d11eaa",
   "metadata": {},
   "outputs": [],
   "source": [
    "train_cube = train_frame.to_xarray()"
   ]
  },
  {
   "cell_type": "code",
   "execution_count": 12,
   "id": "99e41bf3",
   "metadata": {},
   "outputs": [
    {
     "data": {
      "text/plain": [
       "<matplotlib.image.AxesImage at 0x7fecd4e0e750>"
      ]
     },
     "execution_count": 12,
     "metadata": {},
     "output_type": "execute_result"
    },
    {
     "data": {
      "image/png": "[encoded data removed]",
      "text/plain": [
       "<Figure size 640x480 with 2 Axes>"
      ]
     },
     "metadata": {},
     "output_type": "display_data"
    }
   ],
   "source": [
    "train_cube[\"Red_P000\"].plot.imshow()"
   ]
  }
 ],
 "metadata": {
  "kernelspec": {
   "display_name": "environmental-remote-sensing",
   "language": "python",
   "name": "python3"
  },
  "language_info": {
   "codemirror_mode": {
    "name": "ipython",
    "version": 3
   },
   "file_extension": ".py",
   "mimetype": "text/x-python",
   "name": "python",
   "nbconvert_exporter": "python",
   "pygments_lexer": "ipython3",
   "version": "3.11.13"
  }
 },
 "nbformat": 4,
 "nbformat_minor": 5
}
