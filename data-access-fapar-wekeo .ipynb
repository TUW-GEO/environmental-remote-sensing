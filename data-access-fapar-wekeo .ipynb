{
 "cells": [
  {
   "cell_type": "markdown",
   "id": "0",
   "metadata": {},
   "source": [
    "# Access to Fraction of Absorbed Photosynthetically Active Radiation\n",
    "**Downloading, Reading and Working with Copernicus FAPAR** \n",
    "\n",
    "\n",
    "## Overview\n",
    "\n",
    "\n",
    "## Imports"
   ]
  },
  {
   "cell_type": "code",
   "execution_count": null,
   "id": "1",
   "metadata": {},
   "outputs": [],
   "source": [
    "import os\n",
    "\n",
    "import cartopy.crs as ccrs\n",
    "import hvplot.xarray  # noqa\n",
    "import rioxarray  # noqa\n",
    "import xarray as xr\n",
    "from dotenv import dotenv_values\n",
    "from hda import Client, Configuration"
   ]
  },
  {
   "cell_type": "code",
   "execution_count": null,
   "id": "2",
   "metadata": {},
   "outputs": [],
   "source": [
    "conf = Configuration(\n",
    "    user=dotenv_values(\".env\")[\"USER_WEKEO\"],\n",
    "    password=dotenv_values(\".env\")[\"PASS_WEKEO\"],\n",
    ")\n",
    "hda_client = Client(config=conf)"
   ]
  },
  {
   "cell_type": "code",
   "execution_count": null,
   "id": "3",
   "metadata": {},
   "outputs": [],
   "source": [
    "query = {\n",
    "    \"dataset_id\": \"EO:CLMS:DAT:CLMS_GLOBAL_FAPAR_300M_V1_10DAILY_NETCDF\",\n",
    "    \"productGroupId\": \"RT6\",\n",
    "    \"bbox\": [\n",
    "        32.9,\n",
    "        -18.1,\n",
    "        34.4,\n",
    "        -19.6,\n",
    "    ],\n",
    "    \"startdate\": \"2025-07-10T00:00:00.000Z\",\n",
    "    \"enddate\": \"2025-07-11T00:59:59.999Z\",\n",
    "    \"itemsPerPage\": 200,\n",
    "    \"startIndex\": 0,\n",
    "}\n",
    "\n",
    "matches = hda_client.search(query)\n",
    "\n",
    "print(matches)"
   ]
  },
  {
   "cell_type": "code",
   "execution_count": null,
   "id": "4",
   "metadata": {},
   "outputs": [],
   "source": [
    "%%capture\n",
    "\n",
    "local_path = \"cgls_fapar_300\"\n",
    "\n",
    "if not os.path.isdir(local_path):\n",
    "    os.mkdir(local_path)\n",
    "\n",
    "matches.download(download_dir=local_path)"
   ]
  },
  {
   "cell_type": "code",
   "execution_count": null,
   "id": "5",
   "metadata": {},
   "outputs": [],
   "source": [
    "ds = (\n",
    "    xr.open_mfdataset(\n",
    "        \"cgls_fapar_300/*.nc\",\n",
    "        combine=\"nested\",\n",
    "        concat_dim=\"time\",\n",
    "        parallel=True,\n",
    "        chunks={\"time\": 1, \"lat\": 3000, \"lon\": 3000},\n",
    "    )\n",
    "    .rio.write_crs(\"EPSG:4326\")\n",
    "    .rio.clip_box(\n",
    "        32.9,\n",
    "        -19.6,\n",
    "        34.4,\n",
    "        -18.1,\n",
    "    )\n",
    ")\n",
    "ds"
   ]
  },
  {
   "cell_type": "code",
   "execution_count": null,
   "id": "6",
   "metadata": {},
   "outputs": [],
   "source": [
    "ds.FAPAR.hvplot.image(\n",
    "    x=\"lon\",\n",
    "    y=\"lat\",\n",
    "    rasterize=True,\n",
    "    crs=ccrs.PlateCarree(),\n",
    "    tiles=True,\n",
    "    frame_width=500,\n",
    "    clabel=\"Fraction of Absorbed Photosynthetically Active Radiation\",\n",
    ")"
   ]
  }
 ],
 "metadata": {
  "kernelspec": {
   "display_name": "Python 3",
   "language": "python",
   "name": "python3"
  },
  "language_info": {
   "codemirror_mode": {
    "name": "ipython",
    "version": 3
   },
   "file_extension": ".py",
   "mimetype": "text/x-python",
   "name": "python",
   "nbconvert_exporter": "python",
   "pygments_lexer": "ipython3",
   "version": "3.11.13"
  }
 },
 "nbformat": 4,
 "nbformat_minor": 5
}
