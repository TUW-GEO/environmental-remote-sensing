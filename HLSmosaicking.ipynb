{
 "cells": [
  {
   "cell_type": "code",
   "execution_count": 1,
   "id": "4d35f0a4",
   "metadata": {},
   "outputs": [],
   "source": [
    "from datetime import datetime as dt\n",
    "import numpy as np\n",
    "from pathlib import Path\n",
    "import re\n",
    "import rioxarray as rxr\n",
    "import xarray as xr"
   ]
  },
  {
   "cell_type": "code",
   "execution_count": 2,
   "id": "a89c736d",
   "metadata": {},
   "outputs": [],
   "source": [
    "def att2time(att):\n",
    "    if (\";\" in att) or (\"+\" in att):\n",
    "        split_time = re.split(\"\\s?[\\+\\;]\\s\", att)\n",
    "        start, end = [dt.fromisoformat(s[:-1]) for s in split_time]\n",
    "        time = start + (end - start)/2\n",
    "    else:\n",
    "        time = dt.fromisoformat(att[:-1])\n",
    "    return time"
   ]
  },
  {
   "cell_type": "code",
   "execution_count": 3,
   "id": "7956af9b",
   "metadata": {},
   "outputs": [],
   "source": [
    "# %xmode minimal"
   ]
  },
  {
   "cell_type": "code",
   "execution_count": 4,
   "id": "e21771c2",
   "metadata": {},
   "outputs": [],
   "source": [
    "PARENT_DIR = Path(r\"/home/iborlafm/Downloads/Mozambique/hls\")\n",
    "\n",
    "IN_DIR = PARENT_DIR / \"automated\""
   ]
  },
  {
   "cell_type": "markdown",
   "id": "f91ceefd",
   "metadata": {},
   "source": [
    "## List the files"
   ]
  },
  {
   "cell_type": "code",
   "execution_count": 5,
   "id": "ba90b6c9",
   "metadata": {},
   "outputs": [],
   "source": [
    "product, tile, res, version = \"HLS\", \"T36KXE\", \"30\", \"v2.0\"\n",
    "\n",
    "band_paths = sorted(IN_DIR.glob(f\"{product}_{tile}_*{res}_{version}_bands.tif\"))"
   ]
  },
  {
   "cell_type": "code",
   "execution_count": 6,
   "id": "d771ef57",
   "metadata": {},
   "outputs": [],
   "source": [
    "fmask_paths = [p.parent / p.name.replace(\"_bands\", \"_fmask\") for p in band_paths]"
   ]
  },
  {
   "cell_type": "markdown",
   "id": "07ca4d73",
   "metadata": {},
   "source": [
    "## Preprocess the Fmask"
   ]
  },
  {
   "cell_type": "code",
   "execution_count": 7,
   "id": "c2b161c8",
   "metadata": {},
   "outputs": [],
   "source": [
    "def preprocess_fmask(fmask):\n",
    "\n",
    "    debanded = fmask[\"band_data\"]\n",
    "    bits = xr.apply_ufunc(\n",
    "        np.unpackbits,\n",
    "        debanded,\n",
    "        input_core_dims=[[\"band\", \"y\", \"x\"]],\n",
    "        output_core_dims=[[\"flag\", \"y\", \"x\"]],\n",
    "        exclude_dims=set([\"band\"]),\n",
    "        keep_attrs=True,\n",
    "        kwargs={\"axis\": 0},\n",
    "        dask=\"allowed\"\n",
    "    )\n",
    "\n",
    "    # Convert the flags to bool, set the names\n",
    "    flags = bits.sel(flag=slice(2, 9)).astype(bool)\n",
    "    flags[\"flag\"] = [\n",
    "        \"water\", \"snow/ice\",\n",
    "        \"cloud shadow\", \"adjacent to cloud\", \"cloud\", \"cirrus cloud\"\n",
    "    ]\n",
    "    flags.name = \"masks\"\n",
    "\n",
    "    # Convert the aerosol data, set the name\n",
    "    aerosol_parts = bits.sel(flag=slice(0, 2))\n",
    "    aerosol = (\n",
    "        (aerosol_parts.sel(flag=1) + 10 * aerosol_parts.sel(flag=0))\n",
    "        )\n",
    "    aerosol.name = \"aerosol\"\n",
    "\n",
    "    # set the time\n",
    "    time = att2time(debanded.attrs[\"SENSING_TIME\"])\n",
    "    return xr.merge([flags, aerosol]).expand_dims({\"time\": [time]}, axis=0)\n",
    "\n",
    "# flags = preprocess_fmask(fmask)"
   ]
  },
  {
   "cell_type": "code",
   "execution_count": 8,
   "id": "fa794499",
   "metadata": {},
   "outputs": [],
   "source": [
    "fmask = xr.open_mfdataset(\n",
    "    fmask_paths,\n",
    "    chunks=\"auto\",\n",
    "    concat_dim=\"time\",\n",
    "    combine=\"nested\",\n",
    "    preprocess=preprocess_fmask,\n",
    "    mask_and_scale=False,\n",
    "    engine=\"rasterio\",\n",
    "    parallel=True\n",
    "    )"
   ]
  },
  {
   "cell_type": "markdown",
   "id": "db72d6e2",
   "metadata": {},
   "source": [
    "## Preprocess the bands"
   ]
  },
  {
   "cell_type": "code",
   "execution_count": 9,
   "id": "7bb3d170",
   "metadata": {},
   "outputs": [],
   "source": [
    "def preprocess_bands(bands):\n",
    "\n",
    "    # Set the band names\n",
    "    renames = {}\n",
    "    for var_name in bands.keys():\n",
    "        renames[var_name] = bands[var_name].attrs[\"long_name\"]\n",
    "    \n",
    "    # Set the time\n",
    "    time = att2time(bands.attrs[\"SENSING_TIME\"])\n",
    "    return bands.rename_vars(renames).expand_dims({\"time\": [time]})\n"
   ]
  },
  {
   "cell_type": "code",
   "execution_count": 10,
   "id": "6acbead3",
   "metadata": {},
   "outputs": [],
   "source": [
    "bands = xr.open_mfdataset(\n",
    "    band_paths,\n",
    "    chunks=\"auto\",\n",
    "    concat_dim=\"time\",\n",
    "    combine=\"nested\",\n",
    "    preprocess=preprocess_bands,\n",
    "    # mask_and_scale=False,\n",
    "    engine=\"rasterio\",\n",
    "    parallel=True,\n",
    "    band_as_variable=True,\n",
    "    )"
   ]
  },
  {
   "cell_type": "markdown",
   "id": "5b9a0d9c",
   "metadata": {},
   "source": [
    "## Make a raster definition"
   ]
  },
  {
   "cell_type": "code",
   "execution_count": 11,
   "id": "b49b5fd2",
   "metadata": {},
   "outputs": [],
   "source": [
    "example_bands = rxr.open_rasterio(band_paths[0])#.encoding\n",
    "\n",
    "example_attrs = example_bands.attrs\n",
    "example_encoding = example_bands.encoding\n",
    "\n",
    "crs = example_bands.rio.crs\n",
    "transform = example_bands.rio.transform()"
   ]
  },
  {
   "cell_type": "code",
   "execution_count": 12,
   "id": "45a6cfc7",
   "metadata": {},
   "outputs": [],
   "source": [
    "nc_keywords = [\n",
    "    'significant_digits', 'complevel', 'contiguous', 'szip_coding', 'fletcher32',\n",
    "    'shuffle', 'quantize_mode', 'zlib', 'endian', 'chunksizes', 'szip_pixels_per_block',\n",
    "    'blosc_shuffle', '_FillValue', 'dtype', 'compression', 'least_significant_digit'\n",
    "]\n",
    "\n",
    "# att_keywords = [\"grid_mapping\", \"_FillValue\"] # \"add_offset\", \"scale_factor\",  "
   ]
  },
  {
   "cell_type": "markdown",
   "id": "1b4f974b",
   "metadata": {},
   "source": [
    "## Mask and make the yearly mosaics"
   ]
  },
  {
   "cell_type": "code",
   "execution_count": 13,
   "id": "bfa59818",
   "metadata": {},
   "outputs": [],
   "source": [
    "first_year = bands[\"time\"].min().dt.year.item()\n",
    "last_year = bands[\"time\"].max().dt.year.item()"
   ]
  },
  {
   "cell_type": "code",
   "execution_count": null,
   "id": "6d109a07",
   "metadata": {},
   "outputs": [],
   "source": [
    "out_attrs = {\n",
    "    #'unit': '%',\n",
    "    # 'long_name': 'Quality Flag',\n",
    "    #'Class': 'DATA',\n",
    "    # 'grid_mapping': example_encoding[\"grid_mapping\"],\n",
    "    #'coordinates': 'time lat lon',\n",
    "    'add_offset': example_attrs[\"add_offset\"],\n",
    "    'scale_factor': example_attrs[\"scale_factor\"],\n",
    "    #'valid_range': [0, 200]\n",
    "    }\n",
    "\n",
    "out_encoding = {\n",
    "    'dtype': example_encoding[\"rasterio_dtype\"],\n",
    "    #'add_offset': example_attrs[\"add_offset\"],\n",
    "    #'scale_factor': example_attrs[\"scale_factor\"],\n",
    "    '_FillValue': example_attrs[\"_FillValue\"],\n",
    "    \"zlib\": True,\n",
    "\n",
    "}\n",
    "\n",
    "# What to exclude\n",
    "cloud_flags = ['cloud shadow', 'adjacent to cloud', 'cloud', 'cirrus cloud']\n",
    "\n",
    "# For every year\n",
    "for target_year in range(first_year, last_year + 1):\n",
    "\n",
    "    out_path = PARENT_DIR / f\"{product}_{tile}_{target_year}_b{res}_{version}.nc\"\n",
    "    if out_path.exists():\n",
    "        continue\n",
    "    \n",
    "    # define what to mask\n",
    "    is_cloudy = (\n",
    "        fmask[\"masks\"]\n",
    "        .sel(time=(fmask.time.dt.year == target_year), flag=cloud_flags)\n",
    "        .any(dim=\"flag\")\n",
    "        )\n",
    "    \n",
    "    # Mask the bands, calculate the quantiles\n",
    "    quantiles = (\n",
    "        bands.sel(time=(bands.time.dt.year == target_year))\n",
    "        .sortby(\"time\")\n",
    "        .where(np.logical_not(is_cloudy))\n",
    "        # .resample({\"time\": \"YS\"})\n",
    "        .quantile(np.arange(0, 1.01, .1), dim=\"time\", skipna=True)\n",
    "        .sortby(\"y\", ascending=False)\n",
    "    )\n",
    "\n",
    "    # Apply the scaling\n",
    "    scaled = (\n",
    "        (quantiles/out_attrs[\"scale_factor\"])\n",
    "        .rio.write_crs(crs)\n",
    "        .rio.write_transform(transform)\n",
    "        )\n",
    "    \n",
    "    # set the attributes and the encoding\n",
    "    for band_name in quantiles.keys():\n",
    "\n",
    "        scaled[band_name].attrs.update(long_name=band_name, **out_attrs)\n",
    "        scaled[band_name].encoding.update(**out_encoding)\n",
    "\n",
    "\n",
    "    # Write\n",
    "    scaled.to_netcdf(out_path)\n",
    "    \n",
    "    print(target_year)"
   ]
  }
 ],
 "metadata": {
  "kernelspec": {
   "display_name": "environmental-remote-sensing",
   "language": "python",
   "name": "python3"
  },
  "language_info": {
   "codemirror_mode": {
    "name": "ipython",
    "version": 3
   },
   "file_extension": ".py",
   "mimetype": "text/x-python",
   "name": "python",
   "nbconvert_exporter": "python",
   "pygments_lexer": "ipython3",
   "version": "3.11.13"
  }
 },
 "nbformat": 4,
 "nbformat_minor": 5
}
