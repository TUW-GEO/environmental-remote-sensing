{
 "cells": [
  {
   "cell_type": "markdown",
   "id": "0",
   "metadata": {},
   "source": [
    "# Leads and lags in Drought Dynamics\n",
    "**Meterological, Agricultural, and Hydrological Droughts**\n",
    "\n",
    "![Laura Crocetti et al., 2020[^1]](https://www.researchgate.net/publication/344947662/figure/fig1/AS:951872072450048@1603955395551/Types-of-drought-meteorological-agricultural-hydrological-and-socio-economic-drought.png)\n",
    "\n",
    "## Overview\n",
    "\n",
    "In this notebook we will examine the propagation of precipitation deficits, to soil water deficits, and finally there lagged effect on plants. This cascading effect of drought development is important to study in areas where rain-fed agricultural practices are of importance, such as Mozambique.\n",
    "\n",
    "- Metoereological drought is described as the lack of precipitation and/or increased atmospheric demand (evapotranspiration)\n",
    "- Agricultural drought is also a physical phenomenon where soils become replete of moisture\n",
    "- Hydrological drought follows when ongoing drought can then cause deficits in ground and surface reservoirs of \n",
    "- Socioeconomic drought impacts society through crop loss, food insecurity, shortages of fresh water resources\n",
    "\n",
    "The first three phenomena often follow in a cascasiding sequence, whereas all of them can have a direct impact on society.\n",
    "\n",
    "[^1]: L. Crocetti et al., Earth Observation for agricultural drought monitoring in the Pannonian Basin (southeastern Europe): current state and future directions, Reg Environ Change, vol. 20, no. 4, p. 123, Dec. 2020, doi: [10.1007/s10113-020-01710-w](http://link.springer.com/10.1007/s10113-020-01710-w).\n"
   ]
  },
  {
   "cell_type": "code",
   "execution_count": null,
   "id": "1",
   "metadata": {},
   "outputs": [],
   "source": [
    "%matplotlib inline\n",
    "\n",
    "import hvplot.pandas  # noqa\n",
    "import matplotlib\n",
    "import pandas as pd\n",
    "import statsmodels.formula.api as smf\n",
    "\n",
    "matplotlib.use(\"TkAgg\")\n",
    "%run ./src/corr_plots.py"
   ]
  },
  {
   "cell_type": "markdown",
   "id": "2",
   "metadata": {},
   "source": [
    "## Motiroing Drought Dynamics\n",
    "\n",
    "The following dataset combines the HSAF ASCAT 6.25 surface soil moisture with data for precipitation, CHIRPS, and data for vegetation, NDVI (see table).\n",
    "\n",
    "\n",
    "\n",
    "| Feature           | NDVI (Normalized Difference Vegetation Index)                          | CHIRPS (Climate Hazards Group InfraRed Precipitation with Station data) |\n",
    "|-------------------|-----------------------------------------------------------------------|-------------------------------------------------------------------------|\n",
    "| **Description**   | A widely used index to measure the health and vigor of vegetation.    | A high-resolution precipitation dataset that combines satellite and station data. |\n",
    "| **Data Source**   | Remote sensing, typically from satellite imagery.                     | Satellite infrared data combined with rain gauge station data.            |\n",
    "| **Calculation**   | (NIR - RED) / (NIR + RED), where NIR is Near-Infrared and RED is Red light reflectance. | Combines data from multiple sources to provide daily precipitation estimates. |\n",
    "| **Applications**  | - Agriculture: Monitoring crop health and growth.<br>- Ecology: Assessing vegetation cover and changes.<br>- Climate: Studying vegetation response to climate change. | - Drought monitoring and early warning.<br>- Hydrological modeling.<br>- Agricultural planning and risk management. |\n",
    "| **Advantages**     | - Simple and quick to calculate.<br>- Provides a standardized measure of vegetation health.<br>- Useful for temporal and spatial comparisons. | - High spatial and temporal resolution.<br>- Integrates multiple data sources for better accuracy.<br>- Useful for regions with sparse rain gauge networks. |\n",
    "| **Limitations**   | - Sensitive to atmospheric conditions and soil background.<br>- May require calibration for different vegetation types.<br>- Does not distinguish between different types of vegetation. | - Dependent on the quality and availability of input data.<br>- May have errors in areas with complex terrain or dense vegetation.<br>- Requires validation with ground truth data. |\n",
    "| **Use Cases**     | - Detecting areas of stressed or unhealthy vegetation.<br>- Monitoring deforestation and land use changes.<br>- Assessing the impact of droughts and floods on vegetation. | - Providing real-time precipitation data for disaster response.<br>- Supporting water resource management and irrigation planning.<br>- Enhancing climate models and weather forecasting. |\n",
    "\n",
    "In short NDVI indicates plant health with assumption that plants become less green when they wilt when deprived from water, with the caviat that the signal depends higly on vegetation types, soil background,, and atmospheric conditions. CHIRPS measures precipitatiomn but can be affected"
   ]
  },
  {
   "cell_type": "code",
   "execution_count": null,
   "id": "3",
   "metadata": {},
   "outputs": [],
   "source": [
    "%run ./src/download_path.py\n",
    "\n",
    "url = make_url(\"drought_indices-6_25_dekadal.csv\")  # noqa\n",
    "df = (\n",
    "    pd.read_csv(\n",
    "        url,\n",
    "        index_col=\"time\",\n",
    "        parse_dates=True,\n",
    "    )\n",
    "    .dropna()\n",
    "    .sort_index()\n",
    ")\n",
    "\n",
    "df"
   ]
  },
  {
   "cell_type": "code",
   "execution_count": null,
   "id": "4",
   "metadata": {},
   "outputs": [],
   "source": [
    "df.hvplot.line(\n",
    "    x=\"time\",\n",
    "    y=[\"precip\", \"surface_soil_moisture\", \"ndvi\"],\n",
    "    subcoordinate_y=True,\n",
    "    groupby=[\"name\"],\n",
    "    frame_width=800,\n",
    ")"
   ]
  },
  {
   "cell_type": "code",
   "execution_count": null,
   "id": "5",
   "metadata": {},
   "outputs": [],
   "source": [
    "df_buzi = df[df.name == \"Buzi\"]\n",
    "df_buzi"
   ]
  },
  {
   "cell_type": "code",
   "execution_count": null,
   "id": "6",
   "metadata": {},
   "outputs": [],
   "source": [
    "mod_precip = smf.ols(formula=\"ndvi ~ precip\", data=df_buzi)\n",
    "res_precip = mod_precip.fit()\n",
    "\n",
    "print(\"Parameters: \\n\", res_precip.params, sep=\"\")\n",
    "print(\"R2: \", res_precip.rsquared)"
   ]
  },
  {
   "cell_type": "code",
   "execution_count": null,
   "id": "7",
   "metadata": {},
   "outputs": [],
   "source": [
    "df_buzi = df[df.name == \"Buzi\"]\n",
    "mod_ssm = smf.ols(formula=\"ndvi ~ surface_soil_moisture\", data=df_buzi)\n",
    "res_ssm = mod_ssm.fit()\n",
    "\n",
    "print(\"Parameters: \\n\", res_ssm.params, sep=\"\")\n",
    "print(\"R2: \", res_ssm.rsquared)"
   ]
  },
  {
   "cell_type": "code",
   "execution_count": null,
   "id": "8",
   "metadata": {},
   "outputs": [],
   "source": [
    "results = {\"precip\": res_precip, \"surface_soil_moisture\": res_ssm}\n",
    "plot_predicted_values(  # noqa\n",
    "    df_buzi,\n",
    "    results,\n",
    "    figsize=(10, 5),\n",
    ")"
   ]
  },
  {
   "cell_type": "code",
   "execution_count": null,
   "id": "9",
   "metadata": {},
   "outputs": [],
   "source": [
    "plot_step_corr(df_buzi, \"ndvi\", length=72)  # noqa"
   ]
  },
  {
   "cell_type": "code",
   "execution_count": null,
   "id": "10",
   "metadata": {},
   "outputs": [],
   "source": [
    "plot_step_corr(df_buzi, \"ndvi\", \"precip\", length=72)  # noqa"
   ]
  },
  {
   "cell_type": "code",
   "execution_count": null,
   "id": "11",
   "metadata": {},
   "outputs": [],
   "source": [
    "plot_step_corr(df_buzi, \"ndvi\", \"surface_soil_moisture\", length=72)  # noqa"
   ]
  },
  {
   "cell_type": "markdown",
   "id": "12",
   "metadata": {},
   "source": [
    "Auto\n",
    "\n",
    "\n",
    "Cross\n",
    "\n",
    "- NDVI lags precipiations with 6 dekads (or ~ 2 months)\n",
    "- NDVI lags ssm with 3 dekads (or ~ 1 month)\n",
    "\n"
   ]
  },
  {
   "cell_type": "code",
   "execution_count": null,
   "id": "13",
   "metadata": {},
   "outputs": [],
   "source": [
    "df_buzi = df[df.name == \"Buzi\"]\n",
    "df_buzi_shift = df_buzi.assign(\n",
    "    surface_soil_moisture=df_buzi.loc[:, \"surface_soil_moisture\"].shift(3),\n",
    "    precip=df_buzi.loc[:, \"precip\"].shift(6),\n",
    ").dropna()\n",
    "\n",
    "df_buzi_shift"
   ]
  },
  {
   "cell_type": "code",
   "execution_count": null,
   "id": "14",
   "metadata": {},
   "outputs": [],
   "source": [
    "mod_precip_shift = smf.ols(formula=\"ndvi ~ precip\", data=df_buzi_shift)\n",
    "res_precip_shift = mod_precip_shift.fit()\n",
    "\n",
    "print(\"Parameters: \\n\", res_precip_shift.params, sep=\"\")\n",
    "print(\"R2: \", res_precip_shift.rsquared)"
   ]
  },
  {
   "cell_type": "code",
   "execution_count": null,
   "id": "15",
   "metadata": {},
   "outputs": [],
   "source": [
    "mod_ssm_shift = smf.ols(formula=\"ndvi ~ surface_soil_moisture\", data=df_buzi_shift)\n",
    "res_ssm_shift = mod_ssm_shift.fit()\n",
    "\n",
    "print(\"Parameters: \\n\", res_ssm_shift.params, sep=\"\")\n",
    "print(\"R2: \", res_ssm_shift.rsquared)"
   ]
  },
  {
   "cell_type": "code",
   "execution_count": null,
   "id": "16",
   "metadata": {},
   "outputs": [],
   "source": [
    "results_shift = {\"precip\": res_precip_shift, \"surface_soil_moisture\": res_ssm_shift}\n",
    "plot_predicted_values(  # noqa\n",
    "    df_buzi_shift,\n",
    "    results_shift,\n",
    "    figsize=(10, 5),\n",
    "    suffix=[\"(shifted 2 months)\", \"(shifted 1 month)\"],\n",
    ")"
   ]
  }
 ],
 "metadata": {
  "kernelspec": {
   "display_name": "Python 3",
   "language": "python",
   "name": "python3"
  },
  "language_info": {
   "codemirror_mode": {
    "name": "ipython",
    "version": 3
   },
   "file_extension": ".py",
   "mimetype": "text/x-python",
   "name": "python",
   "nbconvert_exporter": "python",
   "pygments_lexer": "ipython3",
   "version": "3.11.13"
  }
 },
 "nbformat": 4,
 "nbformat_minor": 5
}
