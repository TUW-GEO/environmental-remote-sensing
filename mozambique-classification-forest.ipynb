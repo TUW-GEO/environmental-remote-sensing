{
 "cells": [
  {
   "cell_type": "code",
   "execution_count": null,
   "id": "0",
   "metadata": {},
   "outputs": [],
   "source": [
    "from pathlib import Path\n",
    "from typing import Any\n",
    "\n",
    "import cmcrameri as cmc  # noqa\n",
    "import geopandas as gpd\n",
    "import matplotlib.pyplot as plt\n",
    "import numpy as np\n",
    "import xarray as xr\n",
    "from rasterio import Affine\n",
    "from rasterio.features import rasterize\n",
    "from sklearn.ensemble import RandomForestClassifier\n",
    "from sklearn.model_selection import train_test_split"
   ]
  },
  {
   "cell_type": "code",
   "execution_count": null,
   "id": "1",
   "metadata": {},
   "outputs": [],
   "source": [
    "# Setup Paths\n",
    "assets: Path = Path(\"assets\").resolve(strict=True)\n",
    "filepath: Path = next(assets.glob(\"*2024*.nc\"))\n",
    "\n",
    "# Load Data\n",
    "ds = xr.open_dataset(filepath)\n",
    "slivers: gpd.GeoDataFrame = gpd.read_file(assets / \"forest-features.geojson\")\n",
    "\n",
    "# Prepare the crs and affine transformation\n",
    "spatial_ref: dict[str, Any] = ds[\"spatial_ref\"].attrs\n",
    "crs = spatial_ref[\"crs_wkt\"]\n",
    "geotransfrom: list[float] = [float(x) for x in spatial_ref[\"GeoTransform\"].split()]\n",
    "affine = Affine.from_gdal(*geotransfrom)"
   ]
  },
  {
   "cell_type": "code",
   "execution_count": null,
   "id": "2",
   "metadata": {},
   "outputs": [],
   "source": [
    "# Combine forest and non-forest\n",
    "slivers[\"class_id\"] = slivers[\"forest\"].notna() + (slivers[\"non-forest\"].notna() * 2)\n",
    "slivers"
   ]
  },
  {
   "cell_type": "code",
   "execution_count": null,
   "id": "3",
   "metadata": {},
   "outputs": [],
   "source": [
    "# https://rasterio.readthedocs.io/en/stable/api/rasterio.features.html#rasterio.features.rasterize\n",
    "rst = rasterize(\n",
    "    shapes=slivers.to_crs(crs)[[\"geometry\", \"class_id\"]]\n",
    "    .to_records(index=False)\n",
    "    .tolist(),\n",
    "    out_shape=ds[\"Red\"].shape[1:],\n",
    "    transform=affine,\n",
    ")\n",
    "\n",
    "label_cube = xr.DataArray(rst, coords={\"y\": ds.y, \"x\": ds.x}, name=\"class_id\")\n",
    "feature_frame = (\n",
    "    ds.drop_vars(\"spatial_ref\").to_dataframe().dropna().unstack(level=\"quantile\")\n",
    ")"
   ]
  },
  {
   "cell_type": "code",
   "execution_count": null,
   "id": "4",
   "metadata": {},
   "outputs": [],
   "source": [
    "feature_frame.columns = [\n",
    "    f\"{c[0]}_P{np.round(100 * c[1], 0).astype(int):03}\" for c in feature_frame.columns\n",
    "]"
   ]
  },
  {
   "cell_type": "code",
   "execution_count": null,
   "id": "5",
   "metadata": {},
   "outputs": [],
   "source": [
    "label_frame = label_cube.to_dataframe()"
   ]
  },
  {
   "cell_type": "code",
   "execution_count": null,
   "id": "6",
   "metadata": {},
   "outputs": [],
   "source": [
    "train_frame = label_frame[label_frame[\"class_id\"] != 0].join(feature_frame)"
   ]
  },
  {
   "cell_type": "code",
   "execution_count": null,
   "id": "7",
   "metadata": {},
   "outputs": [],
   "source": [
    "X_features = train_frame.drop(columns=[\"class_id\"])\n",
    "y_target = train_frame[\"class_id\"]"
   ]
  },
  {
   "cell_type": "code",
   "execution_count": null,
   "id": "8",
   "metadata": {},
   "outputs": [],
   "source": [
    "X_train, X_test, y_train, y_test = train_test_split(\n",
    "    X_features,\n",
    "    y_target,\n",
    "    test_size=0.2,\n",
    "    random_state=42,\n",
    ")"
   ]
  },
  {
   "cell_type": "code",
   "execution_count": null,
   "id": "9",
   "metadata": {},
   "outputs": [],
   "source": [
    "randforest = RandomForestClassifier()\n",
    "randforest_test = randforest.fit(X_train, y_train)\n",
    "randforest_predict = randforest.predict(X_test)"
   ]
  },
  {
   "cell_type": "code",
   "execution_count": null,
   "id": "10",
   "metadata": {},
   "outputs": [],
   "source": [
    "img = (\n",
    "    ds.drop_vars(\"spatial_ref\")\n",
    "    .to_dataarray()\n",
    "    .transpose(\"x\", \"y\", \"quantile\", \"variable\")\n",
    ")\n",
    "\n",
    "# Reshape the image data\n",
    "num_of_pixels = img.sizes[\"x\"] * img.sizes[\"y\"]\n",
    "num_of_bands = img.sizes[\"quantile\"] * img.sizes[\"variable\"]\n",
    "X_image_data = img.values.reshape(num_of_pixels, num_of_bands)"
   ]
  },
  {
   "cell_type": "code",
   "execution_count": null,
   "id": "11",
   "metadata": {},
   "outputs": [],
   "source": [
    "randforest_predict_img = randforest.predict(X_image_data)\n",
    "randforest_predict_img = randforest_predict_img.reshape(\n",
    "    img.sizes[\"x\"],\n",
    "    img.sizes[\"y\"],\n",
    ").transpose()\n",
    "plt.imshow(randforest_predict_img)"
   ]
  },
  {
   "cell_type": "code",
   "execution_count": null,
   "id": "12",
   "metadata": {},
   "outputs": [],
   "source": [
    "predicted_forest = xr.DataArray(\n",
    "    randforest_predict_img,\n",
    "    dims=(\"y\", \"x\"),\n",
    "    coords={\n",
    "        \"x\": ds[\"x\"],\n",
    "        \"y\": ds[\"y\"],\n",
    "    },\n",
    ")"
   ]
  },
  {
   "cell_type": "code",
   "execution_count": null,
   "id": "13",
   "metadata": {},
   "outputs": [],
   "source": [
    "fig, ax = plt.subplots()\n",
    "ds[\"Red\"].sel(quantile=0.5).plot.imshow(ax=ax)\n",
    "predicted_forest.where(predicted_forest == 1).plot.imshow(ax=ax, cmap=\"Greens\")\n",
    "plt.show()"
   ]
  },
  {
   "cell_type": "code",
   "execution_count": null,
   "id": "14",
   "metadata": {},
   "outputs": [],
   "source": [
    "ds[\"Red\"].sel(quantile=0.5).plot.imshow()"
   ]
  },
  {
   "cell_type": "code",
   "execution_count": null,
   "id": "15",
   "metadata": {},
   "outputs": [],
   "source": []
  }
 ],
 "metadata": {
  "kernelspec": {
   "display_name": "environmental-remote-sensing",
   "language": "python",
   "name": "python3"
  },
  "language_info": {
   "codemirror_mode": {
    "name": "ipython",
    "version": 3
   },
   "file_extension": ".py",
   "mimetype": "text/x-python",
   "name": "python",
   "nbconvert_exporter": "python",
   "pygments_lexer": "ipython3",
   "version": "3.11.0"
  }
 },
 "nbformat": 4,
 "nbformat_minor": 5
}
