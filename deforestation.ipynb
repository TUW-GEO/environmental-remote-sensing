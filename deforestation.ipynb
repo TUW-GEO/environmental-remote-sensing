{
 "cells": [
  {
   "cell_type": "code",
   "execution_count": 2,
   "id": "9c47dbec",
   "metadata": {},
   "outputs": [],
   "source": [
    "import numpy as np\n",
    "import rasterio as rio\n",
    "from pathlib import Path\n",
    "\n",
    "from typing import List"
   ]
  },
  {
   "cell_type": "code",
   "execution_count": 25,
   "id": "8cfbea0f",
   "metadata": {},
   "outputs": [],
   "source": [
    "def list_gfc_urls(\n",
    "    x_min: int | float,\n",
    "    x_max: int | float,\n",
    "    y_min: int | float,\n",
    "    y_max: int | float,\n",
    "    product: str,\n",
    "    step_size: int = 10,\n",
    "    version: str =\"GFC-2024-v1.12\",\n",
    "    root: str =\"https://storage.googleapis.com/earthenginepartners-hansen\",\n",
    "    ) -> List[str]:\n",
    "\n",
    "    # Check wether the chosen product is available\n",
    "    available_products = (\"treecover2000\", \"gain\", \"lossyear\", \"datamask\", \"first\", \"last\")\n",
    "    if product not in available_products:\n",
    "        raise ValueError(f\"'{product}' is not one of the supported products {available_products}\")\n",
    "    \n",
    "    # Make the common header\n",
    "    header = f\"{root}/{version}/Hansen_{version}_{product}\"\n",
    "\n",
    "    # Make bouns to use during the iteration\n",
    "    original_bounds = np.array([x_min, x_max, y_min, y_max])\n",
    "    divided_bounds = original_bounds/step_size\n",
    "    left, bottom = 10 * np.floor(divided_bounds[[0, 2]]).astype(int)\n",
    "    right, top = 10 * np.ceil(divided_bounds[[1, 3]]).astype(int)\n",
    "\n",
    "    # Iterate to create the tile names\n",
    "    urls = []\n",
    "    for row_idx in range(bottom, top, step_size):\n",
    "\n",
    "        row_direction = \"N\" if row_idx >= 0 else \"S\"\n",
    "        row_name = f\"{abs(row_idx):02}{row_direction}\"\n",
    "\n",
    "        for col_idx in range(left, right, step_size):\n",
    "\n",
    "            col_direction = \"E\" if col_idx >= 0 else \"W\"\n",
    "            col_name = f\"{abs(col_idx):03}{col_direction}\"\n",
    "\n",
    "            tile_url = f\"{header}_{row_name}_{col_name}.tif\"\n",
    "            urls.append(tile_url)\n",
    "\n",
    "    return urls"
   ]
  },
  {
   "cell_type": "code",
   "execution_count": 28,
   "id": "d755ad0a",
   "metadata": {},
   "outputs": [],
   "source": [
    "bounding_box = {\n",
    "    \"y_min\": -19.6,\n",
    "    \"y_max\": -17.1,\n",
    "    \"x_min\": 32.9,\n",
    "    \"x_max\": 34.4,\n",
    "    }   "
   ]
  },
  {
   "cell_type": "code",
   "execution_count": 30,
   "id": "ec3297c2",
   "metadata": {},
   "outputs": [],
   "source": [
    "gfc_tiles = list_gfc_urls(**bounding_box, product=\"lossyear\")"
   ]
  }
 ],
 "metadata": {
  "kernelspec": {
   "display_name": "environmental-remote-sensing",
   "language": "python",
   "name": "python3"
  },
  "language_info": {
   "codemirror_mode": {
    "name": "ipython",
    "version": 3
   },
   "file_extension": ".py",
   "mimetype": "text/x-python",
   "name": "python",
   "nbconvert_exporter": "python",
   "pygments_lexer": "ipython3",
   "version": "3.11.13"
  }
 },
 "nbformat": 4,
 "nbformat_minor": 5
}
