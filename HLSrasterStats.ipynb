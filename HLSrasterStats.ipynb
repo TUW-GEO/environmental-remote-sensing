{
 "cells": [
  {
   "cell_type": "code",
   "execution_count": 2,
   "id": "8308f539",
   "metadata": {},
   "outputs": [],
   "source": [
    "import pandas as pd\n",
    "from pathlib import Path\n",
    "import rasterio as rio"
   ]
  },
  {
   "cell_type": "code",
   "execution_count": 3,
   "id": "f5580364",
   "metadata": {},
   "outputs": [],
   "source": [
    "PARENT_DIR = Path(r\"/home/iborlafm/Downloads/Mozambique/hls\")\n",
    "RASTER_DIR = PARENT_DIR / \"automated\""
   ]
  },
  {
   "cell_type": "code",
   "execution_count": 4,
   "id": "62698267",
   "metadata": {},
   "outputs": [],
   "source": [
    "stat_list = [\"min\", \"max\", \"mean\", \"std\"]\n",
    "\n",
    "row_pairs = {}\n",
    "for raster_path in RASTER_DIR.glob(\"HLS*bands.tif\"):\n",
    "\n",
    "    with rio.open(raster_path) as raster:\n",
    "\n",
    "        # Retrieve band names and statistics\n",
    "        stat_pairs = {}\n",
    "        for band_name, band_stats in zip(raster.descriptions, raster.stats()):\n",
    "            for stat in stat_list:\n",
    "                stat_pairs[f\"{band_name}_{stat}\"] = getattr(band_stats, stat)\n",
    "    \n",
    "    row_pairs[raster_path.stem] = stat_pairs"
   ]
  },
  {
   "cell_type": "code",
   "execution_count": 5,
   "id": "d383bab5",
   "metadata": {},
   "outputs": [],
   "source": [
    "stats_frame = pd.DataFrame(row_pairs).T"
   ]
  },
  {
   "cell_type": "code",
   "execution_count": 6,
   "id": "1f9e3c78",
   "metadata": {},
   "outputs": [],
   "source": [
    "mean_frame = stats_frame[[c for c in stats_frame.columns if c.endswith(\"mean\")]]"
   ]
  },
  {
   "cell_type": "code",
   "execution_count": 7,
   "id": "1e6b64b0",
   "metadata": {},
   "outputs": [],
   "source": [
    "medians = mean_frame.median(axis=0)\n",
    "residuals = mean_frame.subtract(medians, axis=1)\n",
    "mads = residuals.abs().median(axis=0)\n",
    "\n",
    "sigmas = (1.4826 * mads)"
   ]
  },
  {
   "cell_type": "code",
   "execution_count": 8,
   "id": "0d7bb736",
   "metadata": {},
   "outputs": [],
   "source": [
    "zscores = residuals.divide(sigmas)"
   ]
  },
  {
   "cell_type": "code",
   "execution_count": 9,
   "id": "248b8ac8",
   "metadata": {},
   "outputs": [],
   "source": [
    "has_outliers = zscores.gt(3.5).any(axis=1)"
   ]
  },
  {
   "cell_type": "code",
   "execution_count": 10,
   "id": "f6baf5ae",
   "metadata": {},
   "outputs": [
    {
     "data": {
      "text/html": [
       "<div>\n",
       "<style scoped>\n",
       "    .dataframe tbody tr th:only-of-type {\n",
       "        vertical-align: middle;\n",
       "    }\n",
       "\n",
       "    .dataframe tbody tr th {\n",
       "        vertical-align: top;\n",
       "    }\n",
       "\n",
       "    .dataframe thead th {\n",
       "        text-align: right;\n",
       "    }\n",
       "</style>\n",
       "<table border=\"1\" class=\"dataframe\">\n",
       "  <thead>\n",
       "    <tr style=\"text-align: right;\">\n",
       "      <th></th>\n",
       "      <th>Blue_mean</th>\n",
       "      <th>Green_mean</th>\n",
       "      <th>Red_mean</th>\n",
       "      <th>NIRnarrow_mean</th>\n",
       "      <th>SWIR1_mean</th>\n",
       "      <th>SWIR2_mean</th>\n",
       "    </tr>\n",
       "  </thead>\n",
       "  <tbody>\n",
       "    <tr>\n",
       "      <th>HLS_T36KXE_2019249T074136_L30_v2.0_bands</th>\n",
       "      <td>9.155497</td>\n",
       "      <td>8.146905</td>\n",
       "      <td>6.068600</td>\n",
       "      <td>1.403657</td>\n",
       "      <td>2.696629</td>\n",
       "      <td>2.347261</td>\n",
       "    </tr>\n",
       "    <tr>\n",
       "      <th>HLS_T36KXE_2023228T073621_S30_v2.0_bands</th>\n",
       "      <td>8.921898</td>\n",
       "      <td>8.219705</td>\n",
       "      <td>5.961285</td>\n",
       "      <td>1.610770</td>\n",
       "      <td>2.865040</td>\n",
       "      <td>2.292273</td>\n",
       "    </tr>\n",
       "    <tr>\n",
       "      <th>HLS_T36KXE_2020252T074135_L30_v2.0_bands</th>\n",
       "      <td>8.853181</td>\n",
       "      <td>7.885687</td>\n",
       "      <td>5.894348</td>\n",
       "      <td>1.340035</td>\n",
       "      <td>3.056189</td>\n",
       "      <td>2.685348</td>\n",
       "    </tr>\n",
       "  </tbody>\n",
       "</table>\n",
       "</div>"
      ],
      "text/plain": [
       "                                          Blue_mean  Green_mean  Red_mean  \\\n",
       "HLS_T36KXE_2019249T074136_L30_v2.0_bands   9.155497    8.146905  6.068600   \n",
       "HLS_T36KXE_2023228T073621_S30_v2.0_bands   8.921898    8.219705  5.961285   \n",
       "HLS_T36KXE_2020252T074135_L30_v2.0_bands   8.853181    7.885687  5.894348   \n",
       "\n",
       "                                          NIRnarrow_mean  SWIR1_mean  \\\n",
       "HLS_T36KXE_2019249T074136_L30_v2.0_bands        1.403657    2.696629   \n",
       "HLS_T36KXE_2023228T073621_S30_v2.0_bands        1.610770    2.865040   \n",
       "HLS_T36KXE_2020252T074135_L30_v2.0_bands        1.340035    3.056189   \n",
       "\n",
       "                                          SWIR2_mean  \n",
       "HLS_T36KXE_2019249T074136_L30_v2.0_bands    2.347261  \n",
       "HLS_T36KXE_2023228T073621_S30_v2.0_bands    2.292273  \n",
       "HLS_T36KXE_2020252T074135_L30_v2.0_bands    2.685348  "
      ]
     },
     "execution_count": 10,
     "metadata": {},
     "output_type": "execute_result"
    }
   ],
   "source": [
    "zscores.loc[has_outliers].sort_values(\"Red_mean\", ascending=False).head(3)"
   ]
  },
  {
   "cell_type": "code",
   "execution_count": 18,
   "id": "069b2fb8",
   "metadata": {},
   "outputs": [],
   "source": [
    "sensor  = mean_frame.index.str[26:29]"
   ]
  },
  {
   "cell_type": "code",
   "execution_count": 26,
   "id": "efece773",
   "metadata": {},
   "outputs": [
    {
     "data": {
      "image/png": "[encoded data removed]",
      "text/plain": [
       "<Figure size 640x480 with 1 Axes>"
      ]
     },
     "metadata": {},
     "output_type": "display_data"
    }
   ],
   "source": [
    "for _, sensor_records in mean_frame.groupby(sensor):\n",
    "\n",
    "    sensor_records[\"NIRnarrow_mean\"].hist(bins=\"auto\", histtype=\"step\")"
   ]
  },
  {
   "cell_type": "code",
   "execution_count": null,
   "id": "9e62d427",
   "metadata": {},
   "outputs": [
    {
     "data": {
      "text/html": [
       "<div>\n",
       "<style scoped>\n",
       "    .dataframe tbody tr th:only-of-type {\n",
       "        vertical-align: middle;\n",
       "    }\n",
       "\n",
       "    .dataframe tbody tr th {\n",
       "        vertical-align: top;\n",
       "    }\n",
       "\n",
       "    .dataframe thead th {\n",
       "        text-align: right;\n",
       "    }\n",
       "</style>\n",
       "<table border=\"1\" class=\"dataframe\">\n",
       "  <thead>\n",
       "    <tr style=\"text-align: right;\">\n",
       "      <th></th>\n",
       "      <th>Blue_mean</th>\n",
       "      <th>Green_mean</th>\n",
       "      <th>Red_mean</th>\n",
       "      <th>NIRnarrow_mean</th>\n",
       "      <th>SWIR1_mean</th>\n",
       "      <th>SWIR2_mean</th>\n",
       "    </tr>\n",
       "  </thead>\n",
       "  <tbody>\n",
       "    <tr>\n",
       "      <th>HLS_T36KXE_2023228T074119_L30_v2.0_bands</th>\n",
       "      <td>3026.300944</td>\n",
       "      <td>3172.173057</td>\n",
       "      <td>3264.287524</td>\n",
       "      <td>4259.130902</td>\n",
       "      <td>3458.138743</td>\n",
       "      <td>2510.366165</td>\n",
       "    </tr>\n",
       "    <tr>\n",
       "      <th>HLS_T36KXE_2022328T074807_L30_v2.0_bands</th>\n",
       "      <td>1684.878498</td>\n",
       "      <td>1986.945604</td>\n",
       "      <td>1915.804634</td>\n",
       "      <td>3614.198530</td>\n",
       "      <td>2840.035875</td>\n",
       "      <td>1990.733881</td>\n",
       "    </tr>\n",
       "    <tr>\n",
       "      <th>HLS_T36KXE_2020029T074049_S30_v2.0_bands</th>\n",
       "      <td>1758.406517</td>\n",
       "      <td>2091.119755</td>\n",
       "      <td>1921.371862</td>\n",
       "      <td>4456.203905</td>\n",
       "      <td>2488.584878</td>\n",
       "      <td>1478.298767</td>\n",
       "    </tr>\n",
       "    <tr>\n",
       "      <th>HLS_T36KXE_2023063T073819_S30_v2.0_bands</th>\n",
       "      <td>1824.129225</td>\n",
       "      <td>2150.016339</td>\n",
       "      <td>1997.633932</td>\n",
       "      <td>4483.684739</td>\n",
       "      <td>2664.680339</td>\n",
       "      <td>1596.332158</td>\n",
       "    </tr>\n",
       "    <tr>\n",
       "      <th>HLS_T36KXE_2019309T074111_S30_v2.0_bands</th>\n",
       "      <td>2119.144802</td>\n",
       "      <td>2384.099087</td>\n",
       "      <td>2444.223553</td>\n",
       "      <td>3683.294998</td>\n",
       "      <td>3311.745221</td>\n",
       "      <td>2480.909788</td>\n",
       "    </tr>\n",
       "    <tr>\n",
       "      <th>...</th>\n",
       "      <td>...</td>\n",
       "      <td>...</td>\n",
       "      <td>...</td>\n",
       "      <td>...</td>\n",
       "      <td>...</td>\n",
       "      <td>...</td>\n",
       "    </tr>\n",
       "    <tr>\n",
       "      <th>HLS_T36KXE_2023276T074130_L30_v2.0_bands</th>\n",
       "      <td>2272.318352</td>\n",
       "      <td>2452.397328</td>\n",
       "      <td>2591.666784</td>\n",
       "      <td>3464.907671</td>\n",
       "      <td>3715.769839</td>\n",
       "      <td>2898.655750</td>\n",
       "    </tr>\n",
       "    <tr>\n",
       "      <th>HLS_T36KXE_2023076T074156_L30_v2.0_bands</th>\n",
       "      <td>2406.068731</td>\n",
       "      <td>2615.237415</td>\n",
       "      <td>2502.791384</td>\n",
       "      <td>4672.831887</td>\n",
       "      <td>2756.791559</td>\n",
       "      <td>1718.216150</td>\n",
       "    </tr>\n",
       "    <tr>\n",
       "      <th>HLS_T36KXE_2020332T074143_L30_v2.0_bands</th>\n",
       "      <td>1860.775433</td>\n",
       "      <td>2207.627787</td>\n",
       "      <td>2264.267089</td>\n",
       "      <td>3450.002397</td>\n",
       "      <td>3458.198864</td>\n",
       "      <td>2546.472553</td>\n",
       "    </tr>\n",
       "    <tr>\n",
       "      <th>HLS_T36KXE_2024283T073821_S30_v2.0_bands</th>\n",
       "      <td>2834.457148</td>\n",
       "      <td>3075.138399</td>\n",
       "      <td>3136.200433</td>\n",
       "      <td>4128.162554</td>\n",
       "      <td>3674.577857</td>\n",
       "      <td>2819.693540</td>\n",
       "    </tr>\n",
       "    <tr>\n",
       "      <th>HLS_T36KXE_2024359T074126_L30_v2.0_bands</th>\n",
       "      <td>2558.770191</td>\n",
       "      <td>2767.288242</td>\n",
       "      <td>2763.223044</td>\n",
       "      <td>4324.508665</td>\n",
       "      <td>3332.694110</td>\n",
       "      <td>2692.384789</td>\n",
       "    </tr>\n",
       "  </tbody>\n",
       "</table>\n",
       "<p>81 rows × 6 columns</p>\n",
       "</div>"
      ],
      "text/plain": [
       "                                            Blue_mean   Green_mean  \\\n",
       "HLS_T36KXE_2023228T074119_L30_v2.0_bands  3026.300944  3172.173057   \n",
       "HLS_T36KXE_2022328T074807_L30_v2.0_bands  1684.878498  1986.945604   \n",
       "HLS_T36KXE_2020029T074049_S30_v2.0_bands  1758.406517  2091.119755   \n",
       "HLS_T36KXE_2023063T073819_S30_v2.0_bands  1824.129225  2150.016339   \n",
       "HLS_T36KXE_2019309T074111_S30_v2.0_bands  2119.144802  2384.099087   \n",
       "...                                               ...          ...   \n",
       "HLS_T36KXE_2023276T074130_L30_v2.0_bands  2272.318352  2452.397328   \n",
       "HLS_T36KXE_2023076T074156_L30_v2.0_bands  2406.068731  2615.237415   \n",
       "HLS_T36KXE_2020332T074143_L30_v2.0_bands  1860.775433  2207.627787   \n",
       "HLS_T36KXE_2024283T073821_S30_v2.0_bands  2834.457148  3075.138399   \n",
       "HLS_T36KXE_2024359T074126_L30_v2.0_bands  2558.770191  2767.288242   \n",
       "\n",
       "                                             Red_mean  NIRnarrow_mean  \\\n",
       "HLS_T36KXE_2023228T074119_L30_v2.0_bands  3264.287524     4259.130902   \n",
       "HLS_T36KXE_2022328T074807_L30_v2.0_bands  1915.804634     3614.198530   \n",
       "HLS_T36KXE_2020029T074049_S30_v2.0_bands  1921.371862     4456.203905   \n",
       "HLS_T36KXE_2023063T073819_S30_v2.0_bands  1997.633932     4483.684739   \n",
       "HLS_T36KXE_2019309T074111_S30_v2.0_bands  2444.223553     3683.294998   \n",
       "...                                               ...             ...   \n",
       "HLS_T36KXE_2023276T074130_L30_v2.0_bands  2591.666784     3464.907671   \n",
       "HLS_T36KXE_2023076T074156_L30_v2.0_bands  2502.791384     4672.831887   \n",
       "HLS_T36KXE_2020332T074143_L30_v2.0_bands  2264.267089     3450.002397   \n",
       "HLS_T36KXE_2024283T073821_S30_v2.0_bands  3136.200433     4128.162554   \n",
       "HLS_T36KXE_2024359T074126_L30_v2.0_bands  2763.223044     4324.508665   \n",
       "\n",
       "                                           SWIR1_mean   SWIR2_mean  \n",
       "HLS_T36KXE_2023228T074119_L30_v2.0_bands  3458.138743  2510.366165  \n",
       "HLS_T36KXE_2022328T074807_L30_v2.0_bands  2840.035875  1990.733881  \n",
       "HLS_T36KXE_2020029T074049_S30_v2.0_bands  2488.584878  1478.298767  \n",
       "HLS_T36KXE_2023063T073819_S30_v2.0_bands  2664.680339  1596.332158  \n",
       "HLS_T36KXE_2019309T074111_S30_v2.0_bands  3311.745221  2480.909788  \n",
       "...                                               ...          ...  \n",
       "HLS_T36KXE_2023276T074130_L30_v2.0_bands  3715.769839  2898.655750  \n",
       "HLS_T36KXE_2023076T074156_L30_v2.0_bands  2756.791559  1718.216150  \n",
       "HLS_T36KXE_2020332T074143_L30_v2.0_bands  3458.198864  2546.472553  \n",
       "HLS_T36KXE_2024283T073821_S30_v2.0_bands  3674.577857  2819.693540  \n",
       "HLS_T36KXE_2024359T074126_L30_v2.0_bands  3332.694110  2692.384789  \n",
       "\n",
       "[81 rows x 6 columns]"
      ]
     },
     "execution_count": 52,
     "metadata": {},
     "output_type": "execute_result"
    }
   ],
   "source": [
    "mean_frame.loc[excesses]"
   ]
  }
 ],
 "metadata": {
  "kernelspec": {
   "display_name": "environmental-remote-sensing",
   "language": "python",
   "name": "python3"
  },
  "language_info": {
   "codemirror_mode": {
    "name": "ipython",
    "version": 3
   },
   "file_extension": ".py",
   "mimetype": "text/x-python",
   "name": "python",
   "nbconvert_exporter": "python",
   "pygments_lexer": "ipython3",
   "version": "3.11.13"
  }
 },
 "nbformat": 4,
 "nbformat_minor": 5
}
