{
 "cells": [
  {
   "cell_type": "markdown",
   "id": "0",
   "metadata": {},
   "source": [
    "# Remotely Sensed Vegetataion of Mozambique\n",
    "**Observing Vegetation Change from Space** \n",
    "\n",
    "## Overview\n",
    "\n",
    "In this notebook we will examine the Copernicus Global Land Service vegetation indices;\n",
    "\n",
    "1. fraction of absorbed photosynthetically activae radation (fAPAR)\n",
    "2. fraction of vegetation cover (fCOVER)\n",
    "3. leaf area index (LAI)\n",
    "\n",
    "TO DO: add short descriptions of the data.\n",
    "\n",
    "We will show here how we can use these products to track vegetation change throughout the year (phenology), whilst also spotting anomalous vegetation/land cover changes.\n",
    "\n",
    "## Imports"
   ]
  },
  {
   "cell_type": "code",
   "execution_count": null,
   "id": "1",
   "metadata": {},
   "outputs": [],
   "source": [
    "import cartopy.crs as ccrs\n",
    "import folium\n",
    "import holoviews as hv\n",
    "import hvplot.xarray  # noqa\n",
    "import shapefile\n",
    "import xarray as xr\n",
    "from shapely.geometry import box, mapping"
   ]
  },
  {
   "cell_type": "markdown",
   "id": "2",
   "metadata": {},
   "source": [
    "## Study Area\n",
    "\n",
    "For this study we will have a look at vegetation of the Corongosa National Park of Mozambiqure. The park has had a turbulent history where the park was the scene of military incursions and civilian flight in the previous decade and slash-and-burn methods of farming that impacted the region's biodiversity.\n",
    "\n",
    "Let's have a look at the study area which over laps with the western reaches of Gorongosa National Park [^1]. We use `folium` to visualize both the study area and the contours of the nationapark, like so:\n",
    "\n",
    "[^1]: UNEP-WCMC and IUCN (2025), Protected Planet: The World Database on Protected Areas (WDPA) and World Database on Other Effective Area-based Conservation Measures (WD-OECM) [Online], August 2025, Cambridge, UK: UNEP-WCMC and IUCN. Available at: www.protectedplanet.net."
   ]
  },
  {
   "cell_type": "code",
   "execution_count": null,
   "id": "3",
   "metadata": {},
   "outputs": [],
   "source": [
    "%run ./src/download_path.py\n",
    "\n",
    "BBOX = (\n",
    "    33.9493075668371915,\n",
    "    -19.0773671765950361,\n",
    "    34.3448644146108251,\n",
    "    -18.6512837222308221,\n",
    ")\n",
    "\n",
    "area_of_interest = box(*BBOX)\n",
    "\n",
    "map = folium.Map(\n",
    "    max_bounds=True,\n",
    "    location=[area_of_interest.centroid.y, area_of_interest.centroid.x],\n",
    "    scrollWheelZoom=False,\n",
    ")\n",
    "\n",
    "# bounds of area of interest\n",
    "folium.GeoJson(mapping(area_of_interest), name=\"Area of Interest\", color=\"red\").add_to(\n",
    "    map\n",
    ")\n",
    "\n",
    "url = \"https://git.geo.tuwien.ac.at/public_projects/environmental-remote-sensing\"\n",
    "park = shapefile.Reader(\n",
    "    url + \"/-/raw/main/mozambique/corongosa.shp?ref_type=heads&inline=false\"\n",
    ")  # noqa\n",
    "\n",
    "# Corongosa Nationalpark\n",
    "folium.GeoJson(mapping(park), name=\"Area of Interest\").add_to(map)\n",
    "\n",
    "map"
   ]
  },
  {
   "cell_type": "markdown",
   "id": "4",
   "metadata": {},
   "source": [
    "## Copernicus Vegetation Data\n",
    "\n",
    "Let us start by having a look at monthly aggregated LAI, fCOVER, fAPAR derived from Sentinel-3 over the study area. The data is divided further for three selected years; 2015, 2020, and 2025 (up to the present).  We will loaad the data with the following URL."
   ]
  },
  {
   "cell_type": "code",
   "execution_count": null,
   "id": "5",
   "metadata": {},
   "outputs": [],
   "source": [
    "url = make_url(\"harmonised-vegetation-300m.zarr.zip\", zip=\"True\")  # noqa"
   ]
  },
  {
   "cell_type": "markdown",
   "id": "6",
   "metadata": {},
   "source": [
    "Loading the data is straightforward when using `xarray`. For convenience we will transform the LAI values to range between 0 and 1 to make it more easily comparable with the other indices when plotting the data."
   ]
  },
  {
   "cell_type": "code",
   "execution_count": null,
   "id": "7",
   "metadata": {},
   "outputs": [],
   "source": [
    "ds = xr.open_dataset(\n",
    "    url,\n",
    "    engine=\"zarr\",\n",
    "    consolidated=False,\n",
    ").compute()\n",
    "ds[\"LAI\"] = ds.LAI / 6\n",
    "ds"
   ]
  },
  {
   "cell_type": "markdown",
   "id": "8",
   "metadata": {},
   "source": [
    "Now we plot the results with `hvplot`. This creates an interactive plot whereby we can map the vegetation indices on an Open Street Map (OSM) and scroll through all months for the selected years; 2015, 2020, and 2025."
   ]
  },
  {
   "cell_type": "code",
   "execution_count": null,
   "id": "9",
   "metadata": {},
   "outputs": [],
   "source": [
    "ds.to_array(\"variable\").hvplot.image(\n",
    "    x=\"lon\",\n",
    "    y=\"lat\",\n",
    "    groupby=[\"year\", \"month\", \"variable\"],\n",
    "    crs=ccrs.PlateCarree(),\n",
    "    tiles=True,\n",
    "    cmap=\"greens\",\n",
    "    clim=(0, 1),\n",
    "    frame_width=700,\n",
    ")"
   ]
  },
  {
   "cell_type": "markdown",
   "id": "10",
   "metadata": {},
   "source": [
    "If one scrolls throught the months once can easily spot the changes in vegetation cover for wet and dry seasons.\n",
    "\n",
    "## Timeseries of Vegetation Change\n",
    "\n",
    "We can also show the seasonal change by aggregating all data for each timeslice and plot it as a line. Here one can see that vegetation follows a cyclical pattern from wet to dry seasons."
   ]
  },
  {
   "cell_type": "code",
   "execution_count": null,
   "id": "11",
   "metadata": {},
   "outputs": [],
   "source": [
    "p = hv.Layout(\n",
    "    [\n",
    "        ds[i]\n",
    "        .median((\"lat\", \"lon\"))\n",
    "        .hvplot.line(\n",
    "            x=\"month\",\n",
    "            by=\"year\",\n",
    "            title=i,\n",
    "            frame_width=800,\n",
    "        )\n",
    "        for i in list(ds.variables.keys())[:3]\n",
    "    ]\n",
    ").cols(1)\n",
    "p"
   ]
  },
  {
   "cell_type": "markdown",
   "id": "12",
   "metadata": {},
   "source": [
    "## Anomalous Vegetation Change\n",
    "\n",
    "By plotting the different years on top of each other, we can see that there also differences in the cyclical pattern and amplitude. For example some times it appears that the wet season starts later than other years. Also we can denote differences in the maximum amplitude of change, where especially 2025 appears to displays lower values for all variables.\n",
    "\n",
    "We can also display this another way by taking the maximum value for each pixel's timeseries and plotting this as a box-whisker plot (assuming that the minimum is relatively constant). Here we see that there appears to be a significant change to lower values for all vegetation indices with each subsequent year. One exception to this pattern is fAPAR which is higher in 2020 when compared to 2015, but 2025 is again lower than both 2015 and 2020."
   ]
  },
  {
   "cell_type": "code",
   "execution_count": null,
   "id": "13",
   "metadata": {},
   "outputs": [],
   "source": [
    "ds.to_array(\"variable\", \"vegetation\").max(\"month\").hvplot.box(\n",
    "    y=\"vegetation\", by=[\"variable\", \"year\"]\n",
    ")"
   ]
  },
  {
   "cell_type": "markdown",
   "id": "14",
   "metadata": {},
   "source": []
  }
 ],
 "metadata": {
  "kernelspec": {
   "display_name": "Python 3",
   "language": "python",
   "name": "python3"
  },
  "language_info": {
   "codemirror_mode": {
    "name": "ipython",
    "version": 3
   },
   "file_extension": ".py",
   "mimetype": "text/x-python",
   "name": "python",
   "nbconvert_exporter": "python",
   "pygments_lexer": "ipython3",
   "version": "3.11.13"
  }
 },
 "nbformat": 4,
 "nbformat_minor": 5
}
