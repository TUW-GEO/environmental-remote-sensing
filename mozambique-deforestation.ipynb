{
 "cells": [
  {
   "cell_type": "code",
   "execution_count": null,
   "id": "0",
   "metadata": {},
   "outputs": [],
   "source": [
    "import hvplot.xarray  # noqa\n",
    "import xarray as xr"
   ]
  },
  {
   "cell_type": "code",
   "execution_count": null,
   "id": "1",
   "metadata": {},
   "outputs": [],
   "source": [
    "%run ./src/download_path.py\n",
    "url = make_url(\"harmonised-vegetation-300m.zarr.zip\")  # noqa\n",
    "ds = xr.open_dataset(\n",
    "    url,\n",
    "    engine=\"zarr\",\n",
    "    consolidated=False,\n",
    "    backend_kwargs={\n",
    "        \"storage_options\": {\"simplecache\": {\"cache_storage\": \"/tmp/vegetation\"}}\n",
    "    },\n",
    ")\n",
    "ds"
   ]
  },
  {
   "cell_type": "code",
   "execution_count": null,
   "id": "2",
   "metadata": {},
   "outputs": [],
   "source": [
    "ds.to_array(\"variable\").hvplot.image(\n",
    "    x=\"lon\",\n",
    "    y=\"lat\",\n",
    "    groupby=[\"year\", \"variable\"],\n",
    "    cmap=\"greens\",\n",
    "    frame_width=700,\n",
    "    data_aspect=1,\n",
    ")"
   ]
  }
 ],
 "metadata": {
  "kernelspec": {
   "display_name": "Python 3",
   "language": "python",
   "name": "python3"
  },
  "language_info": {
   "codemirror_mode": {
    "name": "ipython",
    "version": 3
   },
   "file_extension": ".py",
   "mimetype": "text/x-python",
   "name": "python",
   "nbconvert_exporter": "python",
   "pygments_lexer": "ipython3",
   "version": "3.11.13"
  }
 },
 "nbformat": 4,
 "nbformat_minor": 5
}
