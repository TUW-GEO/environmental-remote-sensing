{
 "cells": [
  {
   "cell_type": "markdown",
   "id": "0",
   "metadata": {},
   "source": [
    "# Deforestation Analysis in Mozambique\n",
    "## A machine Learning Approach\n",
    "\n",
    "In this notebook, we will focus on the classification of deforestation in Mozambique.\n",
    "We will be useing a `Machine Learning` approach to classify the forest cover (as explained in the previous notebook) and will be covering the deforestation here, where we will specifically have a look at the changes in forest cover over time.\n",
    "\n",
    "It is assumed here that you are already familiar with the previous notebook, since we will be useing the forest cover classification as a basis for the deforestation analysis."
   ]
  },
  {
   "cell_type": "code",
   "execution_count": null,
   "id": "1",
   "metadata": {},
   "outputs": [],
   "source": [
    "import xarray as xr"
   ]
  },
  {
   "cell_type": "code",
   "execution_count": null,
   "id": "2",
   "metadata": {},
   "outputs": [],
   "source": [
    "forest_before = xr.open_dataarray(...)\n",
    "forest_after = xr.open_dataarray(...)"
   ]
  },
  {
   "cell_type": "code",
   "execution_count": null,
   "id": "3",
   "metadata": {},
   "outputs": [],
   "source": [
    "bit_zero = 1 << 0  # 0b01\n",
    "bit_one = 1 << 1  # 0b10\n",
    "deforestation = forest_before * bit_zero + forest_after * bit_one\n",
    "\n",
    "deforestation_value = int(\"0b01\", 2)  # before=1 and after=0 -> was forest but not now\n",
    "deforestation = deforestation.where(deforestation == deforestation_value)"
   ]
  },
  {
   "cell_type": "code",
   "execution_count": null,
   "id": "4",
   "metadata": {},
   "outputs": [],
   "source": []
  }
 ],
 "metadata": {
  "kernelspec": {
   "display_name": "environmental-remote-sensing",
   "language": "python",
   "name": "python3"
  },
  "language_info": {
   "codemirror_mode": {
    "name": "ipython",
    "version": 3
   },
   "file_extension": ".py",
   "mimetype": "text/x-python",
   "name": "python",
   "nbconvert_exporter": "python",
   "pygments_lexer": "ipython3",
   "version": "3.11.0"
  }
 },
 "nbformat": 4,
 "nbformat_minor": 5
}
