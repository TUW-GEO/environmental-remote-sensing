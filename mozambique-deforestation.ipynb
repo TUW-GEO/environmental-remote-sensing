{
 "cells": [
  {
   "cell_type": "markdown",
   "id": "0",
   "metadata": {},
   "source": [
    "# Deforestation Analysis in Mozambique\n",
    "## A very simple approach\n",
    "\n",
    "In this notebook, we will focus on the classification of forest cover in Mozambique using Sentinel-2 imagery.\n",
    "We will be useing a `Machine Learning` approach to classify the forest cover and will be covering the deforestation in the next notebook, where we will have a look at the changes in forest cover over time."
   ]
  },
  {
   "cell_type": "code",
   "execution_count": null,
   "id": "1",
   "metadata": {},
   "outputs": [],
   "source": [
    "import datetime as dt  # noqa\n",
    "from collections.abc import Sequence\n",
    "from enum import IntEnum\n",
    "from pathlib import Path\n",
    "from typing import Literal, TypeAlias\n",
    "\n",
    "import cmcrameri as cmc  # noqa: F401  # noqa\n",
    "import geopandas as gpd  # noqa\n",
    "import matplotlib.colors as colors  # noqa\n",
    "import matplotlib.pyplot as plt\n",
    "import numpy as np  # noqa\n",
    "import odc.stac as odc_stac\n",
    "import pandas as pd  # noqa\n",
    "import rioxarray  # noqa: F401  # noqa\n",
    "import xarray as xr\n",
    "from odc.geo.geobox import GeoBox\n",
    "from pystac import ItemCollection\n",
    "from pystac_client import Client\n",
    "from shapely.geometry import Polygon  # noqa\n",
    "from sklearn.ensemble import RandomForestClassifier  # noqa\n",
    "from sklearn.metrics import classification_report, confusion_matrix  # noqa\n",
    "from sklearn.model_selection import train_test_split  # noqa\n",
    "from sklearn.naive_bayes import GaussianNB  # noqa"
   ]
  },
  {
   "cell_type": "code",
   "execution_count": null,
   "id": "2",
   "metadata": {},
   "outputs": [],
   "source": [
    "# Define custom types\n",
    "# does not change code behavior, just for clarity\n",
    "Bbox: TypeAlias = tuple[float, float, float, float]\n",
    "Chunks: TypeAlias = dict[str, int | Literal[\"auto\"]]\n",
    "Bands: TypeAlias = Sequence[str]\n",
    "\n",
    "\n",
    "class SCLValues(IntEnum):\n",
    "    \"\"\"Enum for Sentinel-2 Scene Classification Layer (SCL) values.\"\"\"\n",
    "\n",
    "    # https://custom-scripts.sentinel-hub.com/custom-scripts/sentinel-2/scene-classification/\n",
    "    NO_DATA = 0\n",
    "    DEFECTIVE = 1\n",
    "    DARK_SHADOWS = 2\n",
    "    CLOUD_SHADOWS = 3\n",
    "    VEGETATED = 4\n",
    "    NOT_VEGETATED = 5\n",
    "    WATER = 6\n",
    "    CLOUDS_LOW_PROB = 7\n",
    "    CLOUDS_MEDIUM_PROB = 8\n",
    "    CLOUDS_HIGH_PROB = 9\n",
    "    THIN_CIRRUS = 10\n",
    "    SNOW_OR_ICE = 11"
   ]
  },
  {
   "cell_type": "code",
   "execution_count": null,
   "id": "3",
   "metadata": {},
   "outputs": [],
   "source": [
    "# Set common parameters\n",
    "dx: float = 0.0001  # approx 60m resolution (0.0006 degrees)\n",
    "epsg: int = 4326\n",
    "\n",
    "# Set Spatial extent\n",
    "latmin: float = -19.6\n",
    "latmax: float = -18.9\n",
    "lonmin: float = 32.9\n",
    "lonmax: float = 33.7\n",
    "bounds: Bbox = (lonmin, latmin, lonmax, latmax)\n",
    "\n",
    "# Set Temporal extent\n",
    "start_date: dt.datetime = dt.datetime(year=2024, month=5, day=1, tzinfo=dt.UTC)\n",
    "end_date: dt.datetime = start_date + dt.timedelta(days=30)\n",
    "\n",
    "# Define the time range for the search\n",
    "time_fmt: str = \"%Y-%m-%d\"\n",
    "start_date_fmt: str = start_date.strftime(time_fmt)\n",
    "end_date_fmt: str = end_date.strftime(time_fmt)\n",
    "timerange: str = f\"{start_date_fmt}/{end_date_fmt}\"\n",
    "\n",
    "# Define the STAC catalog and collection\n",
    "stac_catalog: str = \"https://earth-search.aws.element84.com/v1\"\n",
    "collection: list[str] = [\"sentinel-2-l2a\"]\n",
    "\n",
    "# Search for Sentinel-2 data\n",
    "items: ItemCollection = (\n",
    "    Client.open(stac_catalog)\n",
    "    .search(bbox=bounds, collections=collection, datetime=timerange)\n",
    "    .item_collection()\n",
    ")\n",
    "\n",
    "print(len(items), \"scenes found\")"
   ]
  },
  {
   "cell_type": "code",
   "execution_count": null,
   "id": "4",
   "metadata": {},
   "outputs": [],
   "source": [
    "# Define some options for loading data\n",
    "geobox: GeoBox = GeoBox.from_bbox(bounds, crs=f\"epsg:{epsg}\", resolution=dx)\n",
    "chunks: Chunks = {\"time\": 5, \"x\": 600, \"y\": 600}\n",
    "bands: Bands = [\"scl\", \"red\", \"green\", \"blue\", \"nir\"]\n",
    "\n",
    "# Lazily combine items into a datacube (Dask array)\n",
    "dc: xr.Dataset = odc_stac.load(\n",
    "    items,\n",
    "    bands=bands,\n",
    "    chunks=chunks,\n",
    "    geobox=geobox,\n",
    "    resampling=\"bilinear\",\n",
    ")\n",
    "dc"
   ]
  },
  {
   "cell_type": "code",
   "execution_count": null,
   "id": "5",
   "metadata": {},
   "outputs": [],
   "source": [
    "# Define a mask for valid pixels (non-cloud)\n",
    "\n",
    "\n",
    "def is_valid_pixel(data: xr.DataArray) -> xr.DataArray:\n",
    "    \"\"\"Get valid pixels from the SCL band.\"\"\"\n",
    "    return ((data >= SCLValues.VEGETATED) & (data <= SCLValues.WATER)) | (\n",
    "        data == SCLValues.SNOW_OR_ICE\n",
    "    )\n",
    "\n",
    "\n",
    "dc[\"valid\"] = is_valid_pixel(dc[\"scl\"])"
   ]
  },
  {
   "cell_type": "code",
   "execution_count": null,
   "id": "6",
   "metadata": {},
   "outputs": [],
   "source": [
    "# Compute the median composite\n",
    "median: xr.Dataset = dc.where(dc[\"valid\"]).median(dim=\"time\")"
   ]
  },
  {
   "cell_type": "code",
   "execution_count": null,
   "id": "7",
   "metadata": {},
   "outputs": [],
   "source": [
    "out_dir = Path(\"/mnt/c/Users/npikall/datasets/sentinel-2/mozambique\").resolve()\n",
    "filename: str = f\"mozambique_{timerange.replace('/', '_')}_median.tiff\"\n",
    "savepath: Path = out_dir / filename\n",
    "savepath.parent.mkdir(parents=True, exist_ok=True)\n",
    "\n",
    "# Save the median composite as a GeoTIFF\n",
    "median.rio.to_raster(savepath)"
   ]
  },
  {
   "cell_type": "code",
   "execution_count": null,
   "id": "8",
   "metadata": {},
   "outputs": [],
   "source": [
    "raise EOFError(\"End of file reached\")"
   ]
  },
  {
   "cell_type": "code",
   "execution_count": null,
   "id": "9",
   "metadata": {},
   "outputs": [],
   "source": [
    "# Plot the rgb median composite\n",
    "title_rgb: str = f\"RGB - Median Composite\\n{timerange}\"\n",
    "rgb_median: xr.DataArray = (\n",
    "    median[[\"red\", \"green\", \"blue\"]].to_dataarray(dim=\"band\").astype(int)\n",
    ")\n",
    "rgb_median.plot.imshow(robust=True).axes.set_title(title_rgb)\n",
    "plt.show()"
   ]
  },
  {
   "cell_type": "code",
   "execution_count": null,
   "id": "10",
   "metadata": {},
   "outputs": [],
   "source": [
    "# Plot the false color composite (NIR, Red, Green)\n",
    "title_fcc: str = f\"False Color Composite (NIR, Red, Green)\\n{timerange}\"\n",
    "fcc: xr.DataArray = median[[\"nir\", \"red\", \"green\"]].to_dataarray(dim=\"band\").astype(int)\n",
    "fcc.plot.imshow(robust=True).axes.set_title(title_fcc)\n",
    "plt.show()"
   ]
  },
  {
   "cell_type": "code",
   "execution_count": null,
   "id": "11",
   "metadata": {},
   "outputs": [],
   "source": [
    "# Normalized Difference Vegetation Index (NDVI)\n",
    "\n",
    "\n",
    "def normalized_difference(\n",
    "    band1: xr.DataArray,\n",
    "    band2: xr.DataArray,\n",
    ") -> xr.DataArray:\n",
    "    \"\"\"Calculate the normalized difference between two bands.\"\"\"\n",
    "    return (band1 - band2 * 1.0) / (band1 + band2)\n",
    "\n",
    "\n",
    "ndvi: xr.DataArray = normalized_difference(median.nir, median.red)\n",
    "ndvi.plot.imshow(cmap=\"cmc.cork\", vmin=-1, vmax=1).axes.set_title(\"NDVI\")\n",
    "plt.show()"
   ]
  },
  {
   "cell_type": "code",
   "execution_count": null,
   "id": "12",
   "metadata": {},
   "outputs": [],
   "source": [
    "median"
   ]
  },
  {
   "cell_type": "code",
   "execution_count": null,
   "id": "13",
   "metadata": {},
   "outputs": [],
   "source": []
  }
 ],
 "metadata": {
  "kernelspec": {
   "display_name": "environmental-remote-sensing",
   "language": "python",
   "name": "python3"
  },
  "language_info": {
   "codemirror_mode": {
    "name": "ipython",
    "version": 3
   },
   "file_extension": ".py",
   "mimetype": "text/x-python",
   "name": "python",
   "nbconvert_exporter": "python",
   "pygments_lexer": "ipython3",
   "version": "3.13.5"
  }
 },
 "nbformat": 4,
 "nbformat_minor": 5
}
