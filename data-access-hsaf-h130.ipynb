{
 "cells": [
  {
   "cell_type": "markdown",
   "id": "0",
   "metadata": {},
   "source": [
    "# Access to Near Real Time Soil Moisture Data\n",
    "**Downloading, Reading and Working with H SAF Surface Soil Moisture 6.25 km** \n",
    "\n",
    "\n",
    "## Overview\n",
    "\n",
    "\n",
    "## Imports"
   ]
  },
  {
   "cell_type": "code",
   "execution_count": null,
   "id": "1",
   "metadata": {},
   "outputs": [],
   "source": [
    "import os\n",
    "from datetime import datetime, timedelta\n",
    "\n",
    "import cartopy.crs as ccrs\n",
    "import hvplot.pandas  # noqa\n",
    "from ascat.download.interface import hsaf_download\n",
    "from ascat.swath import SwathGridFiles\n",
    "from dotenv import dotenv_values"
   ]
  },
  {
   "cell_type": "code",
   "execution_count": null,
   "id": "2",
   "metadata": {},
   "outputs": [],
   "source": [
    "credentials = {\n",
    "    \"user\": dotenv_values(\".env\")[\"USER_HSAF\"],\n",
    "    \"password\": dotenv_values(\".env\")[\"PASS_HSAF\"],\n",
    "}\n",
    "local_path = \"h130\"\n",
    "remote_path = \"h130/h130_cur_mon_data\"\n",
    "start_date = datetime.now() - timedelta(days=5)\n",
    "end_date = datetime.now()"
   ]
  },
  {
   "cell_type": "code",
   "execution_count": null,
   "id": "3",
   "metadata": {},
   "outputs": [],
   "source": [
    "%%time\n",
    "\n",
    "if not os.path.isdir(local_path):\n",
    "    os.mkdir(local_path)\n",
    "\n",
    "hsaf_download(credentials, remote_path, local_path, start_date, end_date, limit=5)"
   ]
  },
  {
   "cell_type": "code",
   "execution_count": null,
   "id": "4",
   "metadata": {},
   "outputs": [],
   "source": [
    "h130_nrt = SwathGridFiles.from_product_id(local_path, product_id=\"H130\")"
   ]
  },
  {
   "cell_type": "code",
   "execution_count": null,
   "id": "5",
   "metadata": {},
   "outputs": [],
   "source": [
    "df = h130_nrt.read(date_range=(start_date, end_date)).to_dataframe()\n",
    "df"
   ]
  },
  {
   "cell_type": "code",
   "execution_count": null,
   "id": "6",
   "metadata": {},
   "outputs": [],
   "source": [
    "%run ./src/ssm_cmap.py\n",
    "\n",
    "df.hvplot.points(\n",
    "    x=\"longitude\",\n",
    "    y=\"latitude\",\n",
    "    c=\"surface_soil_moisture\",\n",
    "    x_sampling=0.16,\n",
    "    y_sampling=0.16,\n",
    "    rasterize=True,\n",
    "    crs=ccrs.PlateCarree(),\n",
    "    tiles=True,\n",
    "    cmap=SSM_CMAP,  # noqa\n",
    "    clim=(0, 100),\n",
    "    frame_width=500,\n",
    "    clabel=\"Surface soil moisture (%)\",\n",
    ")"
   ]
  }
 ],
 "metadata": {
  "kernelspec": {
   "display_name": "environmental-remote-sensing",
   "language": "python",
   "name": "environmental-remote-sensing"
  },
  "language_info": {
   "codemirror_mode": {
    "name": "ipython",
    "version": 3
   },
   "file_extension": ".py",
   "mimetype": "text/x-python",
   "name": "python",
   "nbconvert_exporter": "python",
   "pygments_lexer": "ipython3",
   "version": "3.11.13"
  }
 },
 "nbformat": 4,
 "nbformat_minor": 5
}
