{
 "cells": [
  {
   "cell_type": "markdown",
   "id": "0",
   "metadata": {},
   "source": [
    "# Exercise 1\n",
    "**Making Publication Ready Drought Maps** \n",
    "\n",
    "In this exercise will be creating maps of drought events that can be used for report and scientific publications. For this exercise one can choose to use either select H SAF ASCAT 6.25 km Surface Soil Moisture (SSM) as monthly aggregated Z scores (January 1 2007 till May 31 2025) or dekadel Z scores (January 1 2011 till December 31 2019).\n",
    "\n",
    "To create publication-ready plots we will be using the `matplotlib` library incombination with `cartopy`.\n",
    "\n",
    "## Imports"
   ]
  },
  {
   "cell_type": "code",
   "execution_count": null,
   "id": "1",
   "metadata": {},
   "outputs": [],
   "source": [
    "import cartopy.crs as ccrs\n",
    "import geopandas as gpd\n",
    "import hvplot.pandas  # noqa\n",
    "import matplotlib.pyplot as plt\n",
    "import numpy as np\n",
    "import pandas as pd\n",
    "import rioxarray  # noqa\n",
    "import xarray as xr\n",
    "from ascat.utils import get_grid_gpis\n",
    "from cartopy.mpl.ticker import (LatitudeFormatter, LatitudeLocator,\n",
    "                                LongitudeFormatter, LongitudeLocator)\n",
    "from fibgrid.realization import FibGrid\n",
    "from pyresample import create_area_def, geometry\n",
    "from pyresample.kd_tree import resample_gauss\n",
    "from shapely.geometry import mapping"
   ]
  },
  {
   "cell_type": "markdown",
   "id": "2",
   "metadata": {},
   "source": [
    "## Monthly Z scores"
   ]
  },
  {
   "cell_type": "code",
   "execution_count": null,
   "id": "3",
   "metadata": {},
   "outputs": [],
   "source": [
    "%run ../src/download_path.py\n",
    "\n",
    "url = make_url(\"ascat-6_25_ssm_monthly.csv\")  # noqa\n",
    "df_month = pd.read_csv(\n",
    "    url,\n",
    "    index_col=[\"time\", \"location_id\"],\n",
    "    parse_dates=[\"time\"],\n",
    ")\n",
    "\n",
    "df_month.head()"
   ]
  },
  {
   "cell_type": "markdown",
   "id": "4",
   "metadata": {},
   "source": [
    "## Monthly Z scores"
   ]
  },
  {
   "cell_type": "code",
   "execution_count": null,
   "id": "5",
   "metadata": {},
   "outputs": [],
   "source": [
    "url = make_url(\"ascat-6_25-ssm-dekadal.csv\")  # noqa\n",
    "df_dekad = pd.read_csv(\n",
    "    url,\n",
    "    index_col=[\"time\", \"location_id\"],\n",
    "    parse_dates=[\"time\"],\n",
    ")\n",
    "\n",
    "df_dekad.head()"
   ]
  },
  {
   "cell_type": "markdown",
   "id": "6",
   "metadata": {},
   "source": [
    "## Selection of area of interest and time window\n",
    "\n",
    "First we will select a time window:\n"
   ]
  },
  {
   "cell_type": "code",
   "execution_count": null,
   "id": "7",
   "metadata": {},
   "outputs": [],
   "source": [
    "quicklook_args = dict(\n",
    "    x=\"longitude\",\n",
    "    y=\"latitude\",\n",
    "    c=\"zscore\",\n",
    "    x_sampling=0.08,\n",
    "    y_sampling=0.08,\n",
    "    rasterize=True,\n",
    "    crs=ccrs.PlateCarree(),\n",
    "    tiles=True,\n",
    "    cmap=\"reds_r\",\n",
    "    # clim=(-4, 0),\n",
    "    frame_width=500,\n",
    "    clabel=\"Drought anomaly\",\n",
    ")\n",
    "df_dekad_20160121 = df_dekad.loc[\"2016-01-01\"]\n",
    "df_dekad_20160121.hvplot.points(**quicklook_args)"
   ]
  },
  {
   "cell_type": "markdown",
   "id": "8",
   "metadata": {},
   "source": [
    "Then we select an area. Let's say a bound"
   ]
  },
  {
   "cell_type": "code",
   "execution_count": null,
   "id": "9",
   "metadata": {},
   "outputs": [],
   "source": [
    "lon_min, lon_max = 32, 33\n",
    "lat_min, lat_max = -26.5, -25.5"
   ]
  },
  {
   "cell_type": "code",
   "execution_count": null,
   "id": "10",
   "metadata": {},
   "outputs": [],
   "source": [
    "fib = FibGrid(6.25, geodatum=\"WGS84\")\n",
    "gpis = get_grid_gpis(\n",
    "    fib, bbox=[lat_min, lat_max, lon_min, lon_max]\n",
    ")  # min long, max long\n",
    "loc_mask = np.isin(df_dekad_20160121.index.get_level_values(\"location_id\"), gpis)\n",
    "df_dekad_20160121_maputo = df_dekad_20160121[loc_mask]\n",
    "df_dekad_20160121_maputo.hvplot.points(**quicklook_args)"
   ]
  },
  {
   "cell_type": "markdown",
   "id": "11",
   "metadata": {},
   "source": [
    "\n",
    "\n",
    "## Quick look"
   ]
  },
  {
   "cell_type": "markdown",
   "id": "12",
   "metadata": {},
   "source": [
    "## Resample\n",
    "\n",
    "For the publication ready plot we are going to resample the data to a regular grid, as opposed to quick viewing method."
   ]
  },
  {
   "cell_type": "code",
   "execution_count": null,
   "id": "13",
   "metadata": {},
   "outputs": [],
   "source": [
    "area_def = create_area_def(\n",
    "    \"maputo_area\",\n",
    "    {\"proj\": \"longlat\", \"datum\": \"WGS84\"},\n",
    "    area_extent=[lon_min, lat_min, lon_max, lat_max],\n",
    "    resolution=0.01,\n",
    "    units=\"degrees\",\n",
    "    description=\"Global 0.01x0.01 degree lat-lon grid\",\n",
    ")\n",
    "\n",
    "data = df_dekad_20160121_maputo.zscore.values\n",
    "lons = df_dekad_20160121_maputo.longitude.values\n",
    "lats = df_dekad_20160121_maputo.latitude.values\n",
    "\n",
    "\n",
    "swath_def = geometry.SwathDefinition(lons=lons, lats=lats)\n",
    "result = resample_gauss(\n",
    "    swath_def, data, area_def, radius_of_influence=7500, sigmas=3750, fill_value=None\n",
    ")\n",
    "result"
   ]
  },
  {
   "cell_type": "code",
   "execution_count": null,
   "id": "14",
   "metadata": {},
   "outputs": [],
   "source": [
    "lons = np.arange(32, 33, 0.01)\n",
    "lats = np.flip(np.arange(-26.5, -25.5, 0.01))\n",
    "da = xr.DataArray(\n",
    "    result, dims=(\"latitude\", \"longitude\"), coords={\"latitude\": lats, \"longitude\": lons}\n",
    ").rio.write_crs(area_def.crs)\n",
    "\n",
    "da"
   ]
  },
  {
   "cell_type": "code",
   "execution_count": null,
   "id": "15",
   "metadata": {},
   "outputs": [],
   "source": [
    "country_border = gpd.read_file(make_url(\"country_border_10m.gpkg\"))  # noqa\n",
    "\n",
    "\n",
    "def clip_dataset_to_shape_file(ds, clip_shape):\n",
    "    ds = ds.rio.clip(\n",
    "        clip_shape.geometry.apply(mapping), clip_shape.crs, drop=False, invert=False\n",
    "    )\n",
    "    return ds\n",
    "\n",
    "\n",
    "da_clipped = clip_dataset_to_shape_file(da, country_border).drop_vars(\"spatial_ref\")\n",
    "da_clipped"
   ]
  },
  {
   "cell_type": "markdown",
   "id": "16",
   "metadata": {},
   "source": [
    "## Initial Plot"
   ]
  },
  {
   "cell_type": "code",
   "execution_count": null,
   "id": "17",
   "metadata": {},
   "outputs": [],
   "source": [
    "da.plot()"
   ]
  },
  {
   "cell_type": "markdown",
   "id": "18",
   "metadata": {},
   "source": [
    "## Basemap with Cartopy\n",
    "\n",
    "First we tell Matplotlib which Reference System to use for Map Projection."
   ]
  },
  {
   "cell_type": "code",
   "execution_count": null,
   "id": "19",
   "metadata": {},
   "outputs": [],
   "source": [
    "projection = ccrs.Mercator()"
   ]
  },
  {
   "cell_type": "markdown",
   "id": "20",
   "metadata": {},
   "source": [
    "Then we tell matplotlib what projection the data is in."
   ]
  },
  {
   "cell_type": "code",
   "execution_count": null,
   "id": "21",
   "metadata": {},
   "outputs": [],
   "source": [
    "crs = ccrs.PlateCarree()"
   ]
  },
  {
   "cell_type": "markdown",
   "id": "22",
   "metadata": {},
   "source": [
    "We then formulate a canvas"
   ]
  },
  {
   "cell_type": "code",
   "execution_count": null,
   "id": "23",
   "metadata": {},
   "outputs": [],
   "source": [
    "plt.figure(figsize=(8, 4.5), dpi=150)\n",
    "ax = plt.axes(projection=projection, frameon=True)\n",
    "gl = ax.gridlines(\n",
    "    crs=crs,\n",
    "    draw_labels=True,\n",
    "    linewidth=0.6,\n",
    "    color=\"gray\",\n",
    "    alpha=0.5,\n",
    "    linestyle=\"-.\",\n",
    ")\n",
    "gl.xlabel_style = {\"size\": 7}\n",
    "gl.ylabel_style = {\"size\": 7}\n",
    "ax.add_geometries(\n",
    "    country_border.geometry,\n",
    "    ccrs.PlateCarree(),\n",
    "    facecolor=\"none\",\n",
    "    edgecolor=\"black\",\n",
    "    linewidth=2,\n",
    ")\n",
    "ax.set_extent([lon_min, lon_max, lat_min, lat_max], crs=crs)\n",
    "fancy_datetime = pd.to_datetime(\"2016-01-01\").strftime(\"%d %B %Y\")\n",
    "title = plt.title(f\"Soil moisture anomaly over Maputo ({fancy_datetime})\")"
   ]
  },
  {
   "cell_type": "code",
   "execution_count": null,
   "id": "24",
   "metadata": {},
   "outputs": [],
   "source": [
    "plt.figure(figsize=(8, 8), dpi=150)\n",
    "ax = plt.axes(projection=projection, frameon=True)\n",
    "gl = ax.gridlines(\n",
    "    crs=crs,\n",
    "    draw_labels=True,\n",
    "    linewidth=0.6,\n",
    "    color=\"gray\",\n",
    "    alpha=0.5,\n",
    "    linestyle=\"-.\",\n",
    ")\n",
    "gl.xlabel_style = {\"size\": 7, \"color\": \"gray\"}\n",
    "gl.ylabel_style = {\"size\": 7, \"color\": \"gray\"}\n",
    "\n",
    "gl.top_labels, gl.right_labels = False, False\n",
    "\n",
    "gl.ylocator = LatitudeLocator()\n",
    "gl.xlocator = LongitudeLocator()\n",
    "gl.xformatter = LongitudeFormatter()\n",
    "gl.yformatter = LatitudeFormatter()\n",
    "\n",
    "ax.add_geometries(\n",
    "    country_border.geometry,\n",
    "    ccrs.PlateCarree(),\n",
    "    facecolor=\"none\",\n",
    "    edgecolor=\"black\",\n",
    "    linewidth=2,\n",
    ")\n",
    "\n",
    "vmin = -2.5\n",
    "vmax = 0\n",
    "\n",
    "levels = [-3, -2.5, -2, -1.5, -1, 0]\n",
    "cbar_kwargs = {\n",
    "    \"orientation\": \"horizontal\",\n",
    "    \"shrink\": 0.6,\n",
    "    \"pad\": 0.05,\n",
    "    \"aspect\": 40,\n",
    "    \"label\": \"Drought Severity\",\n",
    "    \"spacing\": \"proportional\",\n",
    "}\n",
    "ax.set_extent([lon_min, lon_max, lat_min, lat_max], crs=crs)\n",
    "\n",
    "im = da_clipped.plot(\n",
    "    ax=ax,\n",
    "    transform=ccrs.PlateCarree(),\n",
    "    cmap=\"Reds_r\",\n",
    "    add_colorbar=False,\n",
    "    levels=levels,\n",
    "    vmin=vmin,\n",
    "    vmax=vmax,\n",
    "    alpha=0.8,\n",
    ")\n",
    "\n",
    "\n",
    "cbar = plt.colorbar(im, **cbar_kwargs)\n",
    "cbar.set_ticks(levels)\n",
    "cbar.set_ticklabels([\"\", \"Extreme\", \"Severe\", \"Moderate\", \"Mild\", \"Normal\"])\n",
    "cbar.ax.tick_params(labelsize=9, rotation=45)  # Set custom labels\n",
    "\n",
    "\n",
    "title = plt.title(f\"Soil moisture anomaly over Maputo ({fancy_datetime})\")"
   ]
  }
 ],
 "metadata": {
  "kernelspec": {
   "display_name": "Python 3",
   "language": "python",
   "name": "python3"
  },
  "language_info": {
   "codemirror_mode": {
    "name": "ipython",
    "version": 3
   },
   "file_extension": ".py",
   "mimetype": "text/x-python",
   "name": "python",
   "nbconvert_exporter": "python",
   "pygments_lexer": "ipython3",
   "version": "3.13.5"
  }
 },
 "nbformat": 4,
 "nbformat_minor": 5
}
