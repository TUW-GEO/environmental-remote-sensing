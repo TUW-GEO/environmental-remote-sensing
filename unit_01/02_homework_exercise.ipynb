{
 "cells": [
  {
   "cell_type": "markdown",
   "id": "0",
   "metadata": {},
   "source": [
    "# Exercise 2\n",
    "**Evaluate the Scale of Measurement on Soil Moisture**\n",
    "\n",
    "## Overview\n",
    "\n",
    "In this exercise you will do your own evaluation of H SAF ASCAT surface soil moisture (SSM) 6.25 km. However, for your own analysis you will use modelled soil moisture estimates from [ECMWF](https://www.ecmwf.int/) instead of the in situ stations. The particular dataset used here is [ERA5-Land daily](https://cds.climate.copernicus.eu/datasets/derived-era5-land-daily-statistics?tab=overview). We have extracted for you the volume of water in soil layer 1 (0 - 7cm, the surface is at 0cm). The soil's water content is derived by using a combination of modeling and data assimilation techniques. Here's a simplified explanation of how it works: \n",
    "\n",
    "- **Modelling**: ERA5-Land uses a sophisticated land surface model to simulate various processes that affect soil moisture. This model takes into account factors like rainfall, evaporation, runoff, and infiltration to estimate how much water is present in different layers of the soil.\n",
    "\n",
    "- **Data Assimilation**: To improve the accuracy of these estimates, ERA5-Land incorporates observational atmospheric variables, such as air temperature and air humidity.\n",
    "\n",
    "- **Soil Layers**: The model divides the soil into multiple layers, each with its own characteristics and moisture content. By considering the water movement between these layers, ERA5-Land can provide detailed information about soil moisture at different depths. \n",
    "\n",
    "In essence, ERA5-Land combines advanced modeling techniques with real-world observations to derive accurate and detailed estimates of water content in soil layers. This information is crucial for applications like weather forecasting, agriculture, and water resource management. The resolution of this dataset is 9 km and comes in volumetric units [m$^3$ / m$^3$], so much coarser than the point-wise in situ stations.\n",
    "\n",
    "## Imports"
   ]
  },
  {
   "cell_type": "code",
   "execution_count": null,
   "id": "1",
   "metadata": {},
   "outputs": [],
   "source": [
    "import hvplot.pandas  # noqa\n",
    "import pandas as pd\n",
    "from envrs.download_path import make_url"
   ]
  },
  {
   "cell_type": "markdown",
   "id": "2",
   "metadata": {},
   "source": [
    "## Loading Soil Moisture Data\n",
    "\n",
    "As before, we load the data as a `pandas.DataFrame`. First ERA5 Land soil moisture and then the H SAF ASCAT SSM."
   ]
  },
  {
   "cell_type": "code",
   "execution_count": null,
   "id": "3",
   "metadata": {},
   "outputs": [],
   "source": [
    "url = make_url(\"era5_ssm_timeseries.csv\")\n",
    "df_era5 = pd.read_csv(\n",
    "    url,\n",
    "    index_col=\"time\",\n",
    "    parse_dates=True,\n",
    ")\n",
    "\n",
    "url = make_url(\"ascat-6_25_ssm_timeseries.csv\")\n",
    "df_ascat = pd.read_csv(\n",
    "    url,\n",
    "    index_col=\"time\",\n",
    "    parse_dates=True,\n",
    ")"
   ]
  },
  {
   "cell_type": "markdown",
   "id": "4",
   "metadata": {},
   "source": [
    "Now you will perform the same type of analyses as in notebook 2. Perform the analysis by adhering to the following steps and filling in the blanks `...`.\n",
    "\n",
    "1. **Unit Conversions**\n",
    "\n",
    "- Calculate porosity with `calc_porosity` from bulk and particle densities `density_df` using pandas `transform`."
   ]
  },
  {
   "cell_type": "code",
   "execution_count": null,
   "id": "5",
   "metadata": {},
   "outputs": [],
   "source": [
    "density_df = pd.DataFrame(\n",
    "    {\n",
    "        \"name\": [\"Buzi\", \"Chokwé\", \"Mabalane\", \"Mabote\", \"Muanza\"],\n",
    "        \"bulk_density\": [1.25, 1.4, 1.4, 1.35, 1.25],\n",
    "    }\n",
    ").set_index(\"name\")\n",
    "\n",
    "def calc_porosity(x):\n",
    "    return 1 - x / 2.65\n",
    "\n",
    "\n",
    "porosity_df = ...# noqa ADD YOUR CODE\n",
    "porosity_df"
   ]
  },
  {
   "cell_type": "markdown",
   "id": "6",
   "metadata": {},
   "source": [
    "- Add the porosity (`porosity_df`) to the ASCAT `DataFrame` as a new column with pandas `merge`."
   ]
  },
  {
   "cell_type": "code",
   "execution_count": null,
   "id": "7",
   "metadata": {},
   "outputs": [],
   "source": [
    "df_ascat_porosity = ...# noqa ADD YOUR CODE\n",
    "df_ascat_porosity.head()"
   ]
  },
  {
   "cell_type": "markdown",
   "id": "8",
   "metadata": {},
   "source": [
    "- Convert SSM in degrees of saturation to volumetric units with `deg2vol` and pandas `apply` on `df_ascat_porosity`."
   ]
  },
  {
   "cell_type": "code",
   "execution_count": null,
   "id": "9",
   "metadata": {},
   "outputs": [],
   "source": [
    "def deg2vol(df: pd.DataFrame) -> pd.Series:\n",
    "    \"\"\"Degree of Saturation to Volumetric Units.\n",
    "\n",
    "    Parameters\n",
    "    ----------\n",
    "    df: Pandas.DataFrame\n",
    "        Degree of Saturation\n",
    "\n",
    "    Returns\n",
    "    -------\n",
    "        Pandas.Series: Volumetric Units\n",
    "\n",
    "    \"\"\"\n",
    "    return df[\"porosity\"] * df[\"surface_soil_moisture\"] / 100\n",
    "\n",
    "\n",
    "df_ascat_vol = df_ascat.copy()\n",
    "df_ascat_vol[\"unit\"] = \"m³/m³\"\n",
    "df_ascat_vol[\"surface_soil_moisture\"] = ...  # noqa ADD YOUR CODE\n",
    "df_ascat_vol.head()"
   ]
  },
  {
   "cell_type": "markdown",
   "id": "10",
   "metadata": {},
   "source": [
    "## Correlations\n",
    "\n",
    "- Concatenate the `df_ascat_vol` and `df_era5` datasets."
   ]
  },
  {
   "cell_type": "code",
   "execution_count": null,
   "id": "11",
   "metadata": {},
   "outputs": [],
   "source": [
    "df_combined = ...  # noqa ADD YOUR CODE\n",
    "df_combined.head()"
   ]
  },
  {
   "cell_type": "code",
   "execution_count": null,
   "id": "12",
   "metadata": {},
   "outputs": [],
   "source": [
    "df_combined.hvplot.scatter(\n",
    "    x=\"time\",\n",
    "    y=\"surface_soil_moisture\",\n",
    "    by=\"type\",\n",
    "    groupby=\"name\",\n",
    "    frame_width=800,\n",
    "    padding=(0.01, 0.1),\n",
    "    alpha=0.5,\n",
    ")"
   ]
  },
  {
   "cell_type": "markdown",
   "id": "13",
   "metadata": {},
   "source": [
    "- Resample the `df_ascat_vol` and `df_era5` to daily values datasets and merge the datasets."
   ]
  },
  {
   "cell_type": "code",
   "execution_count": null,
   "id": "14",
   "metadata": {},
   "outputs": [],
   "source": [
    "df_insitu_daily = (\n",
    "    df_era5.groupby(\"name\")[\"surface_soil_moisture\"]\n",
    "    ...  # noqa ADD YOUR CODE\n",
    "    .median()\n",
    "    .to_frame(\"era5\")\n",
    ")\n",
    "\n",
    "df_ascat_vol_daily = (\n",
    "   ...  # noqa ADD YOUR CODE\n",
    ")\n",
    "\n",
    "df_resampled = df_ascat_vol_daily.join(df_insitu_daily).dropna()\n",
    "df_resampled.head()"
   ]
  },
  {
   "cell_type": "markdown",
   "id": "15",
   "metadata": {},
   "source": [
    "- Calculate Pearson's R$^2$ with pandas `groupby` on the locations and `corr`."
   ]
  },
  {
   "cell_type": "code",
   "execution_count": null,
   "id": "16",
   "metadata": {},
   "outputs": [],
   "source": [
    "...  # ADD YOUR CODE"
   ]
  },
  {
   "cell_type": "markdown",
   "id": "17",
   "metadata": {},
   "source": [
    "1. **Calculate the root mean squared error**\n",
    "\n",
    " - Calculate RMSE with pandas `groupby` on the locations and an user defined function `RMSE`."
   ]
  },
  {
   "cell_type": "code",
   "execution_count": null,
   "id": "18",
   "metadata": {},
   "outputs": [],
   "source": [
    "def rmse(df):\n",
    "    return ...  # ADD YOUR CODE\n",
    "\n",
    "\n",
    "df_resampled.groupby(\"name\").apply(rmse)"
   ]
  }
 ],
 "metadata": {
  "kernelspec": {
   "display_name": "environmental-remote-sensing",
   "language": "python",
   "name": "environmental-remote-sensing"
  },
  "language_info": {
   "codemirror_mode": {
    "name": "ipython",
    "version": 3
   },
   "file_extension": ".py",
   "mimetype": "text/x-python",
   "name": "python",
   "nbconvert_exporter": "python",
   "pygments_lexer": "ipython3",
   "version": "3.13.5"
  }
 },
 "nbformat": 4,
 "nbformat_minor": 5
}
