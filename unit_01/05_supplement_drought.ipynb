{
 "cells": [
  {
   "cell_type": "markdown",
   "id": "0",
   "metadata": {},
   "source": [
    "# Access to Near Real Time Soil Moisture Data\n",
    "**Downloading, Reading and Working with H SAF Surface Soil Moisture 6.25 km** \n",
    "\n",
    "![Storm Filipo over Mozambique (Source: [H SAF Website](https://www-cdn.eumetsat.int/files/2024-03/Filipo.png))](https://www-cdn.eumetsat.int/files/2024-03/Filipo.png)\n",
    "\n",
    "## Overview\n",
    "\n",
    "This notebook demonstrates how to access the H SAF soil moisture products in near real-time, as utilized in previous notebooks.\n",
    "\n",
    "## Imports"
   ]
  },
  {
   "cell_type": "code",
   "execution_count": null,
   "id": "1",
   "metadata": {},
   "outputs": [],
   "source": [
    "import os\n",
    "from datetime import datetime, timedelta\n",
    "\n",
    "import cartopy.crs as ccrs\n",
    "import hvplot.pandas  # noqa\n",
    "from ascat.download.interface import hsaf_download\n",
    "from ascat.swath import SwathGridFiles\n",
    "from dotenv import dotenv_values"
   ]
  },
  {
   "cell_type": "markdown",
   "id": "2",
   "metadata": {},
   "source": [
    "## H SAF\n",
    "\n",
    "H SAF, the Satellite Application Facility on Support to Operational Hydrology and Water Management, is part of EUMETSAT, the 'European Organisation for the Exploitation of Meteorological Satellites' headquartered in Darmstadt, Germany. EUMETSAT consists of 30 European Member states and operates both geostationary satellites (Meteosat) and polar-orbiting satellites (Metop), the latter of which carry the ASCAT sensors used for soil moisture retrieval. These missions are crucial for weather forecasting and significantly contribute to environmental and climate change monitoring. H SAF aims to disseminate satellite-derived products useful for operational hydrology, including precipitation, snow cover, and soil moisture. They ensure that these products are accurate through rigorous validation and are delivered to users in a timely manner. All these products are freely available.\n",
    "\n",
    "## Registration\n",
    "\n",
    "H SAF has an [FTP server](https://en.wikipedia.org/wiki/FTP_server) for users to download near real time data products. Before you can start downloading data products, one need to register to become an H SAF user. This is relatively easy when following these steps:\n",
    "\n",
    "1. Go to [H SAF homepage](https://hsaf.meteoam.it/).\n",
    "\n",
    "<div style=\"text-align: center\">\n",
    "<a href=\"https://hsaf.meteoam.it/\"><img width=\"600px\" src=\"../images/home-hsaf-website-r.png\"></a>\n",
    "</div>\n",
    "\n",
    "2. Click on the lock icon at the top right of the screen and select \"Register\".\n",
    "\n",
    "<div style=\"text-align: center\">\n",
    "<a href=\"https://hsaf.meteoam.it/User/Register\"><img width=\"600px\" src=\"../images/register-hsaf-website.png\"></a>\n",
    "</div>\n",
    "\n",
    "3. After completing the registration you can login on the webpage.\n",
    "\n",
    "<div style=\"text-align: center\">\n",
    "<a href=\"https://hsaf.meteoam.it/User/Login\"><img width=\"600px\" src=\"../images/login-hsaf-website-r.png\"></a>\n",
    "</div>\n",
    "\n",
    "4. Now you browse the data products; for example, [ASCAT SSM NRT 6.25 km (H122)](https://hsaf.meteoam.it/Products/ProductsList?type=soil_moisture)\n",
    "\n",
    "<div style=\"text-align: center\">\n",
    "<a href=\"https://hsaf.meteoam.it/Products/ProductsList?type=soil_moisture\"><img width=\"600px\" src=\"../images/data-hsaf-website.png\"></a>\n",
    "</div>\n",
    "\n",
    "5. You can then click on \"Download\". This will provide you with the URL of the FTP server for downloading.\n",
    "\n",
    "## Downloading\n",
    "\n",
    "Now that we have the address for finding the soil moisture data products in the form of an URL, we need to think about a method to download the data. In other words we need a client, which requests the resources from the H SAF FTP servers. One way to download the data would be to use a client with a graphical user interface, like [FileZilla](https://filezilla-project.org/).\n",
    "\n",
    "Of course, we will look into a \"Pythonic\" way to download the data. For this we use the [`ascat`](https://github.com/TUW-GEO/ascat) package developed by the TU Wien. You can pip install this package from the Python Package Index ([PyPi](https://pypi.org/)), like so:\n",
    "\n",
    "```\n",
    "pip install ascat\n",
    "```\n",
    "The `ascat` package has a download interface `hsaf_download`. The interface needs the following information; a local path for saving the downloaded data, a remote path to locate the H SAF data products on the FTP server, and a start and end datetime for the query. Here we show how to download the H SAF SSM 6.25 km product for the last 30 days from the time of running this notebook. "
   ]
  },
  {
   "cell_type": "code",
   "execution_count": null,
   "id": "3",
   "metadata": {},
   "outputs": [],
   "source": [
    "local_path = \"h130\"\n",
    "remote_path = \"h130/h130_cur_mon_data\"\n",
    "start_date = datetime.now() - timedelta(days=30)\n",
    "end_date = datetime.now()"
   ]
  },
  {
   "cell_type": "markdown",
   "id": "4",
   "metadata": {},
   "source": [
    "You also need to provide your credentials to authenticate with the FTP server, which you obtained when registering as an user (see above). It is always a good practice to \"not\" store your credentials, tokens, and other secrets in scripts or notebooks. Hence, we will use a dotenv (`.env`). Dotenv is a tool that helps load environment variables from an `.env`-file into your application's environment, allowing you to manage configuration settings separately from your code.\n",
    "\n",
    "Before you can use dotenv, you will have to create the `.env`-file manually or with the command line, like so\n",
    "\n",
    "```\n",
    "touch .env\n",
    "```\n",
    "Open the file and write your email at the location indicated with `<your_email_here>` and your password here: `<your_password_here>`.\n",
    "\n",
    "```\n",
    "USER_HSAF=<your_email_here>\n",
    "PASS_HSAF=<your_password_here>\n",
    "```\n",
    "\n",
    "Now we can load the credentials from the dotenv and pass this information to the H SAF FTP server with `hsaf_download`."
   ]
  },
  {
   "cell_type": "code",
   "execution_count": null,
   "id": "5",
   "metadata": {},
   "outputs": [],
   "source": [
    "credentials = {\n",
    "    \"user\": dotenv_values(\".env\")[\"USER_HSAF\"],\n",
    "    \"password\": dotenv_values(\".env\")[\"PASS_HSAF\"],\n",
    "}"
   ]
  },
  {
   "cell_type": "markdown",
   "id": "6",
   "metadata": {},
   "source": [
    "In the following code cell, we create the location to store the downloaded data and start the download."
   ]
  },
  {
   "cell_type": "code",
   "execution_count": null,
   "id": "7",
   "metadata": {},
   "outputs": [],
   "source": [
    "%%time\n",
    "\n",
    "if not os.path.isdir(local_path):\n",
    "    os.mkdir(local_path)\n",
    "\n",
    "hsaf_download(credentials, remote_path, local_path, start_date, end_date, limit=5)"
   ]
  },
  {
   "cell_type": "markdown",
   "id": "8",
   "metadata": {},
   "source": [
    "## Swath vs. Cell Format Soil Moisture Data\n",
    "\n",
    "The data provided by the near real time service is provided in \"swath\" format as opposed to the \"cell\" format with which we worked before. A swath is the area on the Earth's surface that is observed or imaged by a satellite or an airborne sensor during a single pass. This is often visualized as a strip or a corridor of data collected as the satellite or aircraft moves along its path (see figure below). \n",
    "\n",
    "![The Advanced SCATterometer (ASCAT) (Source: [ESA](https://www.esa.int/Applications/Observing_the_Earth/Meteorological_missions/MetOp/Measuring_wind_over_the_oceans_with_ASCAT)) ](https://www.esa.int/var/esa/storage/images/esa_multimedia/images/2006/02/ascat_s_two_550_km-wide_swaths/9893928-2-eng-GB/ASCAT_s_two_550_km-wide_swaths_article.jpg)\n",
    "\n",
    "Each format has its unique characteristics and implications for Earth observation research: \n",
    "\n",
    "\n",
    "| Aspect                | Swath Format                                  | Cell Format                                   |\n",
    "|-----------------------|-----------------------------------------------|-----------------------------------------------|\n",
    "| **Definition**        | Data collected in continuous strips          | Data collected and presented in gridded format|\n",
    "| **Coverage**          | Broad spatial coverage in a single pass       | Localized and detailed view                   |\n",
    "| **Temporal Resolution**| High, frequent updates over large areas     | Lower, depends on satellite revisit time      |\n",
    "| **Data Processing**   | Complex, handles continuous data             | Straightforward, each cell is independent     |\n",
    "| **Applications**      | Large-scale hydrological studies, weather forecasting, climate monitoring | Precision agriculture, local hydrological studies, detailed environmental monitoring |\n",
    "\n",
    "In summary, the choice between swath and cell formats depends on the specific requirements of the Earth observation research. Swath data is advantageous for broad, frequent coverage, while cell data offers detailed, localized information.\n",
    "\n",
    "Let's have a look at the downloaded swath data. For this we can use again the `ascat` package and the `SwathGridFiles` class where point to the downloaded data and provide the product id `\"H130\"`. We can then read the data, which return the ASCAT 6.25 km data in swath format as a `Pandas.DataFrame`. "
   ]
  },
  {
   "cell_type": "code",
   "execution_count": null,
   "id": "9",
   "metadata": {},
   "outputs": [],
   "source": [
    "h130_nrt = SwathGridFiles.from_product_id(local_path, product_id=\"H130\")\n",
    "df = h130_nrt.read(date_range=(start_date, end_date)).to_dataframe()\n",
    "df"
   ]
  },
  {
   "cell_type": "markdown",
   "id": "10",
   "metadata": {},
   "source": [
    "## Data Quality Flags\n",
    "\n",
    "The `DataFrame` now includes additional columns when compared with earlier notebooks. These columns indicate that the data is accompanied by quality flags to ensure the reliability and accuracy of soil moisture estimates for specific studies and areas of interest. Users have to use these flags to filter out unreliable data to maintain an accurate overview of the conditions. \n",
    "\n",
    "For the data used in these notebooks, specific flags and threshold values were applied: \"topographic_complexity\" and \"wetland_fraction\" were set below 20%. This is because the backscattering of microwaves from topographically varied terrain, such as hills, valleys, and slopes, creates surface roughness that can scatter the microwave signal in multiple directions. This scattering leads to a more complex and less predictable backscatter signal. Additionally, wetland backscattering signals can be dominated by water, resulting in biased soil moisture retrievals. This bias can be further compounded by microwaves bouncing off water surfaces into reed belts and other vegetation along the shores of water bodies. To ensure sufficient variation in the backscatter signal, the sensitivity flag is set to more than 1 dB (decibel), allowing the retrieval algorithms to separate soil moisture contributions from noise. It is expected that in Mozambique, vegetation attenuation of microwaves can create unfavorable conditions for soil moisture retrievals due to this mechanism. \n",
    "\n",
    "By applying these quality flags and understanding their implications, users can better interpret the soil moisture data and ensure that their analyses are based on reliable and accurate information. This approach helps mitigate the potential biases introduced by topographic complexity and wetland influences, ultimately leading to more robust and informative soil moisture retrievals. \n",
    "\n",
    "## Selecting a Region of Interest\n",
    " \n",
    "We will plot the obtained soil moisture data without applying any filters, as we typically do. It is evident that the \"swath\" format data provides global coverage. However, this format makes it more challenging to directly download data specific to your area of interest, such as Mozambique. To target a specific region before downloading the data, one needs to understand the intersection of the swath geometry with the area of interest at any given time. This is beyond the scope of this course. At present you can download the whole swaths and then extract the region of interest."
   ]
  },
  {
   "cell_type": "code",
   "execution_count": null,
   "id": "11",
   "metadata": {},
   "outputs": [],
   "source": [
    "%run ../src/ssm_cmap.py\n",
    "\n",
    "df.hvplot.points(\n",
    "    x=\"longitude\",\n",
    "    y=\"latitude\",\n",
    "    c=\"surface_soil_moisture\",\n",
    "    x_sampling=0.16,\n",
    "    y_sampling=0.16,\n",
    "    rasterize=True,\n",
    "    crs=ccrs.PlateCarree(),\n",
    "    tiles=True,\n",
    "    cmap=SSM_CMAP,  # noqa\n",
    "    clim=(0, 100),\n",
    "    frame_width=500,\n",
    "    clabel=\"Surface soil moisture (%)\",\n",
    ")"
   ]
  }
 ],
 "metadata": {
  "kernelspec": {
   "display_name": "environmental-remote-sensing",
   "language": "python",
   "name": "environmental-remote-sensing"
  },
  "language_info": {
   "codemirror_mode": {
    "name": "ipython",
    "version": 3
   },
   "file_extension": ".py",
   "mimetype": "text/x-python",
   "name": "python",
   "nbconvert_exporter": "python",
   "pygments_lexer": "ipython3",
   "version": "3.13.5"
  }
 },
 "nbformat": 4,
 "nbformat_minor": 5
}
