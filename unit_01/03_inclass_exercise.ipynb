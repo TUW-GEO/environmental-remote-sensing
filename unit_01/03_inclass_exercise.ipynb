{
 "cells": [
  {
   "cell_type": "markdown",
   "id": "0",
   "metadata": {},
   "source": [
    "# Exercise 3\n",
    "**Drought Indicators based on Soil Moisture Data**\n",
    "\n",
    "## Overview\n",
    "\n",
    "In this exercise you will calculate some alternatives to the Z score anomaly detection; namely, the Soil Moisture Anomaly Percentage Index (SMAPI) and the modified Z sore. A comprehensive overview of drought indicators can be found in Vreugdenhil et al., 2022[^1]\n",
    "\n",
    "$$ \n",
    "\\begin{aligned}\n",
    "\\text{ Z score: }  &\\quad  z_{k,i} = \\frac{\\text{SM}_{k,i} - \\bar{\\text{SM}}_i}{s^{\\bar{\\text{SM}}_i}}  \\\\\n",
    "\\text{ SMAPI: }  &\\quad  I_{k, i} =  \\frac{\\text{SM}_{k, i} - \\bar{\\text{SM}}_i}{ \\bar{\\text{SM}}_i} \\times 100 \\\\\n",
    "\\text{ Modified Z score: }  &\\quad  z_{k,i}^* = 0.6745 \\frac{\\text{SM}_{k,i} - \\tilde{\\text{SM}}_i}{MAD} &\\quad \\text{MAD} = \\text{median} \\left( \\left| x_i - \\tilde{x} \\right| \\right)\n",
    "\\end{aligned}\n",
    "$$\n",
    "\n",
    "where:\n",
    "\n",
    "$$\n",
    "\\begin{align}\n",
    "\\text{SM}_{k,i} &\\quad \\text{: soil moisture for specific period (e.g., month) (} \\; i \\; \\text{) and year (} \\; k \\; \\text{)}\\\\\n",
    "\\bar{\\text{SM}}_i &\\quad \\text{: long-term mean soil moisture for specific period (e.g., month) (} \\; i \\; \\text{)} \\\\\n",
    "\\tilde{\\text{SM}}_i &\\quad \\text{: long-term median soil moisture for specific period (e.g., month) (} \\; i \\; \\text{)} \\\\\n",
    "s^{\\bar{\\text{SM}}_i} &\\quad \\text{: long-term standard deviation soil moisture for specific period (e.g., month) (} \\; i \\; \\text{)}\n",
    "\\end{align}\n",
    "$$\n",
    "\n",
    "[^1]: Vreugdenhil, Mariette, Isabella Greimeister-Pfeil, Wolfgang Preimesberger, et al. 2022. “Microwave Remote Sensing for Agricultural Drought Monitoring: Recent Developments and Challenges.” Frontiers in Water 4 (November). [doi: frwa.2022.1045451](https://doi.org/10.3389/frwa.2022.1045451).\n",
    "\n",
    "## Imports"
   ]
  },
  {
   "cell_type": "code",
   "execution_count": null,
   "id": "1",
   "metadata": {},
   "outputs": [],
   "source": [
    "import hvplot.pandas  # noqa\n",
    "import pandas as pd"
   ]
  },
  {
   "cell_type": "markdown",
   "id": "2",
   "metadata": {},
   "source": [
    "## Loading Soil Moisture Data\n",
    "\n",
    "We will Surface Soil Moisture (SSM) time series for Buzi, Chokwé, Mabalane, Mabote and Muanza ASCAT. As before, we load the data as a `pandas.DataFrame`. "
   ]
  },
  {
   "cell_type": "code",
   "execution_count": null,
   "id": "3",
   "metadata": {},
   "outputs": [],
   "source": [
    "%run ../src/download_path.py\n",
    "\n",
    "url = make_url(\"ascat-6_25_ssm_timeseries.csv\")  # noqa\n",
    "ts = pd.read_csv(\n",
    "    url,\n",
    "    index_col=\"time\",\n",
    "    parse_dates=True,\n",
    ")"
   ]
  },
  {
   "cell_type": "markdown",
   "id": "4",
   "metadata": {},
   "source": [
    "## Monthly Aggregates\n",
    "\n",
    "The calculation of drought indicators will be performed over monthly aggregates."
   ]
  },
  {
   "cell_type": "code",
   "execution_count": null,
   "id": "5",
   "metadata": {},
   "outputs": [],
   "source": [
    "ts_monthly = (\n",
    "    ts.groupby([pd.Grouper(freq=\"ME\"), \"name\"])\n",
    "    .surface_soil_moisture.mean()\n",
    "    .reset_index(level=\"name\")\n",
    ")\n",
    "\n",
    "ts_monthly.hvplot.line(\n",
    "    x=\"time\",\n",
    "    y=\"surface_soil_moisture\",\n",
    "    by=\"name\",\n",
    "    frame_width=800,\n",
    "    padding=(0.01, 0.1),\n",
    ")"
   ]
  },
  {
   "cell_type": "markdown",
   "id": "6",
   "metadata": {},
   "source": [
    "## Calculation of Drought Indicators\n",
    "\n",
    "Calculation of Drought Indicators will involve two steps:\n",
    "\n",
    "1. Translate the equation into `pandas` math operations\n",
    "2. Apply the function to a time series grouped for each location (`\"name\"`) and the month (`ts_monthly.index.month`)."
   ]
  },
  {
   "cell_type": "code",
   "execution_count": null,
   "id": "7",
   "metadata": {},
   "outputs": [],
   "source": [
    "def zscore(x):\n",
    "    return (x - x.mean()) / x.std()"
   ]
  },
  {
   "cell_type": "code",
   "execution_count": null,
   "id": "8",
   "metadata": {},
   "outputs": [],
   "source": [
    "ts_monthly[\"zscore\"] = ts_monthly.groupby(\n",
    "    [ts_monthly.index.month, \"name\"]\n",
    ").surface_soil_moisture.transform(zscore)\n",
    "ts_monthly.hvplot.line(\n",
    "    x=\"time\",\n",
    "    y=\"zscore\",\n",
    "    by=\"name\",\n",
    "    frame_width=800,\n",
    "    padding=(0.01, 0.1),\n",
    ")"
   ]
  },
  {
   "cell_type": "markdown",
   "id": "9",
   "metadata": {},
   "source": [
    "Now it is your turn to do the same for \"SMAPI\" and the \"Modified Z score\" by filling in the blanks `...`."
   ]
  },
  {
   "cell_type": "markdown",
   "id": "10",
   "metadata": {},
   "source": [
    "## Soil Moisture Anomaly Percentage Index (SMAPI)"
   ]
  },
  {
   "cell_type": "code",
   "execution_count": null,
   "id": "11",
   "metadata": {},
   "outputs": [],
   "source": [
    "def SMAPI(x):\n",
    "    return ...  # ADD YOUR CODE"
   ]
  },
  {
   "cell_type": "code",
   "execution_count": null,
   "id": "12",
   "metadata": {},
   "outputs": [],
   "source": [
    "ts_monthly[\"smapi\"] = ...  # ADD YOUR CODE\n",
    "ts_monthly.hvplot.line(\n",
    "    x=\"time\",\n",
    "    y=\"zscore\",\n",
    "    by=\"name\",\n",
    "    frame_width=800,\n",
    "    padding=(0.01, 0.1),\n",
    ")"
   ]
  },
  {
   "cell_type": "markdown",
   "id": "13",
   "metadata": {},
   "source": [
    "## Modified Z sore."
   ]
  },
  {
   "cell_type": "code",
   "execution_count": null,
   "id": "14",
   "metadata": {},
   "outputs": [],
   "source": [
    "def modified_zscore(x):\n",
    "    return ...  # ADD YOUR CODE"
   ]
  },
  {
   "cell_type": "code",
   "execution_count": null,
   "id": "15",
   "metadata": {},
   "outputs": [],
   "source": [
    "ts_monthly[\"modified_zscore\"] = ...  # ADD YOUR CODE\n",
    "ts_monthly.hvplot.line(\n",
    "    x=\"time\",\n",
    "    y=\"zscore\",\n",
    "    by=\"name\",\n",
    "    frame_width=800,\n",
    "    padding=(0.01, 0.1),\n",
    ")"
   ]
  },
  {
   "cell_type": "markdown",
   "id": "16",
   "metadata": {},
   "source": [
    "## Compare the results"
   ]
  },
  {
   "cell_type": "code",
   "execution_count": null,
   "id": "17",
   "metadata": {},
   "outputs": [],
   "source": [
    "(\n",
    "    ts_monthly.hvplot.line(\n",
    "        x=\"time\",\n",
    "        y=[\"zscore\", \"modified_zscore\"],\n",
    "        groupby=\"name\",\n",
    "        frame_width=800,\n",
    "        padding=(0.01, 0.1),\n",
    "    )\n",
    "    + ts_monthly.hvplot.line(\n",
    "        x=\"time\",\n",
    "        y=[\"smapi\"],\n",
    "        groupby=\"name\",\n",
    "        frame_width=800,\n",
    "        padding=(0.01, 0.1),\n",
    "    )\n",
    ").cols(1)"
   ]
  }
 ],
 "metadata": {
  "kernelspec": {
   "display_name": "environmental-remote-sensing",
   "language": "python",
   "name": "environmental-remote-sensing"
  },
  "language_info": {
   "codemirror_mode": {
    "name": "ipython",
    "version": 3
   },
   "file_extension": ".py",
   "mimetype": "text/x-python",
   "name": "python",
   "nbconvert_exporter": "python",
   "pygments_lexer": "ipython3",
   "version": "3.13.5"
  }
 },
 "nbformat": 4,
 "nbformat_minor": 5
}
