{
 "cells": [
  {
   "cell_type": "markdown",
   "id": "0",
   "metadata": {},
   "source": [
    "# Exercise 3\n",
    "**Drought Indicators based on Soil Moisture Data**\n",
    "\n",
    "## Overview\n",
    "\n",
    "In this exercise you will calculate some alternatives to the Z score anomaly detection; namely, the Soil Moisture Anomaly Percentage Index (SMAPI) and the modified Z sore. A comprehensive overview of drought indicators can be found in Vreugdenhil et al., 2022[^1]\n",
    "\n",
    "\n",
    "\n",
    "$$ \n",
    "\\begin{aligned}\n",
    "\\text{ Z score: }  &\\quad  z_{k,i} = \\frac{\\text{SM}_{k,i} - \\bar{\\text{SM}}_i}{s^{\\bar{\\text{SM}}_i}}  \\\\\n",
    "\\text{ SMAPI: }  &\\quad  I_{k, i} =  \\frac{\\text{SM}_{k, i} - \\bar{\\text{SM}}_i}{ \\bar{\\text{SM}}_i} \\times 100 \\\\\n",
    "\\text{ Modified Z score: }  &\\quad  z_{k,i}^* = 0.6745 \\frac{\\text{SM}_{k,i} - \\tilde{\\text{SM}}_i}{\\text{MAD}_i} &\\quad \\text{MAD} = \\text{median} \\left( \\left| x_i - \\tilde{x} \\right| \\right)\n",
    "\\end{aligned}\n",
    "$$\n",
    "\n",
    "where:\n",
    "\n",
    "$$\n",
    "\\begin{align}\n",
    "\\text{SM}_{k,i} &\\quad \\text{: soil moisture for specific period (e.g., month) (} \\; i \\; \\text{) and year (} \\; k \\; \\text{)}\\\\\n",
    "\\bar{\\text{SM}}_i &\\quad \\text{: long-term mean soil moisture for specific period (e.g., month) (} \\; i \\; \\text{)} \\\\\n",
    "\\tilde{\\text{SM}}_i &\\quad \\text{: long-term median soil moisture for specific period (e.g., month) (} \\; i \\; \\text{)} \\\\\n",
    "s^{\\bar{\\text{SM}}_i} &\\quad \\text{: long-term standard deviation soil moisture for specific period (e.g., month) (} \\; i \\; \\text{)} \\\\\n",
    "\\text{MAD}_i &\\quad \\text{: long-term median absolute deviation soil moisture for specific period (e.g., month) (} \\; i \\; \\text{)}\n",
    "\\end{align}\n",
    "$$\n",
    "\n",
    "[^1]: Vreugdenhil, Mariette, Isabella Greimeister-Pfeil, Wolfgang Preimesberger, et al. 2022. “Microwave Remote Sensing for Agricultural Drought Monitoring: Recent Developments and Challenges.” Frontiers in Water 4 (November). [doi: frwa.2022.1045451](https://doi.org/10.3389/frwa.2022.1045451).\n",
    "\n",
    "## Imports"
   ]
  },
  {
   "cell_type": "code",
   "execution_count": null,
   "id": "1",
   "metadata": {},
   "outputs": [],
   "source": [
    "import hvplot.pandas  # noqa\n",
    "import pandas as pd\n",
    "from envrs.download_path import make_url"
   ]
  },
  {
   "cell_type": "markdown",
   "id": "2",
   "metadata": {},
   "source": [
    "## Loading Soil Moisture Data\n",
    "\n",
    "We will Surface Soil Moisture (SSM) time series for Buzi, Chokwé, Mabalane, Mabote and Muanza ASCAT. As before, we load the data as a `pandas.DataFrame`. "
   ]
  },
  {
   "cell_type": "code",
   "execution_count": null,
   "id": "3",
   "metadata": {},
   "outputs": [],
   "source": [
    "url = make_url(\"ascat-6_25_ssm_timeseries.csv\")\n",
    "ts = pd.read_csv(\n",
    "    url,\n",
    "    index_col=\"time\",\n",
    "    parse_dates=True,\n",
    ")"
   ]
  },
  {
   "cell_type": "markdown",
   "id": "4",
   "metadata": {},
   "source": [
    "## Calculation of Drought Indicators\n",
    "\n",
    "Calculation of Drought Indicators will involve two steps:\n",
    "\n",
    "1. Translate the equation into `pandas` math operations\n",
    "2. Aggregate the time series\n",
    "2. Apply the function to a time series grouped for each location (`\"name\"`) and the month (`ts_monthly.index.month`)."
   ]
  },
  {
   "cell_type": "code",
   "execution_count": null,
   "id": "5",
   "metadata": {},
   "outputs": [],
   "source": [
    "def zscore(x: pd.Series) -> pd.Series:\n",
    "    \"\"\"Z Score.\n",
    "\n",
    "    Parameters\n",
    "    ----------\n",
    "    x : pd.Series\n",
    "        Monthly aggregated surface soil moisture values\n",
    "\n",
    "\n",
    "    Returns\n",
    "    -------\n",
    "    Z scores : pd.Series\n",
    "\n",
    "    \"\"\"\n",
    "    return (x - x.mean()) / x.std()"
   ]
  },
  {
   "cell_type": "code",
   "execution_count": null,
   "id": "6",
   "metadata": {},
   "outputs": [],
   "source": [
    "ts_monthly = (\n",
    "    ts.groupby([pd.Grouper(freq=\"ME\"), \"name\"])\n",
    "    .surface_soil_moisture.mean()\n",
    "    .reset_index(level=\"name\")\n",
    ")"
   ]
  },
  {
   "cell_type": "code",
   "execution_count": null,
   "id": "7",
   "metadata": {},
   "outputs": [],
   "source": [
    "ts_monthly[\"zscore\"] = ts_monthly.groupby(\n",
    "    [ts_monthly.index.month, \"name\"]\n",
    ").surface_soil_moisture.transform(zscore)\n",
    "ts_monthly.hvplot.line(\n",
    "    x=\"time\",\n",
    "    y=\"zscore\",\n",
    "    by=\"name\",\n",
    "    frame_width=800,\n",
    "    padding=(0.01, 0.1),\n",
    ")"
   ]
  },
  {
   "cell_type": "markdown",
   "id": "8",
   "metadata": {},
   "source": [
    "Now it is your turn to do the same for \"SMAPI\" and the \"Modified Z score\" by filling in the blanks `...`."
   ]
  },
  {
   "cell_type": "markdown",
   "id": "9",
   "metadata": {},
   "source": [
    "## Soil Moisture Anomaly Percentage Index (SMAPI)"
   ]
  },
  {
   "cell_type": "code",
   "execution_count": null,
   "id": "10",
   "metadata": {},
   "outputs": [],
   "source": [
    "def smapi(x: pd.Series) -> pd.Series:  # noqa: D103\n",
    "    return  # noqa: ADD YOUR CODE HERE"
   ]
  },
  {
   "cell_type": "code",
   "execution_count": null,
   "id": "11",
   "metadata": {},
   "outputs": [],
   "source": [
    "# noqa: ADD YOUR CODE HERE"
   ]
  },
  {
   "cell_type": "code",
   "execution_count": null,
   "id": "12",
   "metadata": {},
   "outputs": [],
   "source": [
    "ts_monthly[\"smapi\"] = ts_monthly.groupby(\n",
    "    [ts_monthly.index.month, \"name\"]\n",
    ").surface_soil_moisture.transform(smapi)\n",
    "ts_monthly.hvplot.line(\n",
    "    x=\"time\",\n",
    "    y=\"smapi\",\n",
    "    by=\"name\",\n",
    "    frame_width=800,\n",
    "    padding=(0.01, 0.1),\n",
    ")"
   ]
  },
  {
   "cell_type": "markdown",
   "id": "13",
   "metadata": {},
   "source": [
    "## Modified Z sore."
   ]
  },
  {
   "cell_type": "code",
   "execution_count": null,
   "id": "14",
   "metadata": {},
   "outputs": [],
   "source": [
    "def modified_zscore(x: pd.Series) -> pd.Series:  # noqa: D103\n",
    "    return  # noqa: ADD YOUR CODE HERE"
   ]
  },
  {
   "cell_type": "code",
   "execution_count": null,
   "id": "15",
   "metadata": {},
   "outputs": [],
   "source": [
    "# noqa: ADD YOUR CODE HERE"
   ]
  },
  {
   "cell_type": "code",
   "execution_count": null,
   "id": "16",
   "metadata": {},
   "outputs": [],
   "source": [
    "ts_monthly[\"modified_zscore\"] = ts_monthly.groupby(\n",
    "    [ts_monthly.index.month, \"name\"]\n",
    ").ssm_monthly_median.transform(modified_zscore)\n",
    "ts_monthly.hvplot.line(\n",
    "    x=\"time\",\n",
    "    y=\"modified_zscore\",\n",
    "    by=\"name\",\n",
    "    frame_width=800,\n",
    "    padding=(0.01, 0.1),\n",
    ")"
   ]
  },
  {
   "cell_type": "markdown",
   "id": "17",
   "metadata": {},
   "source": [
    "## Compare the results"
   ]
  },
  {
   "cell_type": "code",
   "execution_count": null,
   "id": "18",
   "metadata": {},
   "outputs": [],
   "source": [
    "(\n",
    "    ts_monthly.hvplot.line(\n",
    "        x=\"time\",\n",
    "        y=[\"zscore\", \"modified_zscore\"],\n",
    "        groupby=\"name\",\n",
    "        frame_width=800,\n",
    "        padding=(0.01, 0.1),\n",
    "    )\n",
    "    + ts_monthly.hvplot.line(\n",
    "        x=\"time\",\n",
    "        y=[\"smapi\"],\n",
    "        groupby=\"name\",\n",
    "        frame_width=800,\n",
    "        padding=(0.01, 0.1),\n",
    "    )\n",
    ").cols(1)"
   ]
  }
 ],
 "metadata": {
  "kernelspec": {
   "display_name": "environmental-remote-sensing",
   "language": "python",
   "name": "environmental-remote-sensing"
  },
  "language_info": {
   "codemirror_mode": {
    "name": "ipython",
    "version": 3
   },
   "file_extension": ".py",
   "mimetype": "text/x-python",
   "name": "python",
   "nbconvert_exporter": "python",
   "pygments_lexer": "ipython3",
   "version": "3.13.5"
  }
 },
 "nbformat": 4,
 "nbformat_minor": 5
}
