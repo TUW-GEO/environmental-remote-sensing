{
 "cells": [
  {
   "cell_type": "markdown",
   "id": "0",
   "metadata": {},
   "source": [
    "# Exercise 2\n",
    "**Evaluate the Scale of Measurement on Soil Moisture**\n",
    "\n",
    "\n",
    "## Overview\n",
    "\n",
    "\n",
    "\n",
    "## Imports"
   ]
  },
  {
   "cell_type": "code",
   "execution_count": null,
   "id": "1",
   "metadata": {},
   "outputs": [],
   "source": [
    "import hvplot.pandas  # noqa\n",
    "import pandas as pd\n",
    "from fibgrid.realization import FibGrid"
   ]
  },
  {
   "cell_type": "markdown",
   "id": "2",
   "metadata": {},
   "source": [
    "## Loading Soil Moisture and Anomaly Data\n",
    "\n",
    "As before, we load the data as a `pandas.DataFrame`."
   ]
  },
  {
   "cell_type": "code",
   "execution_count": null,
   "id": "3",
   "metadata": {},
   "outputs": [],
   "source": [
    "%run ../src/download_path.py\n",
    "\n",
    "url = make_url(\"era5-6_25_monthly.csv\")  # noqa\n",
    "df_era5_month = pd.read_csv(\n",
    "    url,\n",
    "    index_col=\"time\",\n",
    "    parse_dates=True,\n",
    ")\n",
    "\n",
    "df_era5_month.head()"
   ]
  },
  {
   "cell_type": "markdown",
   "id": "4",
   "metadata": {},
   "source": [
    "## Pandas Indexing and Selecting\n",
    "\n",
    "Pandas is create for slicing and dicing you data. Extract the following locations id from from "
   ]
  },
  {
   "cell_type": "code",
   "execution_count": null,
   "id": "5",
   "metadata": {},
   "outputs": [],
   "source": [
    "locations = {\n",
    "    \"Muanza\": {\"latitude\": -18.9064758, \"longitude\": 34.7738921},\n",
    "    \"Chokwé\": {\"latitude\": -24.5894393, \"longitude\": 33.0262595},\n",
    "    \"Mabote\": {\"latitude\": -22.0530427, \"longitude\": 34.1227842},\n",
    "    \"Mabalane\": {\"latitude\": -23.4258788, \"longitude\": 32.5448211},\n",
    "    \"Buzi\": {\"latitude\": -19.9747305, \"longitude\": 34.1391065},\n",
    "}\n",
    "\n",
    "\n",
    "def find_location_ids(locations):\n",
    "    grid = FibGrid(6.25)\n",
    "    location_ids = dict()\n",
    "\n",
    "    for i in locations.keys():\n",
    "        location_ids[i] = grid.find_nearest_gpi(\n",
    "            lat=locations[i][\"latitude\"], lon=locations[i][\"longitude\"]\n",
    "        )[0]\n",
    "    return location_ids\n",
    "\n",
    "\n",
    "location_ids = find_location_ids(locations)\n",
    "location_ids"
   ]
  },
  {
   "cell_type": "code",
   "execution_count": null,
   "id": "6",
   "metadata": {},
   "outputs": [],
   "source": [
    "df_era5_month[df_era5_month.location_id.isin(list(location_ids.values()))]"
   ]
  }
 ],
 "metadata": {
  "kernelspec": {
   "display_name": "Python 3",
   "language": "python",
   "name": "python3"
  },
  "language_info": {
   "codemirror_mode": {
    "name": "ipython",
    "version": 3
   },
   "file_extension": ".py",
   "mimetype": "text/x-python",
   "name": "python",
   "nbconvert_exporter": "python",
   "pygments_lexer": "ipython3",
   "version": "3.13.5"
  }
 },
 "nbformat": 4,
 "nbformat_minor": 5
}
