{
 "cells": [
  {
   "cell_type": "markdown",
   "id": "0",
   "metadata": {},
   "source": [
    "# Exercise 2\n",
    "**Evaluate the Scale of Measurement on Soil Moisture**\n",
    "\n",
    "\n",
    "## Overview\n",
    "\n",
    "\n",
    "\n",
    "## Imports"
   ]
  },
  {
   "cell_type": "code",
   "execution_count": null,
   "id": "1",
   "metadata": {},
   "outputs": [],
   "source": [
    "import hvplot.pandas  # noqa\n",
    "import pandas as pd"
   ]
  },
  {
   "cell_type": "markdown",
   "id": "2",
   "metadata": {},
   "source": [
    "## Loading Soil Moisture and Anomaly Data\n",
    "\n",
    "As before, we load the data as a `pandas.DataFrame`."
   ]
  },
  {
   "cell_type": "code",
   "execution_count": null,
   "id": "3",
   "metadata": {},
   "outputs": [],
   "source": [
    "%run ../src/download_path.py\n",
    "\n",
    "url = make_url(\"era5_ssm_timeseries.csv\")  # noqa\n",
    "df_era5 = pd.read_csv(\n",
    "    url,\n",
    "    index_col=\"time\",\n",
    "    parse_dates=True,\n",
    ")\n",
    "\n",
    "df_era5.head()"
   ]
  },
  {
   "cell_type": "code",
   "execution_count": null,
   "id": "4",
   "metadata": {},
   "outputs": [],
   "source": [
    "url = make_url(\"ascat-6_25_ssm_timeseries.csv\")  # noqa\n",
    "df_ascat = pd.read_csv(\n",
    "    url,\n",
    "    index_col=\"time\",\n",
    "    parse_dates=True,\n",
    ")\n",
    "\n",
    "df_ascat.head()"
   ]
  },
  {
   "cell_type": "code",
   "execution_count": null,
   "id": "5",
   "metadata": {},
   "outputs": [],
   "source": [
    "density_df = pd.DataFrame(\n",
    "    {\n",
    "        \"name\": [\"Buzi\", \"Chokwé\", \"Mabalane\", \"Mabote\", \"Muanza\"],\n",
    "        \"bulk_density\": [1.25, 1.4, 1.4, 1.35, 1.25],\n",
    "    }\n",
    ").set_index(\"name\")\n",
    "density_df"
   ]
  },
  {
   "cell_type": "code",
   "execution_count": null,
   "id": "6",
   "metadata": {},
   "outputs": [],
   "source": [
    "def calc_porosity(x):\n",
    "    return 1 - x / 2.65\n",
    "\n",
    "\n",
    "porosity_df = density_df.transform(calc_porosity).rename(\n",
    "    columns={\"bulk_density\": \"porosity\"}\n",
    ")\n",
    "porosity_df"
   ]
  },
  {
   "cell_type": "markdown",
   "id": "7",
   "metadata": {},
   "source": [
    "## Pandas Indexing and Selecting\n",
    "\n",
    "Pandas is great for slicing and dicing you data. In the following, we will be using the data of the following locations, as also introduced in the notebooks. Here we show how to extract the location ids given the longitude and latitude of the location."
   ]
  },
  {
   "cell_type": "code",
   "execution_count": null,
   "id": "8",
   "metadata": {},
   "outputs": [],
   "source": [
    "density_df = pd.DataFrame(\n",
    "    {\n",
    "        \"name\": [\"Buzi\", \"Chokwé\", \"Mabalane\", \"Mabote\", \"Muanza\"],\n",
    "        \"bulk_density\": [1.25, 1.4, 1.4, 1.35, 1.25],\n",
    "    }\n",
    ").set_index(\"name\")\n",
    "density_df"
   ]
  },
  {
   "cell_type": "code",
   "execution_count": null,
   "id": "9",
   "metadata": {},
   "outputs": [],
   "source": [
    "df_ascat_porosity = df_ascat.merge(porosity_df, left_on=\"name\", right_index=True)\n",
    "df_ascat_porosity.head()"
   ]
  },
  {
   "cell_type": "code",
   "execution_count": null,
   "id": "10",
   "metadata": {},
   "outputs": [],
   "source": [
    "def deg2vol(df):\n",
    "    return df[\"porosity\"] * df[\"surface_soil_moisture\"] / 100\n",
    "\n",
    "\n",
    "df_ascat_vol = df_ascat.copy()\n",
    "df_ascat_vol[\"unit\"] = \"m³/m³\"\n",
    "df_ascat_vol[\"surface_soil_moisture\"] = df_ascat_porosity.apply(deg2vol, axis=1)\n",
    "df_ascat_vol.head()"
   ]
  },
  {
   "cell_type": "markdown",
   "id": "11",
   "metadata": {},
   "source": [
    "## Correlating"
   ]
  },
  {
   "cell_type": "code",
   "execution_count": null,
   "id": "12",
   "metadata": {},
   "outputs": [],
   "source": [
    "df = pd.concat([df_era5, df_ascat_vol])\n",
    "df.head()"
   ]
  },
  {
   "cell_type": "code",
   "execution_count": null,
   "id": "13",
   "metadata": {},
   "outputs": [],
   "source": [
    "df.hvplot.scatter(\n",
    "    x=\"time\",\n",
    "    y=\"surface_soil_moisture\",\n",
    "    by=\"type\",\n",
    "    groupby=\"name\",\n",
    "    frame_width=800,\n",
    "    padding=(0.01, 0.1),\n",
    "    alpha=0.5,\n",
    ")"
   ]
  },
  {
   "cell_type": "code",
   "execution_count": null,
   "id": "14",
   "metadata": {},
   "outputs": [],
   "source": [
    "df_insitu_daily = (\n",
    "    df_era5.groupby(\"name\")[\"surface_soil_moisture\"]\n",
    "    .resample(\"D\")\n",
    "    .median()\n",
    "    .to_frame(\"era5\")\n",
    ")\n",
    "\n",
    "df_ascat_vol_daily = (\n",
    "    df_ascat_vol.groupby(\"name\")[\"surface_soil_moisture\"]\n",
    "    .resample(\"D\")\n",
    "    .median()\n",
    "    .to_frame(\"ascat\")\n",
    ")\n",
    "\n",
    "df_combined = pd.merge(\n",
    "    df_ascat_vol_daily, df_insitu_daily, left_index=True, right_index=True\n",
    ")\n",
    "df_combined.head()"
   ]
  },
  {
   "cell_type": "code",
   "execution_count": null,
   "id": "15",
   "metadata": {},
   "outputs": [],
   "source": [
    "df_combined.groupby(\"name\").corr(method=\"pearson\")"
   ]
  }
 ],
 "metadata": {
  "kernelspec": {
   "display_name": "environmental-remote-sensing",
   "language": "python",
   "name": "environmental-remote-sensing"
  },
  "language_info": {
   "codemirror_mode": {
    "name": "ipython",
    "version": 3
   },
   "file_extension": ".py",
   "mimetype": "text/x-python",
   "name": "python",
   "nbconvert_exporter": "python",
   "pygments_lexer": "ipython3",
   "version": "3.13.5"
  }
 },
 "nbformat": 4,
 "nbformat_minor": 5
}
