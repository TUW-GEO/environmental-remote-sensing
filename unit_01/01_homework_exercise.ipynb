{
 "cells": [
  {
   "cell_type": "markdown",
   "id": "0",
   "metadata": {},
   "source": [
    "# Exercise 1\n",
    "**Making Publication Ready Drought Maps**\n",
    "\n",
    "\n",
    "## Overview\n",
    "\n",
    "Creating publication-ready maps of drought events using H SAF ASCAT Surface Soil Moisture (SSM) data involves several steps, including data acquisition, pre-processing, analysis, and visualization. Below is a step-by-step guide to help you through this process using Python, specifically with the  [`matplotlib`](https://matplotlib.org/) and  [`cartopy`](https://scitools.org.uk/cartopy/docs/latest/) libraries for visualization.  \n",
    "\n",
    "- **Step 1: Data Acquisition**: First, you need to acquire the H SAF ASCAT SSM data. This data is typically available from satellite data providers or specialized repositories. For this example, the data is again prepared, but we will look into data access in another notebook. \n",
    "\n",
    "- **Step 2: Data Pre-processing**: Pre-process the data to calculate monthly aggregated Z-scores. This has already been done for the dataset used here. For the best results it would then be necessary to resample the data from the Fibonacci grid to a longitude/latitude grid ([WGS84](https://en.wikipedia.org/wiki/World_Geodetic_System)). We will be using [`pyresample`](https://pyresample.readthedocs.io/en/latest/index.html).\n",
    "\n",
    "\n",
    "- **Step 3: Analysis**: Identify drought events based on the Z-scores. A common threshold for drought identification is a Z-score of -1 or lower. We won't delve into this much at this point, but we will return to it in notebook 3.\n",
    "\n",
    "- **Step 4: Visualization**: Use  `matplotlib` and  `cartopy` to create publication-ready maps.  \n",
    "\n",
    "## Imports"
   ]
  },
  {
   "cell_type": "code",
   "execution_count": null,
   "id": "1",
   "metadata": {},
   "outputs": [],
   "source": [
    "import os\n",
    "\n",
    "os.environ[\"PROJ_DATA\"] = \"/opt/conda/share/proj/proj.db\"\n",
    "\n",
    "import cartopy.crs as ccrs\n",
    "import geopandas as gpd\n",
    "import hvplot.pandas  # noqa\n",
    "import matplotlib.dates as mdates  # noqa\n",
    "import matplotlib.pyplot as plt\n",
    "import pandas as pd\n",
    "import rioxarray  # noqa\n",
    "import xarray as xr\n",
    "from cartopy.mpl.ticker import (\n",
    "    LatitudeFormatter,\n",
    "    LatitudeLocator,\n",
    "    LongitudeFormatter,\n",
    "    LongitudeLocator,\n",
    ")\n",
    "from fibgrid.realization import FibGrid\n",
    "from pyresample import create_area_def, geometry\n",
    "from pyresample.kd_tree import resample_gauss\n",
    "from shapely.geometry import mapping\n",
    "\n",
    "from envrs.download_path import make_url"
   ]
  },
  {
   "cell_type": "markdown",
   "id": "2",
   "metadata": {},
   "source": [
    "## Loading Soil Moisture and Anomaly Data\n",
    "\n",
    "As before, we load the data as a `pandas.DataFrame`."
   ]
  },
  {
   "cell_type": "code",
   "execution_count": null,
   "id": "3",
   "metadata": {},
   "outputs": [],
   "source": [
    "url = make_url(\"ascat-6_25_ssm_monthly.csv\")\n",
    "df_month = pd.read_csv(\n",
    "    url,\n",
    "    index_col=[\"time\", \"location_id\"],\n",
    "    parse_dates=[\"time\"],\n",
    ")\n",
    "\n",
    "df_month.head()"
   ]
  },
  {
   "cell_type": "markdown",
   "id": "4",
   "metadata": {},
   "source": [
    "## Creating Timeseries Plots\n",
    "\n",
    "First, we will look how to create timeseries plot with `matplotlib`. For this we will first select a coordinate from the dataset. To do this we need to obtain the nearest `location_id` with the `FibGrid` package. In this example we will again extract the location for Muanza."
   ]
  },
  {
   "cell_type": "code",
   "execution_count": null,
   "id": "5",
   "metadata": {},
   "outputs": [],
   "source": [
    "grid = FibGrid(6.25)\n",
    "location_id = grid.find_nearest_gpi(lat=-18.9064758, lon=34.7738921)[0]  # Muanza\n",
    "location_id"
   ]
  },
  {
   "cell_type": "markdown",
   "id": "6",
   "metadata": {},
   "source": [
    "we can then use the returned location to subset the dataset for the timeseries of that location."
   ]
  },
  {
   "cell_type": "code",
   "execution_count": null,
   "id": "7",
   "metadata": {},
   "outputs": [],
   "source": [
    "df_muanza = df_month[df_month.index.get_level_values(\"location_id\") == location_id]"
   ]
  },
  {
   "cell_type": "markdown",
   "id": "8",
   "metadata": {},
   "source": [
    "Plotting the timeseries as a `matplotlib` plot is now straightforward with the `Pandas` method `plot`."
   ]
  },
  {
   "cell_type": "code",
   "execution_count": null,
   "id": "9",
   "metadata": {},
   "outputs": [],
   "source": [
    "ax = df_muanza.reset_index(\"location_id\")[\"surface_soil_moisture\"].plot()\n",
    "ax.set_ylabel(\"surface soil moisture (%)\")\n",
    "ax.set_xlabel(\"\")"
   ]
  },
  {
   "cell_type": "markdown",
   "id": "10",
   "metadata": {},
   "source": [
    "Now it is your turn. Select a longitude and latitude in Mozambique and try to plot the timeseries.\n",
    "\n",
    "*Note, not all locations have valid surface soil moisture retrievals from H SAF ASCAT and thus won't return data.*"
   ]
  },
  {
   "cell_type": "code",
   "execution_count": null,
   "id": "11",
   "metadata": {},
   "outputs": [],
   "source": [
    "# Your timeseries goes here"
   ]
  },
  {
   "cell_type": "markdown",
   "id": "12",
   "metadata": {},
   "source": [
    "## Creating Drought Maps\n",
    "### Selection of a Time Window\n",
    "\n",
    "First, we will select a time window and quickly plot the results with `hvplot` as we did in notebook 1."
   ]
  },
  {
   "cell_type": "code",
   "execution_count": null,
   "id": "13",
   "metadata": {},
   "outputs": [],
   "source": [
    "quicklook_args = {\n",
    "    \"x\": \"longitude\",\n",
    "    \"y\": \"latitude\",\n",
    "    \"c\": \"zscore\",\n",
    "    \"x_sampling\": 0.08,\n",
    "    \"y_sampling\": 0.08,\n",
    "    \"rasterize\": True,\n",
    "    \"crs\": ccrs.PlateCarree(),\n",
    "    \"tiles\": True,\n",
    "    \"cmap\": \"reds_r\",\n",
    "    \"clim\": (-4, 0),\n",
    "    \"frame_width\": 500,\n",
    "    \"clabel\": \"Drought anomaly\",\n",
    "}\n",
    "selected_date = \"2016-01-01\"\n",
    "df_month_20260101 = df_month.loc[selected_date]\n",
    "df_month_20260101.hvplot.points(**quicklook_args)"
   ]
  },
  {
   "cell_type": "markdown",
   "id": "14",
   "metadata": {},
   "source": [
    "## Resampling the Fibonacci grid\n",
    "\n",
    "For the publication ready plot, we are going to resample the data from our Fibonacci grid to a regular longitude/latitude grid. we do this so that we obtain more fine grained control on the resampling technique. We do this with the [`pyresample`](https://pyresample.readthedocs.io/en/latest/index.html) and by using a Gaussian filter for the resampling. Gaussian resampling uses a kernel to estimate a local mean values, where the weights of the observation decreases towards the edges of the kernel. The shape of the Gaussian curve can be modified with the `sigma` parameter.\n",
    "\n",
    "Here you ca see a Gaussian kernel of 3*3 and a sigma of 1.\n",
    "\n",
    "![Source: [geeksforgeeks](https://media.geeksforgeeks.org/wp-content/uploads/20201216123116/3x3GaussianKernel.png)](https://media.geeksforgeeks.org/wp-content/uploads/20201216123116/3x3GaussianKernel.png)\n",
    "\n",
    "Now let's apply this to our data.\n",
    "\n",
    "*You don't have to understand all code here, but, at least, get an impression of the processes involved in getting good quality figures*"
   ]
  },
  {
   "cell_type": "code",
   "execution_count": null,
   "id": "15",
   "metadata": {},
   "outputs": [],
   "source": [
    "def clip_array_to_shape_file(da: xr.DataArray, clip_shape: geometry) -> xr.DataArray:\n",
    "    \"\"\"Clip Border.\n",
    "\n",
    "    Parameters\n",
    "    ----------\n",
    "    da: Xarray.DataArray\n",
    "        Raster of surface soil moisture data\n",
    "    clip_shape: shapely.Geometry\n",
    "        Border of country, province, or district\n",
    "\n",
    "    Returns\n",
    "    -------\n",
    "    Xarray.DataArray\n",
    "        Clipped raster of surface soil moisture data\n",
    "\n",
    "    \"\"\"\n",
    "    return da.rio.clip(\n",
    "        clip_shape.geometry.apply(mapping), clip_shape.crs, drop=False, invert=False\n",
    "    )\n",
    "\n",
    "\n",
    "def resample_fibgrid_to_lonlat(df: pd.DataFrame) -> tuple[xr.DataArray, ccrs.CRS]:\n",
    "    \"\"\"Fibonacci to Longitude/Latitude Grid.\n",
    "\n",
    "    Parameters\n",
    "    ----------\n",
    "    df: Pandas.DataFrame\n",
    "        Longitude/Latitude Point Data\n",
    "\n",
    "    Returns\n",
    "    -------\n",
    "    tuple[Xarray.DataArray, cartopy.crs.CRS]\n",
    "        Raster of surface soil moisture data and Cartopy CRS for plotting\n",
    "\n",
    "    \"\"\"\n",
    "    area_def = create_area_def(\n",
    "        \"mozambique_area\",\n",
    "        {\"proj\": \"longlat\", \"datum\": \"WGS84\"},\n",
    "        area_extent=[\n",
    "            30.315,\n",
    "            -27.49,\n",
    "            41.07,\n",
    "            -10.20,\n",
    "        ],\n",
    "        resolution=0.05,\n",
    "        units=\"degrees\",\n",
    "        description=\"Global 0.01x0.01 degree lat-lon grid\",\n",
    "    )\n",
    "\n",
    "    data = df.zscore.to_numpy()\n",
    "    lons = df.longitude.to_numpy()\n",
    "    lats = df.latitude.to_numpy()\n",
    "\n",
    "    swath_def = geometry.SwathDefinition(lons=lons, lats=lats)\n",
    "\n",
    "    result = resample_gauss(\n",
    "        swath_def,\n",
    "        data,\n",
    "        area_def,\n",
    "        radius_of_influence=7500,\n",
    "        sigmas=3750,\n",
    "        fill_value=None,\n",
    "    )\n",
    "    lons, lats = area_def.get_proj_vectors()\n",
    "    da = xr.DataArray(\n",
    "        result,\n",
    "        dims=(\"latitude\", \"longitude\"),\n",
    "        coords={\"latitude\": lats, \"longitude\": lons},\n",
    "    ).rio.write_crs(area_def.crs)\n",
    "\n",
    "    country_border = gpd.read_file(make_url(\"country_border_10m.gpkg\"))\n",
    "\n",
    "    da_clipped = clip_array_to_shape_file(da, country_border)\n",
    "    return da_clipped, area_def.to_cartopy_crs()\n",
    "\n",
    "\n",
    "da, crs = resample_fibgrid_to_lonlat(df_month_20260101)\n",
    "da"
   ]
  },
  {
   "cell_type": "markdown",
   "id": "16",
   "metadata": {},
   "source": [
    "The returned object is a [`xarray`](https://docs.xarray.dev/en/stable/index.html) DataArray. Xarray is a solution to work with multi-dimensional arrays. We will introduce this package into more detail later on, but for now we use it mainly for plotting."
   ]
  },
  {
   "cell_type": "markdown",
   "id": "17",
   "metadata": {},
   "source": [
    "### Initial Plot\n",
    "\n",
    "Now we are ready for plotting with `matplotlib` and `cartopy`. First we tell `matplotlib` which reference system to use for the map projection."
   ]
  },
  {
   "cell_type": "code",
   "execution_count": null,
   "id": "18",
   "metadata": {},
   "outputs": [],
   "source": [
    "projection = ccrs.PlateCarree()\n",
    "projection"
   ]
  },
  {
   "cell_type": "markdown",
   "id": "19",
   "metadata": {},
   "source": [
    "Then we tell `matplotlib` what projection the data has."
   ]
  },
  {
   "cell_type": "code",
   "execution_count": null,
   "id": "20",
   "metadata": {},
   "outputs": [],
   "source": [
    "crs"
   ]
  },
  {
   "cell_type": "markdown",
   "id": "21",
   "metadata": {},
   "source": [
    "Now we can start plotting our resampled data."
   ]
  },
  {
   "cell_type": "code",
   "execution_count": null,
   "id": "22",
   "metadata": {},
   "outputs": [],
   "source": [
    "ax = plt.axes(projection=projection)\n",
    "da.plot(ax=ax, transform=crs)"
   ]
  },
  {
   "cell_type": "markdown",
   "id": "23",
   "metadata": {},
   "source": [
    "### Basemap with Cartopy\n",
    "\n",
    "Now we further populate our plot with feature that we usually present on maps. We will now first formulate a canvas with an empty map. To start of we will define the maps size and printed resolution as well as the desired projection."
   ]
  },
  {
   "cell_type": "code",
   "execution_count": null,
   "id": "24",
   "metadata": {},
   "outputs": [],
   "source": [
    "fig = plt.figure(figsize=(8, 8), dpi=150)\n",
    "ax = plt.axes(projection=projection)"
   ]
  },
  {
   "cell_type": "markdown",
   "id": "25",
   "metadata": {},
   "source": [
    "Then we will add some graticule grid lines and coordinates as well as the country borders."
   ]
  },
  {
   "cell_type": "code",
   "execution_count": null,
   "id": "26",
   "metadata": {},
   "outputs": [],
   "source": [
    "fig = plt.figure(figsize=(8, 8), dpi=150)\n",
    "ax = plt.axes(projection=projection, frameon=True)\n",
    "\n",
    "# Map features\n",
    "gl = ax.gridlines(\n",
    "    draw_labels=True,\n",
    "    linewidth=0.6,\n",
    "    color=\"gray\",\n",
    "    alpha=0.5,\n",
    "    linestyle=\"-.\",\n",
    ")\n",
    "gl.xlabel_style = {\"size\": 7, \"color\": \"gray\"}\n",
    "gl.ylabel_style = {\"size\": 7, \"color\": \"gray\"}\n",
    "gl.top_labels, gl.right_labels = False, False\n",
    "gl.ylocator = LatitudeLocator()\n",
    "gl.xlocator = LongitudeLocator()\n",
    "gl.xformatter = LongitudeFormatter()\n",
    "gl.yformatter = LatitudeFormatter()\n",
    "\n",
    "# Border\n",
    "country_border = gpd.read_file(make_url(\"country_border_10m.gpkg\"))\n",
    "ax.add_geometries(\n",
    "    country_border.geometry,\n",
    "    crs=projection,\n",
    "    facecolor=\"none\",\n",
    "    edgecolor=\"black\",\n",
    "    linewidth=2,\n",
    ")\n",
    "\n",
    "# For viewing we set the extent\n",
    "ax.set_extent(crs.bounds, crs=crs)"
   ]
  },
  {
   "cell_type": "markdown",
   "id": "27",
   "metadata": {},
   "source": [
    "Now we are ready to plot our data on to the base map."
   ]
  },
  {
   "cell_type": "code",
   "execution_count": null,
   "id": "28",
   "metadata": {},
   "outputs": [],
   "source": [
    "fig = plt.figure(figsize=(8, 8), dpi=150)\n",
    "ax = plt.axes(projection=projection)\n",
    "\n",
    "# Map features\n",
    "gl = ax.gridlines(\n",
    "    draw_labels=True,\n",
    "    linewidth=0.6,\n",
    "    color=\"gray\",\n",
    "    alpha=0.5,\n",
    "    linestyle=\"-.\",\n",
    ")\n",
    "gl.xlabel_style = {\"size\": 7, \"color\": \"gray\"}\n",
    "gl.ylabel_style = {\"size\": 7, \"color\": \"gray\"}\n",
    "gl.top_labels, gl.right_labels = False, False\n",
    "gl.ylocator = LatitudeLocator()\n",
    "gl.xlocator = LongitudeLocator()\n",
    "gl.xformatter = LongitudeFormatter()\n",
    "gl.yformatter = LatitudeFormatter()\n",
    "\n",
    "ax.add_geometries(\n",
    "    country_border.geometry,\n",
    "    crs=projection,\n",
    "    facecolor=\"none\",\n",
    "    edgecolor=\"black\",\n",
    "    linewidth=2,\n",
    ")\n",
    "\n",
    "# Data\n",
    "levels = [-3, -2.5, -2, -1.5, -1, 0]\n",
    "im = da.plot(\n",
    "    ax=ax,\n",
    "    transform=crs,\n",
    "    cmap=\"Reds_r\",\n",
    "    add_colorbar=False,\n",
    "    levels=levels,\n",
    "    alpha=0.8,\n",
    ")"
   ]
  },
  {
   "cell_type": "markdown",
   "id": "29",
   "metadata": {},
   "source": [
    "In a final stage, we can add a color bar, so that users can interpret the data. In addition, we add a title to the plot that tell us about the main content of the data."
   ]
  },
  {
   "cell_type": "code",
   "execution_count": null,
   "id": "30",
   "metadata": {},
   "outputs": [],
   "source": [
    "fig = plt.figure(figsize=(8, 8), dpi=150)\n",
    "ax = plt.axes(projection=projection)\n",
    "\n",
    "gl = ax.gridlines(\n",
    "    draw_labels=True,\n",
    "    linewidth=0.6,\n",
    "    color=\"gray\",\n",
    "    alpha=0.5,\n",
    "    linestyle=\"-.\",\n",
    ")\n",
    "\n",
    "gl.xlabel_style = {\"size\": 7, \"color\": \"gray\"}\n",
    "gl.ylabel_style = {\"size\": 7, \"color\": \"gray\"}\n",
    "\n",
    "gl.top_labels, gl.right_labels = False, False\n",
    "\n",
    "gl.ylocator = LatitudeLocator()\n",
    "gl.xlocator = LongitudeLocator()\n",
    "gl.xformatter = LongitudeFormatter()\n",
    "gl.yformatter = LatitudeFormatter()\n",
    "\n",
    "ax.add_geometries(\n",
    "    country_border.geometry,\n",
    "    crs=projection,\n",
    "    facecolor=\"none\",\n",
    "    edgecolor=\"black\",\n",
    "    linewidth=2,\n",
    ")\n",
    "\n",
    "# Data\n",
    "levels = [-3, -2.5, -2, -1.5, -1, 0]\n",
    "im = da.plot(\n",
    "    ax=ax,\n",
    "    transform=crs,\n",
    "    cmap=\"Reds_r\",\n",
    "    add_colorbar=False,\n",
    "    levels=levels,\n",
    "    alpha=0.8,\n",
    ")\n",
    "\n",
    "# Color bar\n",
    "cbar_kwargs = {\n",
    "    \"orientation\": \"horizontal\",\n",
    "    \"shrink\": 0.6,\n",
    "    \"pad\": 0.05,\n",
    "    \"aspect\": 40,\n",
    "    \"label\": \"Drought Severity\",\n",
    "    \"spacing\": \"proportional\",\n",
    "}\n",
    "cbar = plt.colorbar(im, **cbar_kwargs)\n",
    "cbar.set_ticks(levels)\n",
    "cbar.set_ticklabels([\"\", \"Extreme\", \"Severe\", \"Moderate\", \"Mild\", \"Normal\"])\n",
    "cbar.ax.tick_params(labelsize=9, rotation=45)  # Set custom labels\n",
    "\n",
    "# Title\n",
    "fancy_datetime = pd.to_datetime(selected_date).strftime(\"%d %B %Y\")\n",
    "title = plt.title(f\"Soil moisture anomaly over Maputo ({fancy_datetime})\")"
   ]
  },
  {
   "cell_type": "markdown",
   "id": "31",
   "metadata": {},
   "source": [
    "### Drought in Maputo\n",
    "\n",
    "Now it is your turn! You will create two side-by-side subplots comparing January 1st of 2015 with 2016 for the Province of Maputo. Use the following polygons for sub-setting the province. We already defined `clip_array_to_shape_file`, which helps with clipping the raster data according to the polygons."
   ]
  },
  {
   "cell_type": "code",
   "execution_count": null,
   "id": "32",
   "metadata": {},
   "outputs": [],
   "source": [
    "province_border = gpd.read_file(make_url(\"province_border_10m.gpkg\"))\n",
    "border_maputo = province_border[province_border.shapeName == \"Maputo\"]\n",
    "da_maputo_2016 = clip_array_to_shape_file(da, border_maputo)\n",
    "da_maputo_2016"
   ]
  },
  {
   "cell_type": "markdown",
   "id": "33",
   "metadata": {},
   "source": [
    "Use `subplots` to obtain a gridded layout."
   ]
  },
  {
   "cell_type": "code",
   "execution_count": null,
   "id": "34",
   "metadata": {},
   "outputs": [],
   "source": [
    "fig, axes = plt.subplots(\n",
    "    1, 2, figsize=(8, 8), dpi=150, subplot_kw={\"projection\": projection}\n",
    ")"
   ]
  },
  {
   "cell_type": "markdown",
   "id": "35",
   "metadata": {},
   "source": [
    "Now resample the data for the additional time window."
   ]
  },
  {
   "cell_type": "code",
   "execution_count": null,
   "id": "36",
   "metadata": {},
   "outputs": [],
   "source": [
    "da_2015, crs = resample_fibgrid_to_lonlat(df_month.loc[\"2015-01-01\"])\n",
    "da_maputo_2015 = clip_array_to_shape_file(da_2015, border_maputo)"
   ]
  },
  {
   "cell_type": "markdown",
   "id": "37",
   "metadata": {},
   "source": [
    "Add the data to the subplots and make the plots pretty again"
   ]
  },
  {
   "cell_type": "code",
   "execution_count": null,
   "id": "38",
   "metadata": {},
   "outputs": [],
   "source": [
    "fig, axes = plt.subplots(\n",
    "    1, 2, figsize=(8, 8), dpi=150, subplot_kw={\"projection\": projection}\n",
    ")\n",
    "da_maputo_2015.plot(\n",
    "    ax=axes[0],\n",
    "    transform=crs,\n",
    "    cmap=\"Reds_r\",\n",
    "    add_colorbar=False,\n",
    "    levels=levels,\n",
    "    alpha=0.8,\n",
    ")\n",
    "da_maputo_2016.plot(\n",
    "    ax=axes[1],\n",
    "    transform=crs,\n",
    "    cmap=\"Reds_r\",\n",
    "    add_colorbar=False,\n",
    "    levels=levels,\n",
    "    alpha=0.8,\n",
    ")\n",
    "bounds_maputo = tuple(border_maputo.geometry.bounds.to_numpy()[0, [0, 2, 1, 3]])\n",
    "axes[0].set_extent(bounds_maputo, crs=crs)\n",
    "axes[1].set_extent(bounds_maputo, crs=crs)"
   ]
  }
 ],
 "metadata": {
  "kernelspec": {
   "display_name": "environmental-remote-sensing",
   "language": "python",
   "name": "environmental-remote-sensing"
  },
  "language_info": {
   "codemirror_mode": {
    "name": "ipython",
    "version": 3
   },
   "file_extension": ".py",
   "mimetype": "text/x-python",
   "name": "python",
   "nbconvert_exporter": "python",
   "pygments_lexer": "ipython3",
   "version": "3.13.5"
  }
 },
 "nbformat": 4,
 "nbformat_minor": 5
}
