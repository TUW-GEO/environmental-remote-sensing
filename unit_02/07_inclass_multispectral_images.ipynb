{
 "cells": [
  {
   "cell_type": "markdown",
   "id": "0",
   "metadata": {},
   "source": [
    "# Deforestation detection"
   ]
  },
  {
   "cell_type": "markdown",
   "id": "1",
   "metadata": {},
   "source": [
    "## Imports"
   ]
  },
  {
   "cell_type": "code",
   "execution_count": null,
   "id": "2",
   "metadata": {},
   "outputs": [],
   "source": [
    "import geopandas as gpd\n",
    "import hvplot.pandas\n",
    "import hvplot.xarray  # noqa\n",
    "import numpy as np\n",
    "import pandas as pd\n",
    "import xarray as xr\n",
    "\n",
    "from envrs.download_path import make_url"
   ]
  },
  {
   "cell_type": "markdown",
   "id": "3",
   "metadata": {},
   "source": [
    "## Read the data"
   ]
  },
  {
   "cell_type": "code",
   "execution_count": null,
   "id": "4",
   "metadata": {},
   "outputs": [],
   "source": [
    "# Read the cube\n",
    "cube_uri = make_url(\"HLS_clip4plots_both_b30_v20.zarr.zip\", is_zip=True)\n",
    "\n",
    "full_cube = xr.open_dataset(\n",
    "    cube_uri,\n",
    "    engine=\"zarr\",\n",
    "    consolidated=False,\n",
    ").compute()\n",
    "\n",
    "# Read the points, reproject tro match the datacube, set the index\n",
    "points_uri = make_url(\"timeline_points.geojson\")\n",
    "points = (\n",
    "    gpd.read_file(points_uri)\n",
    "    .to_crs(full_cube[\"spatial_ref\"].attrs[\"crs_wkt\"])\n",
    "    .set_index(\"intact\")\n",
    ")"
   ]
  },
  {
   "cell_type": "markdown",
   "id": "5",
   "metadata": {},
   "source": [
    "## Specify the variables indicating cloud/shadow presence"
   ]
  },
  {
   "cell_type": "code",
   "execution_count": null,
   "id": "6",
   "metadata": {},
   "outputs": [],
   "source": [
    "cirrus_col = \"cirrus cloud\"\n",
    "cloud_col = \"cloud\"\n",
    "adjacent_col = \"adjacent to cloud\"\n",
    "shadow_col = \"cloud shadow\"\n",
    "tainted_cols = [adjacent_col, cloud_col, cirrus_col, shadow_col]"
   ]
  },
  {
   "cell_type": "markdown",
   "id": "7",
   "metadata": {},
   "source": [
    "## Select the clearest observations"
   ]
  },
  {
   "cell_type": "code",
   "execution_count": null,
   "id": "8",
   "metadata": {},
   "outputs": [],
   "source": [
    "tainted_frame = (\n",
    "    full_cube[tainted_cols]\n",
    "    .to_dataarray(dim=\"mask\")\n",
    "    .any(dim=\"mask\")\n",
    "    .sum(dim=[\"x\", \"y\"])\n",
    "    .to_dataframe(name=\"count_tainted\")\n",
    "    .sort_values(by=\"count_tainted\")\n",
    ")\n",
    "\n",
    "monthly_clearest = tainted_frame.groupby(pd.Grouper(freq=\"ME\")).head(1)\n",
    "monthly_cube = full_cube.sel(time=monthly_clearest.index.values)\n",
    "\n",
    "fully_clear = tainted_frame[tainted_frame[\"count_tainted\"] == 0]\n",
    "clear_cube = full_cube.sel(time=fully_clear.index.values)"
   ]
  },
  {
   "cell_type": "markdown",
   "id": "9",
   "metadata": {},
   "source": [
    "## How an image time series looks like"
   ]
  },
  {
   "cell_type": "markdown",
   "id": "10",
   "metadata": {},
   "source": [
    "### Images need to be converted to 8 bits to set the color stretch"
   ]
  },
  {
   "cell_type": "code",
   "execution_count": null,
   "id": "11",
   "metadata": {},
   "outputs": [],
   "source": [
    "def to_rgb8(cube, r, g, b, vmax, vmin=0):\n",
    "    selected = cube[[r, g, b]].to_dataarray(\"band\")\n",
    "    stretched = (selected - vmin) / (vmax - vmin)\n",
    "\n",
    "    is_positive = (stretched >= 0) & np.isfinite(stretched)\n",
    "    positive = stretched.where(is_positive.all(dim=\"band\"), 0)\n",
    "    clipped = (\n",
    "        np.clip(255 * positive, 0, 255)\n",
    "        .astype(np.uint8)\n",
    "        .expand_dims({\"composite\": [f\"{r=}, {g=}, {b=}\"]})\n",
    "    )\n",
    "    clipped[\"band\"] = np.array([\"r\", \"g\", \"b\"], dtype=\"unicode\")\n",
    "\n",
    "    return clipped\n",
    "\n",
    "\n",
    "def plot_rgb(*args, dimname=\"composite\"):\n",
    "    return xr.concat(args, dim=dimname).hvplot.rgb(\n",
    "        x=\"x\",\n",
    "        y=\"y\",\n",
    "        bands=\"band\",\n",
    "        by=dimname,\n",
    "        groupby=\"time\",\n",
    "        subplots=True,\n",
    "        rasterize=True,\n",
    "        data_aspect=1,\n",
    "        xaxis=False,\n",
    "        yaxis=None,\n",
    "        widget_location=\"bottom\",\n",
    "    )"
   ]
  },
  {
   "cell_type": "markdown",
   "id": "12",
   "metadata": {},
   "source": [
    "## Plot a time series of the images"
   ]
  },
  {
   "cell_type": "code",
   "execution_count": null,
   "id": "13",
   "metadata": {},
   "outputs": [],
   "source": [
    "plot_rgb(\n",
    "    to_rgb8(monthly_cube, r=\"Red\", g=\"Green\", b=\"Blue\", vmax=0.15),\n",
    "    to_rgb8(monthly_cube, r=\"NIRnarrow\", g=\"SWIR1\", b=\"Red\", vmax=0.40),\n",
    ")"
   ]
  },
  {
   "cell_type": "markdown",
   "id": "14",
   "metadata": {},
   "source": [
    "## Plot just the \"fully\" clear images"
   ]
  },
  {
   "cell_type": "code",
   "execution_count": null,
   "id": "15",
   "metadata": {},
   "outputs": [],
   "source": [
    "plot_rgb(\n",
    "    to_rgb8(clear_cube, r=\"Red\", g=\"Green\", b=\"Blue\", vmax=0.15),\n",
    "    to_rgb8(clear_cube, r=\"NIRnarrow\", g=\"SWIR1\", b=\"Red\", vmax=0.40),\n",
    ")"
   ]
  },
  {
   "cell_type": "markdown",
   "id": "16",
   "metadata": {},
   "source": [
    "## Satellite pixel time series as tables"
   ]
  },
  {
   "cell_type": "markdown",
   "id": "17",
   "metadata": {},
   "source": [
    "### Pick two points one that has been deforested, and one that is intact"
   ]
  },
  {
   "cell_type": "code",
   "execution_count": null,
   "id": "18",
   "metadata": {},
   "outputs": [],
   "source": [
    "# https://tutorial.xarray.dev/intermediate/indexing/advanced-indexing.html\n",
    "# #orthogonal-indexing-in-xarray\n",
    "sel_cube = full_cube.sel(\n",
    "    x=xr.DataArray(points.geometry.x, dims=\"intact\"),\n",
    "    y=xr.DataArray(points.geometry.y, dims=\"intact\"),\n",
    "    method=\"nearest\",\n",
    ")"
   ]
  },
  {
   "cell_type": "markdown",
   "id": "19",
   "metadata": {},
   "source": [
    "### Flatten (xarray dataset/\"cube\" to pandas dataframe/table)"
   ]
  },
  {
   "cell_type": "code",
   "execution_count": null,
   "id": "20",
   "metadata": {},
   "outputs": [],
   "source": [
    "sel_frame = (\n",
    "    sel_cube.drop_vars(\"spatial_ref\")\n",
    "    .to_dataframe()\n",
    "    .drop(columns=[\"x\", \"y\"])\n",
    "    .reset_index()\n",
    ")"
   ]
  },
  {
   "cell_type": "markdown",
   "id": "21",
   "metadata": {},
   "source": [
    "### Prepare auxiliary variables for plotting"
   ]
  },
  {
   "cell_type": "code",
   "execution_count": null,
   "id": "22",
   "metadata": {},
   "outputs": [],
   "source": [
    "def normalized_difference(frame, positive, negative):\n",
    "    numerator = frame[positive] - frame[negative]\n",
    "    denominator = frame[positive] + frame[negative]\n",
    "    return numerator / denominator\n",
    "\n",
    "\n",
    "sel_frame[\"NDVI\"] = normalized_difference(sel_frame, \"NIRnarrow\", \"Red\")\n",
    "sel_frame[\"NDMI\"] = normalized_difference(sel_frame, \"NIRnarrow\", \"SWIR1\")\n",
    "sel_frame[\"DOY\"] = sel_frame[\"time\"].dt.dayofyear"
   ]
  },
  {
   "cell_type": "markdown",
   "id": "23",
   "metadata": {},
   "source": [
    "### Split the table into intact and deforested"
   ]
  },
  {
   "cell_type": "code",
   "execution_count": null,
   "id": "24",
   "metadata": {},
   "outputs": [],
   "source": [
    "deforested_frame = sel_frame[~sel_frame[\"intact\"]]\n",
    "intact_frame = sel_frame[sel_frame[\"intact\"]]"
   ]
  },
  {
   "cell_type": "markdown",
   "id": "25",
   "metadata": {},
   "source": [
    "## Clouds and shadows taint our time series"
   ]
  },
  {
   "cell_type": "code",
   "execution_count": null,
   "id": "26",
   "metadata": {},
   "outputs": [],
   "source": [
    "intact_frame.loc[:, \"flag\"] = \"clear\"\n",
    "intact_frame.loc[intact_frame[tainted_cols[1:]].any(axis=1), \"flag\"] = \"cloud/shadow\"\n",
    "intact_frame.loc[intact_frame[tainted_cols[0]], \"flag\"] = \"adjacent\"\n",
    "\n",
    "\n",
    "intact_frame.hvplot.scatter(\n",
    "    x=\"time\", y=\"Green\", by=\"flag\", color=[\"green\", \"black\", \"orange\"]\n",
    ")"
   ]
  },
  {
   "cell_type": "markdown",
   "id": "27",
   "metadata": {},
   "source": [
    "## Filter out flagged observations"
   ]
  },
  {
   "cell_type": "code",
   "execution_count": null,
   "id": "28",
   "metadata": {},
   "outputs": [],
   "source": [
    "intact_masked = intact_frame[~intact_frame[tainted_cols].any(axis=1)].copy()\n",
    "deforested_masked = deforested_frame[~deforested_frame[tainted_cols].any(axis=1)].copy()"
   ]
  },
  {
   "cell_type": "markdown",
   "id": "29",
   "metadata": {},
   "source": [
    "## Removed the cloud, the timeline becomes clearer"
   ]
  },
  {
   "cell_type": "code",
   "execution_count": null,
   "id": "30",
   "metadata": {},
   "outputs": [],
   "source": [
    "tetracolor_kwargs = {\n",
    "    \"x\": \"time\",\n",
    "    \"y\": [\"Blue\", \"Green\", \"Red\", \"NIRnarrow\"],\n",
    "    \"color\": [\"blue\", \"green\", \"red\", \"darkgray\"],\n",
    "}\n",
    "\n",
    "intact_masked.hvplot(**tetracolor_kwargs)  # .legend(loc=\"upper left\", ncols=4);"
   ]
  },
  {
   "cell_type": "markdown",
   "id": "31",
   "metadata": {},
   "source": [
    "## Spikes could be unmasked clouds/shadows\n",
    "\n",
    "A massive value difference respective to its neighbors indicates the presence of possible outliers"
   ]
  },
  {
   "cell_type": "code",
   "execution_count": null,
   "id": "32",
   "metadata": {},
   "outputs": [],
   "source": [
    "def despike(frame, columns, min_spike, max_spike):\n",
    "    summed = frame[columns].sum(axis=1)\n",
    "\n",
    "    # Perform the selections\n",
    "    central = summed.iloc[1:-1]\n",
    "    prior = summed.shift(-1).iloc[1:-1]\n",
    "    posterior = summed.shift(1).iloc[1:-1]\n",
    "\n",
    "    # remove observations based on their saliency respective to their neighbors\n",
    "    spikyness = central - (prior + posterior) / 2\n",
    "    floor, ceiling = spikyness.quantile((min_spike, max_spike))\n",
    "    selected = central[spikyness.between(floor, ceiling)]\n",
    "\n",
    "    return frame.loc[selected.index]\n",
    "\n",
    "\n",
    "cutoff = 0.05\n",
    "band_names = [\"Blue\", \"Green\", \"Red\", \"NIRnarrow\", \"SWIR1\", \"SWIR2\"]\n",
    "\n",
    "intact_despiked = despike(intact_masked, band_names, cutoff, 1 - cutoff)\n",
    "deforested_despiked = despike(deforested_masked, band_names, cutoff, 1 - cutoff)"
   ]
  },
  {
   "cell_type": "code",
   "execution_count": null,
   "id": "33",
   "metadata": {},
   "outputs": [],
   "source": [
    "(\n",
    "    intact_masked.hvplot(x=\"time\", y=\"NIRnarrow\", color=\"k\")\n",
    "    * intact_despiked.hvplot(x=\"time\", y=\"NIRnarrow\", color=\"darkgray\")\n",
    ")"
   ]
  },
  {
   "cell_type": "markdown",
   "id": "34",
   "metadata": {},
   "source": [
    "## The spikes as anomalies\n",
    "\n",
    "These spikes are anolalies on the context where they appear, but they may or\n",
    "may not be global outliers when compared with the full population."
   ]
  },
  {
   "cell_type": "code",
   "execution_count": null,
   "id": "35",
   "metadata": {},
   "outputs": [],
   "source": [
    "spike_frame = intact_masked.iloc[1:-1].drop(index=intact_despiked.index)"
   ]
  },
  {
   "cell_type": "code",
   "execution_count": null,
   "id": "36",
   "metadata": {},
   "outputs": [],
   "source": [
    "# DOY = day of the year\n",
    "(\n",
    "    intact_masked.hvplot.scatter(x=\"Red\", y=\"NIRnarrow\", c=\"DOY\", colormap=\"twilight\")\n",
    "    * spike_frame.hvplot.scatter(x=\"Red\", y=\"NIRnarrow\", marker=\"x\", s=90, color=\"red\")\n",
    ")"
   ]
  },
  {
   "cell_type": "markdown",
   "id": "37",
   "metadata": {},
   "source": [
    "The isolated points far above and below the general population would be\n",
    "global outliers, whereas the rest were outliers on their specific context."
   ]
  },
  {
   "cell_type": "markdown",
   "id": "38",
   "metadata": {},
   "source": [
    "## The signature of deforestation"
   ]
  },
  {
   "cell_type": "code",
   "execution_count": null,
   "id": "39",
   "metadata": {},
   "outputs": [],
   "source": [
    "intact_despiked.hvplot(**tetracolor_kwargs)"
   ]
  },
  {
   "cell_type": "code",
   "execution_count": null,
   "id": "40",
   "metadata": {},
   "outputs": [],
   "source": [
    "deforested_despiked.hvplot(**tetracolor_kwargs)"
   ]
  },
  {
   "cell_type": "markdown",
   "id": "41",
   "metadata": {},
   "source": [
    "## With Indices"
   ]
  },
  {
   "cell_type": "code",
   "execution_count": null,
   "id": "42",
   "metadata": {},
   "outputs": [],
   "source": [
    "compare_frame = (\n",
    "    pd.concat({\"deforested\": deforested_despiked, \"intact\": intact_despiked}, axis=0)\n",
    "    .reset_index(names=[\"history\", \"index\"])\n",
    "    .drop(columns=\"index\")\n",
    ")"
   ]
  },
  {
   "cell_type": "code",
   "execution_count": null,
   "id": "43",
   "metadata": {},
   "outputs": [],
   "source": [
    "compare_frame.hvplot.line(\n",
    "    x=\"time\", y=\"NDVI\", by=\"history\", color=[\"black\", \"limegreen\"]\n",
    ")"
   ]
  }
 ],
 "metadata": {
  "kernelspec": {
   "display_name": "environmental-remote-sensing",
   "language": "python",
   "name": "environmental-remote-sensing"
  },
  "language_info": {
   "codemirror_mode": {
    "name": "ipython",
    "version": 3
   },
   "file_extension": ".py",
   "mimetype": "text/x-python",
   "name": "python",
   "nbconvert_exporter": "python",
   "pygments_lexer": "ipython3",
   "version": "3.13.5"
  }
 },
 "nbformat": 4,
 "nbformat_minor": 5
}
