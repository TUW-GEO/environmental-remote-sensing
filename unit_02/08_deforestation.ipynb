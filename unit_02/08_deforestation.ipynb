{
 "cells": [
  {
   "cell_type": "markdown",
   "id": "0",
   "metadata": {},
   "source": [
    "# Deforestation Analysis in Mozambique\n",
    "## A machine Learning Approach\n",
    "\n",
    "In this notebook, we will focus on the classification of deforestation in Mozambique.\n",
    "We will be useing a `Machine Learning` approach to classify the forest cover (as explained in the previous notebook) and will be covering the deforestation here, where we will specifically have a look at the changes in forest cover over time.\n",
    "\n",
    "It is assumed here that you are already familiar with the previous notebook, since we will be useing the forest cover classification as a basis for the deforestation analysis."
   ]
  },
  {
   "cell_type": "code",
   "execution_count": null,
   "id": "1",
   "metadata": {},
   "outputs": [],
   "source": [
    "from typing import Any\n",
    "\n",
    "import matplotlib.colors as mcolors\n",
    "import matplotlib.pyplot as plt\n",
    "import xarray as xr"
   ]
  },
  {
   "cell_type": "code",
   "execution_count": null,
   "id": "2",
   "metadata": {},
   "outputs": [],
   "source": [
    "%run ../src/download_path.py\n",
    "\n",
    "common_url_params: dict[str, Any] = {\n",
    "    \"branch\": \"dev\",\n",
    "    \"is_zip\": True,\n",
    "}\n",
    "\n",
    "url_before = make_url(  # noqa\n",
    "    \"forest_classification_2018.zarr.zip\",\n",
    "    **common_url_params,\n",
    ")\n",
    "url_after = make_url(  # noqa\n",
    "    \"forest_classification_2024.zarr.zip\",\n",
    "    **common_url_params,\n",
    ")\n",
    "url_dc = make_url(  # noqa\n",
    "    \"HLS_T36KXE_2024_b30_v2.zarr.zip\",\n",
    "    **common_url_params,\n",
    ")"
   ]
  },
  {
   "cell_type": "code",
   "execution_count": null,
   "id": "3",
   "metadata": {},
   "outputs": [],
   "source": [
    "common_params: dict[str, Any] = {\n",
    "    \"engine\": \"zarr\",\n",
    "    \"consolidated\": False,\n",
    "}\n",
    "forest_before = xr.open_dataarray(url_before, **common_params)\n",
    "forest_after = xr.open_dataarray(url_after, **common_params)\n",
    "img = xr.open_dataset(url_dc, **common_params)"
   ]
  },
  {
   "cell_type": "code",
   "execution_count": null,
   "id": "4",
   "metadata": {},
   "outputs": [],
   "source": [
    "bit_zero = 1 << 0  # 0b01\n",
    "bit_one = 1 << 1  # 0b10\n",
    "forest_label_value = 1\n",
    "# fmt: off\n",
    "deforestation = (\n",
    "    (forest_before == forest_label_value) * bit_zero\n",
    "    + (forest_after == forest_label_value) * bit_one\n",
    ")\n",
    "# fmt: on\n",
    "\n",
    "deforestation_value = int(\"0b01\", 2)  # before=1 and after=0 -> was forest but not now\n",
    "deforestation = deforestation.where(deforestation == deforestation_value)"
   ]
  },
  {
   "cell_type": "code",
   "execution_count": null,
   "id": "5",
   "metadata": {},
   "outputs": [],
   "source": [
    "cmap_red = mcolors.ListedColormap([\"#FF2600\"])\n",
    "cmap_green = mcolors.ListedColormap([\"#00FF20\"])\n",
    "fig, ax = plt.subplots()\n",
    "img[[\"Red\", \"Green\", \"Blue\"]].sel(quantile=0.5).to_dataarray().plot.imshow(\n",
    "    robust=True,\n",
    "    ax=ax,\n",
    ")\n",
    "deforestation.squeeze().plot.imshow(ax=ax, alpha=1, cmap=cmap_red, add_colorbar=False)\n",
    "forest_after.where(forest_after == forest_label_value).squeeze().plot.imshow(\n",
    "    ax=ax,\n",
    "    alpha=0.3,\n",
    "    cmap=cmap_green,\n",
    "    add_colorbar=False,\n",
    ")\n",
    "plt.show()"
   ]
  },
  {
   "cell_type": "code",
   "execution_count": null,
   "id": "6",
   "metadata": {},
   "outputs": [],
   "source": []
  }
 ],
 "metadata": {
  "kernelspec": {
   "display_name": "environmental-remote-sensing",
   "language": "python",
   "name": "environmental-remote-sensing"
  },
  "language_info": {
   "codemirror_mode": {
    "name": "ipython",
    "version": 3
   },
   "file_extension": ".py",
   "mimetype": "text/x-python",
   "name": "python",
   "nbconvert_exporter": "python",
   "pygments_lexer": "ipython3",
   "version": "3.13.5"
  }
 },
 "nbformat": 4,
 "nbformat_minor": 5
}
