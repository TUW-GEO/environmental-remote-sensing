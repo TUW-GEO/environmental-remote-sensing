{
 "cells": [
  {
   "cell_type": "code",
   "execution_count": 1,
   "id": "0",
   "metadata": {},
   "outputs": [],
   "source": [
    "from pathlib import Path\n",
    "\n",
    "import numpy as np\n",
    "import rioxarray as rxr\n",
    "import xarray as xr"
   ]
  },
  {
   "cell_type": "code",
   "execution_count": 2,
   "id": "1",
   "metadata": {},
   "outputs": [],
   "source": [
    "from hls_tools import preprocess_bands, preprocess_fmask"
   ]
  },
  {
   "cell_type": "code",
   "execution_count": 3,
   "id": "2",
   "metadata": {},
   "outputs": [],
   "source": [
    "PARENT_DIR = Path(r\"~/Downloads/hls\").expanduser()\n",
    "\n",
    "IN_DIR = PARENT_DIR / \"automated\""
   ]
  },
  {
   "cell_type": "markdown",
   "id": "3",
   "metadata": {},
   "source": [
    "## List the files"
   ]
  },
  {
   "cell_type": "code",
   "execution_count": 4,
   "id": "4",
   "metadata": {},
   "outputs": [],
   "source": [
    "product, tile, res, version = \"HLS\", \"T36KXE\", \"30\", \"v2.0\"\n",
    "\n",
    "band_paths = sorted(IN_DIR.glob(f\"{product}_{tile}_*{res}_{version}_bands.tif\"))"
   ]
  },
  {
   "cell_type": "code",
   "execution_count": 5,
   "id": "5",
   "metadata": {},
   "outputs": [],
   "source": [
    "fmask_paths = [p.parent / p.name.replace(\"_bands\", \"_fmask\") for p in band_paths]"
   ]
  },
  {
   "cell_type": "markdown",
   "id": "6",
   "metadata": {},
   "source": [
    "## Preprocess the Fmask"
   ]
  },
  {
   "cell_type": "code",
   "execution_count": 6,
   "id": "7",
   "metadata": {},
   "outputs": [],
   "source": [
    "fmask = xr.open_mfdataset(\n",
    "    fmask_paths,\n",
    "    chunks=\"auto\",\n",
    "    concat_dim=\"time\",\n",
    "    combine=\"nested\",\n",
    "    preprocess=preprocess_fmask,\n",
    "    mask_and_scale=False,\n",
    "    engine=\"rasterio\",\n",
    "    parallel=True,\n",
    ")"
   ]
  },
  {
   "cell_type": "markdown",
   "id": "8",
   "metadata": {},
   "source": [
    "## Preprocess the bands"
   ]
  },
  {
   "cell_type": "code",
   "execution_count": 7,
   "id": "9",
   "metadata": {},
   "outputs": [],
   "source": [
    "bands = xr.open_mfdataset(\n",
    "    band_paths,\n",
    "    chunks=\"auto\",\n",
    "    concat_dim=\"time\",\n",
    "    combine=\"nested\",\n",
    "    preprocess=preprocess_bands,\n",
    "    engine=\"rasterio\",\n",
    "    parallel=True,\n",
    "    band_as_variable=True,\n",
    ")"
   ]
  },
  {
   "cell_type": "markdown",
   "id": "10",
   "metadata": {},
   "source": [
    "## Make a raster definition"
   ]
  },
  {
   "cell_type": "code",
   "execution_count": 8,
   "id": "11",
   "metadata": {},
   "outputs": [],
   "source": [
    "example_bands = rxr.open_rasterio(band_paths[0])  # .encoding\n",
    "\n",
    "example_attrs = example_bands.attrs\n",
    "example_encoding = example_bands.encoding\n",
    "\n",
    "crs = example_bands.rio.crs\n",
    "transform = example_bands.rio.transform()"
   ]
  },
  {
   "cell_type": "markdown",
   "id": "12",
   "metadata": {},
   "source": [
    "## Mask and make the yearly mosaics"
   ]
  },
  {
   "cell_type": "code",
   "execution_count": 9,
   "id": "13",
   "metadata": {},
   "outputs": [],
   "source": [
    "first_year = bands[\"time\"].min().dt.year.item()\n",
    "last_year = bands[\"time\"].max().dt.year.item()"
   ]
  },
  {
   "cell_type": "code",
   "execution_count": 10,
   "id": "14",
   "metadata": {},
   "outputs": [],
   "source": [
    "out_attrs = {}\n",
    "out_encoding = {\n",
    "    \"dtype\": example_encoding[\"rasterio_dtype\"],\n",
    "    \"add_offset\": example_attrs[\"add_offset\"],\n",
    "    \"scale_factor\": example_attrs[\"scale_factor\"],\n",
    "    \"_FillValue\": example_attrs[\"_FillValue\"],\n",
    "    \"zlib\": True,\n",
    "}\n",
    "\n",
    "# What to exclude\n",
    "cloud_flags = [\"cloud shadow\", \"adjacent to cloud\", \"cloud\", \"cirrus cloud\"]\n",
    "\n",
    "# For every year\n",
    "for target_year in range(first_year, last_year + 1):\n",
    "\n",
    "    out_path = PARENT_DIR / f\"{product}_{tile}_{target_year}_b{res}_{version}.nc\"\n",
    "    if out_path.exists():\n",
    "        continue\n",
    "\n",
    "    # define what to mask\n",
    "    is_cloudy = (\n",
    "        fmask[\"masks\"]\n",
    "        .sel(time=(fmask.time.dt.year == target_year), flag=cloud_flags)\n",
    "        .any(dim=\"flag\")\n",
    "    )\n",
    "\n",
    "    # Mask the bands, calculate the quantiles\n",
    "    quantiles = (\n",
    "        bands.sel(time=(bands.time.dt.year == target_year))\n",
    "        .sortby(\"time\")\n",
    "        .where(np.logical_not(is_cloudy))\n",
    "        .quantile(np.arange(0, 1.01, 0.1), dim=\"time\", skipna=True)\n",
    "        .sortby(\"y\", ascending=False)\n",
    "    )\n",
    "\n",
    "    # Apply the scaling\n",
    "    referenced = quantiles.rio.write_crs(crs).rio.write_transform(transform)\n",
    "\n",
    "    # set the attributes and the encoding\n",
    "    for band_name in quantiles.keys():\n",
    "\n",
    "        referenced[band_name].attrs.update(long_name=band_name, **out_attrs)\n",
    "        referenced[band_name].encoding.update(**out_encoding)\n",
    "\n",
    "    # Write\n",
    "    referenced.to_netcdf(out_path)\n",
    "\n",
    "    print(target_year)"
   ]
  }
 ],
 "metadata": {
  "kernelspec": {
   "display_name": "environmental-remote-sensing",
   "language": "python",
   "name": "python3"
  },
  "language_info": {
   "codemirror_mode": {
    "name": "ipython",
    "version": 3
   },
   "file_extension": ".py",
   "mimetype": "text/x-python",
   "name": "python",
   "nbconvert_exporter": "python",
   "pygments_lexer": "ipython3",
   "version": "3.13.5"
  }
 },
 "nbformat": 4,
 "nbformat_minor": 5
}
