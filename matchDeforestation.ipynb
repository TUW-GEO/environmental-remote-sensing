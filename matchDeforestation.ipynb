{
 "cells": [
  {
   "cell_type": "code",
   "execution_count": 59,
   "id": "fe868c20",
   "metadata": {},
   "outputs": [],
   "source": [
    "import geopandas as gpd\n",
    "import pandas as pd\n",
    "from rasterio.enums import Resampling\n",
    "import xarray as xr"
   ]
  },
  {
   "cell_type": "code",
   "execution_count": 2,
   "id": "3b64ce40",
   "metadata": {},
   "outputs": [],
   "source": [
    "quantitative = xr.open_zarr(\"/shares/iborlafm/home/20250729-DrySat/data/harmonised-vegetation-300m.zarr\", consolidated=False)\n",
    "quantitative.rio.write_crs(\"EPSG:4326\", inplace=True);"
   ]
  },
  {
   "cell_type": "code",
   "execution_count": 3,
   "id": "d8536689",
   "metadata": {},
   "outputs": [
    {
     "data": {
      "text/plain": [
       "CRS.from_wkt('GEOGCS[\"WGS 84\",DATUM[\"WGS_1984\",SPHEROID[\"WGS 84\",6378137,298.257223563,AUTHORITY[\"EPSG\",\"7030\"]],AUTHORITY[\"EPSG\",\"6326\"]],PRIMEM[\"Greenwich\",0,AUTHORITY[\"EPSG\",\"8901\"]],UNIT[\"degree\",0.0174532925199433,AUTHORITY[\"EPSG\",\"9122\"]],AXIS[\"Latitude\",NORTH],AXIS[\"Longitude\",EAST],AUTHORITY[\"EPSG\",\"4326\"]]')"
      ]
     },
     "execution_count": 3,
     "metadata": {},
     "output_type": "execute_result"
    }
   ],
   "source": [
    "quantitative.rio.crs"
   ]
  },
  {
   "cell_type": "code",
   "execution_count": 4,
   "id": "ee07eb2f",
   "metadata": {},
   "outputs": [],
   "source": [
    "qualitative = (\n",
    "    xr.open_dataset(\"/home/iborlafm/Downloads/Mozambique/Hansen/Hansen_GFC-2024-v1.12_lossyear_Gorongosa_gte2015.tif\", mask_and_scale=False)\n",
    "    .sel(band=1)[\"band_data\"].drop_vars(\"band\")\n",
    "    #.rename({\"y\": \"lat\", \"x\": \"lon\"})\n",
    "    )"
   ]
  },
  {
   "cell_type": "code",
   "execution_count": 5,
   "id": "6703b25c",
   "metadata": {},
   "outputs": [],
   "source": [
    "spatial_ref = quantitative[\"spatial_ref\"].attrs"
   ]
  },
  {
   "cell_type": "code",
   "execution_count": 28,
   "id": "ab51828c",
   "metadata": {},
   "outputs": [],
   "source": [
    "deforested_pixels = (\n",
    "    qualitative.rio.reproject_match(quantitative, resampling=Resampling.sum)\n",
    "    .rename(\"deforested_pixels\")\n",
    "    )"
   ]
  },
  {
   "cell_type": "code",
   "execution_count": 65,
   "id": "0def9f6c",
   "metadata": {},
   "outputs": [],
   "source": [
    "most_deforested = (\n",
    "    deforested_pixels.drop_vars(\"spatial_ref\").to_dataframe().reset_index()\n",
    "    .sort_values(\"deforested_pixels\", ascending=False, ignore_index=True)\n",
    "    .head(10)\n",
    "    )\n",
    "\n",
    "most_deforested = gpd.GeoDataFrame(\n",
    "    most_deforested,#[[\"deforested_pixels\"]],\n",
    "    geometry=gpd.points_from_xy(\n",
    "        x=most_deforested[\"x\"],\n",
    "        y=most_deforested[\"y\"],\n",
    "        crs=quantitative.rio.crs\n",
    "        ),\n",
    "    crs=quantitative.rio.crs\n",
    ")"
   ]
  },
  {
   "cell_type": "code",
   "execution_count": null,
   "id": "66377e33",
   "metadata": {},
   "outputs": [],
   "source": [
    "quantitative"
   ]
  },
  {
   "cell_type": "code",
   "execution_count": 66,
   "id": "f72d6aed",
   "metadata": {},
   "outputs": [
    {
     "data": {
      "text/html": [
       "<div>\n",
       "<style scoped>\n",
       "    .dataframe tbody tr th:only-of-type {\n",
       "        vertical-align: middle;\n",
       "    }\n",
       "\n",
       "    .dataframe tbody tr th {\n",
       "        vertical-align: top;\n",
       "    }\n",
       "\n",
       "    .dataframe thead th {\n",
       "        text-align: right;\n",
       "    }\n",
       "</style>\n",
       "<table border=\"1\" class=\"dataframe\">\n",
       "  <thead>\n",
       "    <tr style=\"text-align: right;\">\n",
       "      <th></th>\n",
       "      <th>y</th>\n",
       "      <th>x</th>\n",
       "      <th>deforested_pixels</th>\n",
       "      <th>geometry</th>\n",
       "    </tr>\n",
       "  </thead>\n",
       "  <tbody>\n",
       "    <tr>\n",
       "      <th>0</th>\n",
       "      <td>-18.818452</td>\n",
       "      <td>34.017857</td>\n",
       "      <td>142</td>\n",
       "      <td>POINT (34.01786 -18.81845)</td>\n",
       "    </tr>\n",
       "    <tr>\n",
       "      <th>1</th>\n",
       "      <td>-18.848214</td>\n",
       "      <td>34.038690</td>\n",
       "      <td>142</td>\n",
       "      <td>POINT (34.03869 -18.84821)</td>\n",
       "    </tr>\n",
       "    <tr>\n",
       "      <th>2</th>\n",
       "      <td>-18.845238</td>\n",
       "      <td>34.029762</td>\n",
       "      <td>142</td>\n",
       "      <td>POINT (34.02976 -18.84524)</td>\n",
       "    </tr>\n",
       "    <tr>\n",
       "      <th>3</th>\n",
       "      <td>-18.845238</td>\n",
       "      <td>34.032738</td>\n",
       "      <td>142</td>\n",
       "      <td>POINT (34.03274 -18.84524)</td>\n",
       "    </tr>\n",
       "    <tr>\n",
       "      <th>4</th>\n",
       "      <td>-18.845238</td>\n",
       "      <td>34.038690</td>\n",
       "      <td>140</td>\n",
       "      <td>POINT (34.03869 -18.84524)</td>\n",
       "    </tr>\n",
       "    <tr>\n",
       "      <th>5</th>\n",
       "      <td>-18.889881</td>\n",
       "      <td>34.062500</td>\n",
       "      <td>140</td>\n",
       "      <td>POINT (34.0625 -18.88988)</td>\n",
       "    </tr>\n",
       "    <tr>\n",
       "      <th>6</th>\n",
       "      <td>-18.848214</td>\n",
       "      <td>34.035714</td>\n",
       "      <td>140</td>\n",
       "      <td>POINT (34.03571 -18.84821)</td>\n",
       "    </tr>\n",
       "    <tr>\n",
       "      <th>7</th>\n",
       "      <td>-18.839286</td>\n",
       "      <td>34.035714</td>\n",
       "      <td>139</td>\n",
       "      <td>POINT (34.03571 -18.83929)</td>\n",
       "    </tr>\n",
       "    <tr>\n",
       "      <th>8</th>\n",
       "      <td>-18.815476</td>\n",
       "      <td>34.017857</td>\n",
       "      <td>139</td>\n",
       "      <td>POINT (34.01786 -18.81548)</td>\n",
       "    </tr>\n",
       "    <tr>\n",
       "      <th>9</th>\n",
       "      <td>-18.845238</td>\n",
       "      <td>34.035714</td>\n",
       "      <td>138</td>\n",
       "      <td>POINT (34.03571 -18.84524)</td>\n",
       "    </tr>\n",
       "  </tbody>\n",
       "</table>\n",
       "</div>"
      ],
      "text/plain": [
       "           y          x  deforested_pixels                    geometry\n",
       "0 -18.818452  34.017857                142  POINT (34.01786 -18.81845)\n",
       "1 -18.848214  34.038690                142  POINT (34.03869 -18.84821)\n",
       "2 -18.845238  34.029762                142  POINT (34.02976 -18.84524)\n",
       "3 -18.845238  34.032738                142  POINT (34.03274 -18.84524)\n",
       "4 -18.845238  34.038690                140  POINT (34.03869 -18.84524)\n",
       "5 -18.889881  34.062500                140   POINT (34.0625 -18.88988)\n",
       "6 -18.848214  34.035714                140  POINT (34.03571 -18.84821)\n",
       "7 -18.839286  34.035714                139  POINT (34.03571 -18.83929)\n",
       "8 -18.815476  34.017857                139  POINT (34.01786 -18.81548)\n",
       "9 -18.845238  34.035714                138  POINT (34.03571 -18.84524)"
      ]
     },
     "execution_count": 66,
     "metadata": {},
     "output_type": "execute_result"
    }
   ],
   "source": [
    "most_deforested"
   ]
  },
  {
   "cell_type": "code",
   "execution_count": 64,
   "id": "65f04c07",
   "metadata": {},
   "outputs": [],
   "source": [
    "most_deforested.to_file(\"/home/iborlafm/Downloads/Mozambique/Hansen/Hansen_GFC-2024-v1.12_most_Gorongosa_gte2015.geojson\")"
   ]
  },
  {
   "cell_type": "code",
   "execution_count": 39,
   "id": "c7b7f2f4",
   "metadata": {},
   "outputs": [],
   "source": [
    "lat_max, lon_max = most_deforested.loc[0, [\"y\", \"x\"]]"
   ]
  },
  {
   "cell_type": "code",
   "execution_count": 32,
   "id": "79b57a5f",
   "metadata": {},
   "outputs": [
    {
     "data": {
      "text/plain": [
       "{'y': 56, 'x': 23}"
      ]
     },
     "execution_count": 32,
     "metadata": {},
     "output_type": "execute_result"
    }
   ],
   "source": [
    "max_idx"
   ]
  },
  {
   "cell_type": "code",
   "execution_count": 43,
   "id": "2c0afc72",
   "metadata": {},
   "outputs": [],
   "source": [
    "timeline = (\n",
    "    quantitative.sel(lat=lat_max, lon=lon_max)\n",
    "    .drop_vars([\"spatial_ref\", \"crs\"]) #, \"lat\", \"lon\"\n",
    "    .to_dataframe()\n",
    "    .dropna()\n",
    "    .reset_index()\n",
    "    )"
   ]
  },
  {
   "cell_type": "code",
   "execution_count": 54,
   "id": "8ae3eed7",
   "metadata": {},
   "outputs": [],
   "source": [
    "dates = (\n",
    "    timeline[\"year\"].astype(str) +\n",
    "    timeline[\"month\"].astype(str).str.zfill(2) +\n",
    "    \"15\"\n",
    "    )\n",
    "\n",
    "timeline[\"date\"] = pd.to_datetime(dates, format=r\"%Y%m%d\")"
   ]
  },
  {
   "cell_type": "code",
   "execution_count": 57,
   "id": "7af7091c",
   "metadata": {},
   "outputs": [
    {
     "data": {
      "text/plain": [
       "<Axes: xlabel='date'>"
      ]
     },
     "execution_count": 57,
     "metadata": {},
     "output_type": "execute_result"
    },
    {
     "data": {
      "image/png": "[encoded data removed]",
      "text/plain": [
       "<Figure size 640x480 with 1 Axes>"
      ]
     },
     "metadata": {},
     "output_type": "display_data"
    }
   ],
   "source": [
    "timeline.plot(x=\"date\", y=\"FAPAR\")"
   ]
  }
 ],
 "metadata": {
  "kernelspec": {
   "display_name": "environmental-remote-sensing",
   "language": "python",
   "name": "python3"
  },
  "language_info": {
   "codemirror_mode": {
    "name": "ipython",
    "version": 3
   },
   "file_extension": ".py",
   "mimetype": "text/x-python",
   "name": "python",
   "nbconvert_exporter": "python",
   "pygments_lexer": "ipython3",
   "version": "3.11.13"
  }
 },
 "nbformat": 4,
 "nbformat_minor": 5
}
