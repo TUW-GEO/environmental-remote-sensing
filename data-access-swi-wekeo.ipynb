{
 "cells": [
  {
   "cell_type": "markdown",
   "id": "0",
   "metadata": {},
   "source": [
    "# Access to Historic Soil Moisture Data\n",
    "**Downloading, Reading and Working with Copernicus WEKEO Soil Water Index 12.5 km** \n",
    "\n",
    "\n",
    "## Overview\n",
    "\n",
    "\n",
    "## Imports"
   ]
  },
  {
   "cell_type": "code",
   "execution_count": null,
   "id": "1",
   "metadata": {},
   "outputs": [],
   "source": [
    "import os\n",
    "\n",
    "import cartopy.crs as ccrs\n",
    "import hvplot.pandas  # noqa\n",
    "import xarray as xr\n",
    "from dotenv import dotenv_values\n",
    "from hda import Client, Configuration"
   ]
  },
  {
   "cell_type": "code",
   "execution_count": null,
   "id": "2",
   "metadata": {},
   "outputs": [],
   "source": [
    "conf = Configuration(\n",
    "    user=dotenv_values(\".env\")[\"USER_WEKEO\"],\n",
    "    password=dotenv_values(\".env\")[\"PASS_WEKEO\"],\n",
    ")\n",
    "hda_client = Client(config=conf)"
   ]
  },
  {
   "cell_type": "code",
   "execution_count": null,
   "id": "3",
   "metadata": {},
   "outputs": [],
   "source": [
    "query = {\n",
    "    \"dataset_id\": \"EO:CLMS:DAT:CLMS_GLOBAL_SWI_12.5KM_V3_TIME-SERIES_NETCDF\",\n",
    "    \"bbox\": [\n",
    "        30.315105942117828,\n",
    "        -27.488474233587713,\n",
    "        41.07238227721744,\n",
    "        -10.203047702100717,\n",
    "    ],\n",
    "    \"itemsPerPage\": 200,\n",
    "    \"startIndex\": 0,\n",
    "}\n",
    "\n",
    "matches = hda_client.search(query)\n",
    "\n",
    "print(matches)"
   ]
  },
  {
   "cell_type": "code",
   "execution_count": null,
   "id": "4",
   "metadata": {},
   "outputs": [],
   "source": [
    "%%capture\n",
    "\n",
    "local_path = \"cgls_swi_12_5\"\n",
    "\n",
    "if not os.path.isdir(local_path):\n",
    "    os.mkdir(local_path)\n",
    "\n",
    "matches.download(download_dir=local_path)"
   ]
  },
  {
   "cell_type": "code",
   "execution_count": null,
   "id": "5",
   "metadata": {},
   "outputs": [],
   "source": [
    "def _preprocess(ds: xr.Dataset):\n",
    "    return ds.SWI_010\n",
    "\n",
    "\n",
    "df = xr.open_mfdataset(\n",
    "    \"cgls_swi_12_5/*.nc\",\n",
    "    combine=\"nested\",\n",
    "    parallel=True,\n",
    "    chunks=-1,\n",
    "    preprocess=_preprocess,\n",
    ").to_dataframe()\n",
    "df"
   ]
  },
  {
   "cell_type": "code",
   "execution_count": null,
   "id": "6",
   "metadata": {},
   "outputs": [],
   "source": [
    "%run ./src/ssm_cmap.py\n",
    "\n",
    "df.hvplot.points(\n",
    "    x=\"lon\",\n",
    "    y=\"lat\",\n",
    "    c=\"SWI_010\",\n",
    "    groupby=\"time\",\n",
    "    x_sampling=0.16,\n",
    "    y_sampling=0.16,\n",
    "    rasterize=True,\n",
    "    crs=ccrs.PlateCarree(),\n",
    "    tiles=True,\n",
    "    cmap=SSM_CMAP,  # noqa\n",
    "    clim=(0, 100),\n",
    "    frame_width=500,\n",
    "    clabel=\"Soil Water Index\",\n",
    ")"
   ]
  }
 ],
 "metadata": {
  "kernelspec": {
   "display_name": "environmental-remote-sensing",
   "language": "python",
   "name": "environmental-remote-sensing"
  },
  "language_info": {
   "codemirror_mode": {
    "name": "ipython",
    "version": 3
   },
   "file_extension": ".py",
   "mimetype": "text/x-python",
   "name": "python",
   "nbconvert_exporter": "python",
   "pygments_lexer": "ipython3",
   "version": "3.11.13"
  }
 },
 "nbformat": 4,
 "nbformat_minor": 5
}
