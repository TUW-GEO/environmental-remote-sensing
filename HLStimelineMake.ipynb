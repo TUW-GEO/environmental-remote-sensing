{
 "cells": [
  {
   "cell_type": "code",
   "execution_count": 1,
   "id": "4d35f0a4",
   "metadata": {},
   "outputs": [],
   "source": [
    "import numpy as np\n",
    "from pathlib import Path\n",
    "import rioxarray as rxr\n",
    "import xarray as xr"
   ]
  },
  {
   "cell_type": "code",
   "execution_count": 2,
   "id": "7956af9b",
   "metadata": {},
   "outputs": [],
   "source": [
    "from src.hls_tools import preprocess_fmask, preprocess_bands"
   ]
  },
  {
   "cell_type": "code",
   "execution_count": 3,
   "id": "e21771c2",
   "metadata": {},
   "outputs": [],
   "source": [
    "PARENT_DIR = Path(r\"/home/iborlafm/Downloads/Mozambique/hls\")\n",
    "\n",
    "clip = \"intact\"\n",
    "\n",
    "IN_DIR = PARENT_DIR / f\"clip_{clip}\""
   ]
  },
  {
   "cell_type": "markdown",
   "id": "f91ceefd",
   "metadata": {},
   "source": [
    "## List the files"
   ]
  },
  {
   "cell_type": "code",
   "execution_count": 4,
   "id": "ba90b6c9",
   "metadata": {},
   "outputs": [],
   "source": [
    "product, tile, res, version = \"HLS\", \"T36KXE\", \"30\", \"v2.0\"\n",
    "\n",
    "band_paths = sorted(IN_DIR.glob(f\"{product}_{tile}_*{res}_{version}_bands.tif\"))"
   ]
  },
  {
   "cell_type": "code",
   "execution_count": 5,
   "id": "d771ef57",
   "metadata": {},
   "outputs": [],
   "source": [
    "fmask_paths = [p.parent / p.name.replace(\"_bands\", \"_fmask\") for p in band_paths]"
   ]
  },
  {
   "cell_type": "markdown",
   "id": "db72d6e2",
   "metadata": {},
   "source": [
    "## Preprocess the bands"
   ]
  },
  {
   "cell_type": "code",
   "execution_count": 6,
   "id": "6acbead3",
   "metadata": {},
   "outputs": [],
   "source": [
    "bands = xr.open_mfdataset(\n",
    "    band_paths,\n",
    "    chunks=\"auto\",\n",
    "    concat_dim=\"time\",\n",
    "    combine=\"nested\",\n",
    "    preprocess=preprocess_bands,\n",
    "    # mask_and_scale=False,\n",
    "    engine=\"rasterio\",\n",
    "    parallel=True,\n",
    "    band_as_variable=True,\n",
    "    )"
   ]
  },
  {
   "cell_type": "markdown",
   "id": "07ca4d73",
   "metadata": {},
   "source": [
    "## Preprocess the Fmask"
   ]
  },
  {
   "cell_type": "code",
   "execution_count": 7,
   "id": "fa794499",
   "metadata": {},
   "outputs": [],
   "source": [
    "fmask = xr.open_mfdataset(\n",
    "    fmask_paths,\n",
    "    chunks=\"auto\",\n",
    "    concat_dim=\"time\",\n",
    "    combine=\"nested\",\n",
    "    preprocess=preprocess_fmask,\n",
    "    mask_and_scale=False,\n",
    "    engine=\"rasterio\",\n",
    "    parallel=True\n",
    "    )"
   ]
  },
  {
   "cell_type": "markdown",
   "id": "c1b456e5",
   "metadata": {},
   "source": [
    "## Make a raster definition"
   ]
  },
  {
   "cell_type": "code",
   "execution_count": 8,
   "id": "b0cdf108",
   "metadata": {},
   "outputs": [],
   "source": [
    "example_bands = rxr.open_rasterio(band_paths[0])#.encoding\n",
    "\n",
    "example_attrs = example_bands.attrs\n",
    "example_encoding = example_bands.encoding\n",
    "\n",
    "crs = example_bands.rio.crs\n",
    "transform = example_bands.rio.transform()"
   ]
  },
  {
   "cell_type": "markdown",
   "id": "527a4de4",
   "metadata": {},
   "source": [
    "## Make and apply the encodings"
   ]
  },
  {
   "cell_type": "code",
   "execution_count": 9,
   "id": "337ee215",
   "metadata": {},
   "outputs": [],
   "source": [
    "band_atts = {}\n",
    "\n",
    "band_encoding = {\n",
    "    'dtype': example_encoding[\"rasterio_dtype\"],\n",
    "    'add_offset': example_attrs[\"add_offset\"],\n",
    "    'scale_factor': example_attrs[\"scale_factor\"],\n",
    "    '_FillValue': example_attrs[\"_FillValue\"],\n",
    "    \"zlib\": True,\n",
    "    \"grid_mapping\": \"spatial_ref\"\n",
    "}\n",
    "\n",
    "fmask_encoding = {\"zlib\": True, \"grid_mapping\": \"spatial_ref\"} # \"dtype\": \"uint8\", "
   ]
  },
  {
   "cell_type": "code",
   "execution_count": 10,
   "id": "a45cd4ea",
   "metadata": {},
   "outputs": [],
   "source": [
    "bands.attrs.update(**band_atts)\n",
    "bands.encoding = band_encoding\n",
    "bands.rio.write_crs(crs, inplace=True)\n",
    "bands.rio.write_transform(transform, inplace=True)\n",
    "\n",
    "masks = fmask[\"masks\"].to_dataset(dim=\"flag\")\n",
    "masks.rio.write_crs(crs, inplace=True)\n",
    "masks.rio.write_transform(transform, inplace=True)\n",
    "#masks.encoding = fmask_encoding\n",
    "\n",
    "aerosol = fmask[\"aerosol\"]\n",
    "aerosol.rio.write_crs(crs, inplace=True)\n",
    "aerosol.rio.write_transform(transform, inplace=True);\n",
    "#aerosol.encoding = fmask_encoding"
   ]
  },
  {
   "cell_type": "code",
   "execution_count": 11,
   "id": "e1e89dfb",
   "metadata": {},
   "outputs": [],
   "source": [
    "encoding = {}\n",
    "for band_name in bands.data_vars:\n",
    "    encoding[band_name] = band_encoding\n",
    "\n",
    "for mask_name in masks.data_vars:\n",
    "    encoding[mask_name] = fmask_encoding\n",
    "\n",
    "encoding[\"aerosol\"] = fmask_encoding"
   ]
  },
  {
   "cell_type": "markdown",
   "id": "2775e05b",
   "metadata": {},
   "source": [
    "## Write"
   ]
  },
  {
   "cell_type": "code",
   "execution_count": 12,
   "id": "6512e366",
   "metadata": {},
   "outputs": [],
   "source": [
    "merged = xr.merge([bands, masks, aerosol])"
   ]
  },
  {
   "cell_type": "code",
   "execution_count": 14,
   "id": "42c9ee08",
   "metadata": {},
   "outputs": [],
   "source": [
    "merged.to_netcdf(PARENT_DIR / f\"{product}_{clip}_b{res}_{version}.nc\", encoding=encoding)"
   ]
  }
 ],
 "metadata": {
  "kernelspec": {
   "display_name": "environmental-remote-sensing",
   "language": "python",
   "name": "python3"
  },
  "language_info": {
   "codemirror_mode": {
    "name": "ipython",
    "version": 3
   },
   "file_extension": ".py",
   "mimetype": "text/x-python",
   "name": "python",
   "nbconvert_exporter": "python",
   "pygments_lexer": "ipython3",
   "version": "3.11.13"
  }
 },
 "nbformat": 4,
 "nbformat_minor": 5
}
